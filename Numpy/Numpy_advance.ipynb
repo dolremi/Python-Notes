{
 "cells": [
  {
   "cell_type": "markdown",
   "metadata": {},
   "source": [
    "# The advance features in Numpy\n",
    "There are a lot of advanced features in numpy:\n",
    "* Broadcasting\n",
    "* ufunc usage\n",
    "* structured and record array\n",
    "This section we will briefly explore some of them."
   ]
  },
  {
   "cell_type": "markdown",
   "metadata": {},
   "source": [
    "## Broadcasting\n",
    "__Broadcasting__ describes how arithmetic works between arrays of different shapes."
   ]
  },
  {
   "cell_type": "code",
   "execution_count": 1,
   "metadata": {
    "collapsed": false
   },
   "outputs": [
    {
     "data": {
      "text/plain": [
       "array([ 0,  4,  8, 12, 16, 20])"
      ]
     },
     "execution_count": 1,
     "metadata": {},
     "output_type": "execute_result"
    }
   ],
   "source": [
    "import numpy as np\n",
    "arr = np.arange(6)\n",
    "arr * 4"
   ]
  },
  {
   "cell_type": "markdown",
   "metadata": {},
   "source": [
    "The scalar value __4__ has ben _broadcast_ to all of the other elments to all of the other elements in the example above."
   ]
  },
  {
   "cell_type": "code",
   "execution_count": 2,
   "metadata": {
    "collapsed": false
   },
   "outputs": [],
   "source": [
    "arr = np.random.randn(5, 3)"
   ]
  },
  {
   "cell_type": "code",
   "execution_count": 3,
   "metadata": {
    "collapsed": false
   },
   "outputs": [],
   "source": [
    "zero_mean = arr.mean(0)"
   ]
  },
  {
   "cell_type": "code",
   "execution_count": 4,
   "metadata": {
    "collapsed": false
   },
   "outputs": [
    {
     "data": {
      "text/plain": [
       "(3,)"
      ]
     },
     "execution_count": 4,
     "metadata": {},
     "output_type": "execute_result"
    }
   ],
   "source": [
    "zero_mean.shape"
   ]
  },
  {
   "cell_type": "code",
   "execution_count": 5,
   "metadata": {
    "collapsed": true
   },
   "outputs": [],
   "source": [
    "test = arr - zero_mean"
   ]
  },
  {
   "cell_type": "code",
   "execution_count": 6,
   "metadata": {
    "collapsed": false
   },
   "outputs": [
    {
     "data": {
      "text/plain": [
       "array([[ 0.106022  ,  0.27164727, -0.76114162],\n",
       "       [ 0.35445334, -0.42133455,  0.34628824],\n",
       "       [ 0.05510637, -0.89005128, -1.25306941],\n",
       "       [-0.37421091, -0.29796135,  1.62540707],\n",
       "       [-0.14137079,  1.3376999 ,  0.04251571]])"
      ]
     },
     "execution_count": 6,
     "metadata": {},
     "output_type": "execute_result"
    }
   ],
   "source": [
    "test"
   ]
  },
  {
   "cell_type": "markdown",
   "metadata": {},
   "source": [
    "From the example above, we can see an important the broadcasting rule: two arrays are compatible for __broadcasting__ if for each _trailing dimension_, the axis lengths match or if either of the lengths is 1. Broadcasting is then performed over the missing and / or length 1 dimensions. "
   ]
  },
  {
   "cell_type": "markdown",
   "metadata": {},
   "source": [
    "Thus, the trailing dimensions in __arr__ is 3 since the second dimension is empty, it matches so the broadcasting can be applied. Then we can test the previous example by reshap it."
   ]
  },
  {
   "cell_type": "code",
   "execution_count": 7,
   "metadata": {
    "collapsed": false
   },
   "outputs": [
    {
     "data": {
      "text/plain": [
       "array([[ 0.106022  ,  0.27164727, -0.76114162],\n",
       "       [ 0.35445334, -0.42133455,  0.34628824],\n",
       "       [ 0.05510637, -0.89005128, -1.25306941],\n",
       "       [-0.37421091, -0.29796135,  1.62540707],\n",
       "       [-0.14137079,  1.3376999 ,  0.04251571]])"
      ]
     },
     "execution_count": 7,
     "metadata": {},
     "output_type": "execute_result"
    }
   ],
   "source": [
    "zero_mean.reshape(3, 1)\n",
    "test = arr - zero_mean\n",
    "test"
   ]
  },
  {
   "cell_type": "markdown",
   "metadata": {},
   "source": [
    "According to the __rule__ above, broadcasting over other axis should be caution."
   ]
  },
  {
   "cell_type": "code",
   "execution_count": 8,
   "metadata": {
    "collapsed": false
   },
   "outputs": [
    {
     "ename": "ValueError",
     "evalue": "operands could not be broadcast together with shapes (5,3) (5,) ",
     "output_type": "error",
     "traceback": [
      "\u001b[0;31m---------------------------------------------------------------------------\u001b[0m",
      "\u001b[0;31mValueError\u001b[0m                                Traceback (most recent call last)",
      "\u001b[0;32m<ipython-input-8-7b87b85a20b2>\u001b[0m in \u001b[0;36m<module>\u001b[0;34m()\u001b[0m\n\u001b[0;32m----> 1\u001b[0;31m \u001b[0marr\u001b[0m \u001b[0;34m-\u001b[0m \u001b[0marr\u001b[0m\u001b[0;34m.\u001b[0m\u001b[0mmean\u001b[0m\u001b[0;34m(\u001b[0m\u001b[0;36m1\u001b[0m\u001b[0;34m)\u001b[0m\u001b[0;34m\u001b[0m\u001b[0m\n\u001b[0m",
      "\u001b[0;31mValueError\u001b[0m: operands could not be broadcast together with shapes (5,3) (5,) "
     ]
    }
   ],
   "source": [
    "arr - arr.mean(1)"
   ]
  },
  {
   "cell_type": "code",
   "execution_count": 10,
   "metadata": {
    "collapsed": false
   },
   "outputs": [
    {
     "data": {
      "text/plain": [
       "array([[ 0.26844593,  0.40767158, -0.67611751],\n",
       "       [ 0.29591747, -0.50627003,  0.21035256],\n",
       "       [ 0.78571095, -0.18584631, -0.59986464],\n",
       "       [-0.65735604, -0.60750609,  1.26486213],\n",
       "       [-0.51971925,  0.93295182, -0.41323257]])"
      ]
     },
     "execution_count": 10,
     "metadata": {},
     "output_type": "execute_result"
    }
   ],
   "source": [
    "arr - arr.mean(1).reshape(5,1)"
   ]
  },
  {
   "cell_type": "markdown",
   "metadata": {},
   "source": [
    "A common problem is needing to add a new axis with length 1 specifically for boardcasting purposes."
   ]
  },
  {
   "cell_type": "code",
   "execution_count": 11,
   "metadata": {
    "collapsed": false
   },
   "outputs": [
    {
     "data": {
      "text/plain": [
       "array([[ 0.56210033, -0.30190933, -0.0206805 ,  0.50941415],\n",
       "       [ 0.14063325, -0.27912115, -0.29001508,  0.28827494],\n",
       "       [ 0.61606837, -0.27201633,  0.18779557, -0.25129182]])"
      ]
     },
     "execution_count": 11,
     "metadata": {},
     "output_type": "execute_result"
    }
   ],
   "source": [
    "arr = np.random.randn(3, 4, 5)\n",
    "deep_mean = arr.mean(2)\n",
    "deep_mean"
   ]
  },
  {
   "cell_type": "code",
   "execution_count": 12,
   "metadata": {
    "collapsed": false
   },
   "outputs": [
    {
     "data": {
      "text/plain": [
       "array([[[ -2.46508264e-01,  -3.54272676e-01,   1.01019908e-01,\n",
       "           5.42192616e-01,  -4.24315838e-02],\n",
       "        [ -6.65518143e-01,  -4.15537905e-01,   1.11271465e+00,\n",
       "          -1.17226507e+00,   1.14060646e+00],\n",
       "        [ -4.66729847e-01,   4.42614262e-01,   8.08505370e-01,\n",
       "           7.44809441e-02,  -8.58870730e-01],\n",
       "        [  2.07778431e-03,   4.06737103e-01,  -7.69917597e-01,\n",
       "           8.37557343e-01,  -4.76454633e-01]],\n",
       "\n",
       "       [[  1.40095912e+00,  -1.05064059e+00,  -1.43505382e+00,\n",
       "          -3.52671619e-01,   1.43740691e+00],\n",
       "        [  6.02438728e-01,  -6.54356749e-01,   8.53725303e-01,\n",
       "          -9.14455540e-01,   1.12648258e-01],\n",
       "        [  3.39993962e-01,   1.71679167e+00,  -2.38189540e+00,\n",
       "          -9.93251512e-02,   4.24434916e-01],\n",
       "        [ -3.40242581e-01,  -4.70190950e-02,   2.59198919e-01,\n",
       "           2.35064432e+00,  -2.22258157e+00]],\n",
       "\n",
       "       [[ -5.78044319e-01,  -8.39925328e-01,  -8.61201405e-01,\n",
       "           1.33357408e+00,   9.45596970e-01],\n",
       "        [ -2.06841922e-01,   2.06492803e+00,   1.43328987e+00,\n",
       "          -1.89830239e+00,  -1.39307359e+00],\n",
       "        [  4.15362404e-02,  -7.91369047e-02,  -1.65261814e-01,\n",
       "          -3.08049569e-01,   5.10912047e-01],\n",
       "        [ -1.62680814e+00,  -3.15859752e-01,   1.28238076e+00,\n",
       "           7.29627886e-01,  -6.93407561e-02]]])"
      ]
     },
     "execution_count": 12,
     "metadata": {},
     "output_type": "execute_result"
    }
   ],
   "source": [
    "result = arr - deep_mean[:, :, np.newaxis]\n",
    "result"
   ]
  },
  {
   "cell_type": "code",
   "execution_count": 13,
   "metadata": {
    "collapsed": true
   },
   "outputs": [],
   "source": [
    "cols = np.array([3.49, -0.94, 5.92, 1.3])"
   ]
  },
  {
   "cell_type": "code",
   "execution_count": 14,
   "metadata": {
    "collapsed": false
   },
   "outputs": [
    {
     "data": {
      "text/plain": [
       "array([[ 3.49,  3.49,  3.49],\n",
       "       [-0.94, -0.94, -0.94],\n",
       "       [ 5.92,  5.92,  5.92],\n",
       "       [ 1.3 ,  1.3 ,  1.3 ]])"
      ]
     },
     "execution_count": 14,
     "metadata": {},
     "output_type": "execute_result"
    }
   ],
   "source": [
    "test = np.zeros((4, 3))\n",
    "test[:] = cols[:, np.newaxis]\n",
    "test"
   ]
  },
  {
   "cell_type": "code",
   "execution_count": 15,
   "metadata": {
    "collapsed": false
   },
   "outputs": [
    {
     "data": {
      "text/plain": [
       "array([[ 100.43 ,  100.43 ,  100.43 ],\n",
       "       [ -56.943,  -56.943,  -56.943],\n",
       "       [   5.92 ,    5.92 ,    5.92 ],\n",
       "       [   1.3  ,    1.3  ,    1.3  ]])"
      ]
     },
     "execution_count": 15,
     "metadata": {},
     "output_type": "execute_result"
    }
   ],
   "source": [
    "test[:2] = [[100.43],[-56.943]]\n",
    "test"
   ]
  },
  {
   "cell_type": "markdown",
   "metadata": {},
   "source": [
    "## ufunc instance methods\n",
    "__ufunc__ provide a series of functions that can avoid writing loops."
   ]
  },
  {
   "cell_type": "code",
   "execution_count": 16,
   "metadata": {
    "collapsed": false
   },
   "outputs": [
    {
     "data": {
      "text/plain": [
       "45"
      ]
     },
     "execution_count": 16,
     "metadata": {},
     "output_type": "execute_result"
    }
   ],
   "source": [
    "arr = np.arange(10)\n",
    "np.add.reduce(arr)"
   ]
  },
  {
   "cell_type": "code",
   "execution_count": 17,
   "metadata": {
    "collapsed": true
   },
   "outputs": [],
   "source": [
    "arr = np.random.randn(5, 5)\n",
    "arr[::2].sort(1)"
   ]
  },
  {
   "cell_type": "code",
   "execution_count": 18,
   "metadata": {
    "collapsed": false
   },
   "outputs": [
    {
     "data": {
      "text/plain": [
       "array([[ True,  True,  True,  True],\n",
       "       [False,  True, False,  True],\n",
       "       [ True,  True,  True,  True],\n",
       "       [ True,  True, False,  True],\n",
       "       [ True,  True,  True,  True]], dtype=bool)"
      ]
     },
     "execution_count": 18,
     "metadata": {},
     "output_type": "execute_result"
    }
   ],
   "source": [
    "arr[:,:-1] < arr[:, 1:]"
   ]
  },
  {
   "cell_type": "code",
   "execution_count": 19,
   "metadata": {
    "collapsed": false
   },
   "outputs": [
    {
     "data": {
      "text/plain": [
       "array([ True, False,  True, False,  True], dtype=bool)"
      ]
     },
     "execution_count": 19,
     "metadata": {},
     "output_type": "execute_result"
    }
   ],
   "source": [
    "np.logical_and.reduce(arr[:,:-1] < arr[:, 1:], axis = 1)"
   ]
  },
  {
   "cell_type": "markdown",
   "metadata": {},
   "source": [
    "It is equivalent to __`np.where`__ with __`np.logical_and.redue`__. "
   ]
  },
  {
   "cell_type": "code",
   "execution_count": 20,
   "metadata": {
    "collapsed": false
   },
   "outputs": [
    {
     "data": {
      "text/plain": [
       "array([ True, False,  True, False,  True], dtype=bool)"
      ]
     },
     "execution_count": 20,
     "metadata": {},
     "output_type": "execute_result"
    }
   ],
   "source": [
    "np.all(arr[:,:-1] < arr[:,1:], axis = 1)"
   ]
  },
  {
   "cell_type": "markdown",
   "metadata": {},
   "source": [
    "__`accumulate`__ is related to __`reduce`__ like __`cumsum`__ is related to __`sum`__, and produces the intermediate _accumulated_ values."
   ]
  },
  {
   "cell_type": "code",
   "execution_count": 21,
   "metadata": {
    "collapsed": false
   },
   "outputs": [
    {
     "data": {
      "text/plain": [
       "array([[ 0,  1,  3,  6, 10],\n",
       "       [ 5, 11, 18, 26, 35],\n",
       "       [10, 21, 33, 46, 60]])"
      ]
     },
     "execution_count": 21,
     "metadata": {},
     "output_type": "execute_result"
    }
   ],
   "source": [
    "arr = np.arange(15).reshape((3, 5))\n",
    "np.add.accumulate(arr, axis = 1)"
   ]
  },
  {
   "cell_type": "markdown",
   "metadata": {},
   "source": [
    "__`outer`__ performs a pairwise cross-product between two arrays. "
   ]
  },
  {
   "cell_type": "code",
   "execution_count": 22,
   "metadata": {
    "collapsed": true
   },
   "outputs": [],
   "source": [
    "arr = np.random.randn(5)\n",
    "result = np.multiply.outer(arr, np.arange(5))"
   ]
  },
  {
   "cell_type": "code",
   "execution_count": 23,
   "metadata": {
    "collapsed": false
   },
   "outputs": [
    {
     "data": {
      "text/plain": [
       "array([[-0.        , -0.51155877, -1.02311753, -1.5346763 , -2.04623507],\n",
       "       [ 0.        ,  0.25523709,  0.51047418,  0.76571127,  1.02094835],\n",
       "       [-0.        , -1.00592493, -2.01184986, -3.01777478, -4.02369971],\n",
       "       [ 0.        ,  0.2120256 ,  0.42405119,  0.63607679,  0.84810239],\n",
       "       [-0.        , -0.01899536, -0.03799072, -0.05698608, -0.07598144]])"
      ]
     },
     "execution_count": 23,
     "metadata": {},
     "output_type": "execute_result"
    }
   ],
   "source": [
    "result"
   ]
  },
  {
   "cell_type": "markdown",
   "metadata": {},
   "source": [
    "__`reduceat`__ performs a _local reduce_ to have a similar __groupby__ functionality. "
   ]
  },
  {
   "cell_type": "code",
   "execution_count": 24,
   "metadata": {
    "collapsed": false
   },
   "outputs": [
    {
     "data": {
      "text/plain": [
       "array([10, 18, 17])"
      ]
     },
     "execution_count": 24,
     "metadata": {},
     "output_type": "execute_result"
    }
   ],
   "source": [
    "arr = np.arange(10)\n",
    "np.add.reduceat(arr, [0, 5, 8])"
   ]
  },
  {
   "cell_type": "markdown",
   "metadata": {},
   "source": [
    "## Structured array and record array\n",
    "As we know, numpy ndarry is a _homogeneous_ data container, a block of memory where each element takes up the same number of bytes determined by __dtype__. There is an advanced concept in numpy called _structured array_ or datatype that is an ndarray where each element can represent a _heterogeneous_ data similar a __struct__ in C."
   ]
  },
  {
   "cell_type": "code",
   "execution_count": 25,
   "metadata": {
    "collapsed": false
   },
   "outputs": [],
   "source": [
    " x = np.array([(1, 0.43, \"This is\"), (934, -5.1, \"world\")],\n",
    "               dtype = [('ID', 'i4'), ('Measure', '>f4'),('Value', \"|S10\")])"
   ]
  },
  {
   "cell_type": "code",
   "execution_count": 27,
   "metadata": {
    "collapsed": false
   },
   "outputs": [
    {
     "data": {
      "text/plain": [
       "(934, -5.099999904632568, b'world')"
      ]
     },
     "execution_count": 27,
     "metadata": {},
     "output_type": "execute_result"
    }
   ],
   "source": [
    "x[1]"
   ]
  },
  {
   "cell_type": "markdown",
   "metadata": {},
   "source": [
    "From the example, one can conclude that the _structured array_ is defined through the __dtype__object. And the fields of a record can be specified with __four__ alternative ways.\n",
    "* ### String argument\n",
    "The structure expects a comma-seperated list of type specifiers, optionally with extra shape information."
   ]
  },
  {
   "cell_type": "code",
   "execution_count": 28,
   "metadata": {
    "collapsed": false
   },
   "outputs": [
    {
     "data": {
      "text/plain": [
       "array([ ([0, 0], [0.0, 0.0, 0.0], [[0j, 0j, 0j, 0j, 0j, 0j], [0j, 0j, 0j, 0j, 0j, 0j], [0j, 0j, 0j, 0j, 0j, 0j], [0j, 0j, 0j, 0j, 0j, 0j]]),\n",
       "       ([0, 0], [0.0, 0.0, 0.0], [[0j, 0j, 0j, 0j, 0j, 0j], [0j, 0j, 0j, 0j, 0j, 0j], [0j, 0j, 0j, 0j, 0j, 0j], [0j, 0j, 0j, 0j, 0j, 0j]])], \n",
       "      dtype=[('f0', '<i4', (2,)), ('f1', '<f4', (3,)), ('f2', '<c8', (4, 6))])"
      ]
     },
     "execution_count": 28,
     "metadata": {},
     "output_type": "execute_result"
    }
   ],
   "source": [
    "x = np.zeros(2, dtype=\"2i4, 3f4, (4, 6)c8\")\n",
    "x"
   ]
  },
  {
   "cell_type": "markdown",
   "metadata": {},
   "source": [
    "* ### Tuple argument\n",
    "When a structure is mapped to an existing data type, pairing a tuple for the exisitng type with a matching dtype definition. "
   ]
  },
  {
   "cell_type": "code",
   "execution_count": 33,
   "metadata": {
    "collapsed": false
   },
   "outputs": [
    {
     "data": {
      "text/plain": [
       "array([1, 1, 1, 1], dtype=int32)"
      ]
     },
     "execution_count": 33,
     "metadata": {},
     "output_type": "execute_result"
    }
   ],
   "source": [
    "x = np.ones(4, dtype = ('i4', [('r', 'u1'), ('g', 'u1'), ('b', 'u1'),('a', 'u1')]))\n",
    "x"
   ]
  },
  {
   "cell_type": "markdown",
   "metadata": {},
   "source": [
    "* ### List Argument\n",
    "A list of tuples can be applied. In each tuple, those elements can be found:\n",
    "1. The name of field\n",
    "2. The type of field\n",
    "3. The shape as optional element"
   ]
  },
  {
   "cell_type": "code",
   "execution_count": 34,
   "metadata": {
    "collapsed": false
   },
   "outputs": [
    {
     "data": {
      "text/plain": [
       "array([(1.0, 1, [[1.0, 1.0, 1.0, 1.0], [1.0, 1.0, 1.0, 1.0]]),\n",
       "       (1.0, 1, [[1.0, 1.0, 1.0, 1.0], [1.0, 1.0, 1.0, 1.0]]),\n",
       "       (1.0, 1, [[1.0, 1.0, 1.0, 1.0], [1.0, 1.0, 1.0, 1.0]]),\n",
       "       (1.0, 1, [[1.0, 1.0, 1.0, 1.0], [1.0, 1.0, 1.0, 1.0]]),\n",
       "       (1.0, 1, [[1.0, 1.0, 1.0, 1.0], [1.0, 1.0, 1.0, 1.0]])], \n",
       "      dtype=[('type', '<f4'), ('age', '<i4'), ('value', '<f4', (2, 4))])"
      ]
     },
     "execution_count": 34,
     "metadata": {},
     "output_type": "execute_result"
    }
   ],
   "source": [
    "x = np.ones(5, dtype=[('type', 'f4'), ('age','i4'), ('value', 'f4', (2,4))])\n",
    "x"
   ]
  },
  {
   "cell_type": "code",
   "execution_count": 35,
   "metadata": {
    "collapsed": false
   },
   "outputs": [
    {
     "data": {
      "text/plain": [
       "array([[[ 1.,  1.,  1.,  1.],\n",
       "        [ 1.,  1.,  1.,  1.]],\n",
       "\n",
       "       [[ 1.,  1.,  1.,  1.],\n",
       "        [ 1.,  1.,  1.,  1.]],\n",
       "\n",
       "       [[ 1.,  1.,  1.,  1.],\n",
       "        [ 1.,  1.,  1.,  1.]],\n",
       "\n",
       "       [[ 1.,  1.,  1.,  1.],\n",
       "        [ 1.,  1.,  1.,  1.]],\n",
       "\n",
       "       [[ 1.,  1.,  1.,  1.],\n",
       "        [ 1.,  1.,  1.,  1.]]], dtype=float32)"
      ]
     },
     "execution_count": 35,
     "metadata": {},
     "output_type": "execute_result"
    }
   ],
   "source": [
    "x['value']"
   ]
  },
  {
   "cell_type": "markdown",
   "metadata": {},
   "source": [
    "* ### Dictionary Argument\n",
    "There are two different forms:\n",
    "* A dictionary consists of __names__ and __formats__ as required keys, each has an equal sized list of values.\n",
    "* A dictionary consists of name keys with tuple values specifying type, offset and an optional title."
   ]
  },
  {
   "cell_type": "code",
   "execution_count": 38,
   "metadata": {
    "collapsed": false
   },
   "outputs": [
    {
     "data": {
      "text/plain": [
       "array([(0, 0.0), (0, 0.0), (0, 0.0)], \n",
       "      dtype=[('first', '<i4'), ('last', '<f4')])"
      ]
     },
     "execution_count": 38,
     "metadata": {},
     "output_type": "execute_result"
    }
   ],
   "source": [
    "np.zeros(3, dtype={'names': ['first', 'last'], 'formats':['i4', 'f4']})"
   ]
  },
  {
   "cell_type": "code",
   "execution_count": 40,
   "metadata": {
    "collapsed": false
   },
   "outputs": [
    {
     "data": {
      "text/plain": [
       "array([(0, 0.0), (0, 0.0), (0, 0.0), (0, 0.0)], \n",
       "      dtype=[(('title 1', 'first'), 'i1'), (('title 2', 'second'), '<f4')])"
      ]
     },
     "execution_count": 40,
     "metadata": {},
     "output_type": "execute_result"
    }
   ],
   "source": [
    "x = np.zeros(4, dtype={'first': ('i1', 0, 'title 1'), 'second': ('f4', 1, 'title 2')})"
   ]
  },
  {
   "cell_type": "markdown",
   "metadata": {},
   "source": [
    "## Accesing fields\n",
    "One can access field names of dtype objects, and all other related information. With that information, one can access multiple fields by passing a list of field names as an index into the array itslef."
   ]
  },
  {
   "cell_type": "code",
   "execution_count": 41,
   "metadata": {
    "collapsed": false
   },
   "outputs": [
    {
     "data": {
      "text/plain": [
       "('type', 'age', 'value')"
      ]
     },
     "execution_count": 41,
     "metadata": {},
     "output_type": "execute_result"
    }
   ],
   "source": [
    "x.dtype.names"
   ]
  },
  {
   "cell_type": "code",
   "execution_count": 42,
   "metadata": {
    "collapsed": false
   },
   "outputs": [
    {
     "data": {
      "text/plain": [
       "mappingproxy({'age': (dtype('int32'), 4),\n",
       "              'type': (dtype('float32'), 0),\n",
       "              'value': (dtype(('<f4', (2, 4))), 8)})"
      ]
     },
     "execution_count": 42,
     "metadata": {},
     "output_type": "execute_result"
    }
   ],
   "source": [
    "x.dtype.fields"
   ]
  },
  {
   "cell_type": "code",
   "execution_count": 46,
   "metadata": {
    "collapsed": false
   },
   "outputs": [
    {
     "data": {
      "text/plain": [
       "4"
      ]
     },
     "execution_count": 46,
     "metadata": {},
     "output_type": "execute_result"
    }
   ],
   "source": [
    "x.dtype.fields['age'][1]"
   ]
  },
  {
   "cell_type": "code",
   "execution_count": 47,
   "metadata": {
    "collapsed": false
   },
   "outputs": [
    {
     "data": {
      "text/plain": [
       "array([(1.0, [[1.0, 1.0, 1.0, 1.0], [1.0, 1.0, 1.0, 1.0]]),\n",
       "       (1.0, [[1.0, 1.0, 1.0, 1.0], [1.0, 1.0, 1.0, 1.0]]),\n",
       "       (1.0, [[1.0, 1.0, 1.0, 1.0], [1.0, 1.0, 1.0, 1.0]]),\n",
       "       (1.0, [[1.0, 1.0, 1.0, 1.0], [1.0, 1.0, 1.0, 1.0]]),\n",
       "       (1.0, [[1.0, 1.0, 1.0, 1.0], [1.0, 1.0, 1.0, 1.0]])], \n",
       "      dtype=[('type', '<f4'), ('value', '<f4', (2, 4))])"
      ]
     },
     "execution_count": 47,
     "metadata": {},
     "output_type": "execute_result"
    }
   ],
   "source": [
    "x[['type', 'value']]"
   ]
  },
  {
   "cell_type": "markdown",
   "metadata": {},
   "source": [
    "## Record Array\n",
    "__Record Array__ allows one to acess fields of structured array by __attribute rather than by index__ using a subclass of ndarray called __`numpy.recarray`__."
   ]
  },
  {
   "cell_type": "code",
   "execution_count": 48,
   "metadata": {
    "collapsed": true
   },
   "outputs": [],
   "source": [
    "x = np.rec.array([(1, 0.43, \"This is\"), (934, -5.1, \"world\")],\n",
    "               dtype = [('ID', 'i4'), ('Measure', '>f4'),('Value', \"|S10\")])"
   ]
  },
  {
   "cell_type": "code",
   "execution_count": 49,
   "metadata": {
    "collapsed": false
   },
   "outputs": [
    {
     "data": {
      "text/plain": [
       "array([  1, 934], dtype=int32)"
      ]
     },
     "execution_count": 49,
     "metadata": {},
     "output_type": "execute_result"
    }
   ],
   "source": [
    "x.ID"
   ]
  },
  {
   "cell_type": "code",
   "execution_count": 51,
   "metadata": {
    "collapsed": false
   },
   "outputs": [
    {
     "data": {
      "text/plain": [
       "array([ 0.43000001, -5.0999999 ], dtype=float32)"
      ]
     },
     "execution_count": 51,
     "metadata": {},
     "output_type": "execute_result"
    }
   ],
   "source": [
    "x.Measure"
   ]
  },
  {
   "cell_type": "markdown",
   "metadata": {},
   "source": [
    "## Sorting\n",
    "Generally two ways to sort:\n",
    "* In-place sorting without copying"
   ]
  },
  {
   "cell_type": "code",
   "execution_count": 52,
   "metadata": {
    "collapsed": true
   },
   "outputs": [],
   "source": [
    "arr = np.random.randn(10)"
   ]
  },
  {
   "cell_type": "code",
   "execution_count": 53,
   "metadata": {
    "collapsed": false
   },
   "outputs": [
    {
     "data": {
      "text/plain": [
       "array([ 0.38600244,  0.12959026,  0.37263553,  1.03226543, -0.08930729,\n",
       "       -0.80374109,  0.87745527,  0.36021556,  0.54244687,  0.79475328])"
      ]
     },
     "execution_count": 53,
     "metadata": {},
     "output_type": "execute_result"
    }
   ],
   "source": [
    "arr"
   ]
  },
  {
   "cell_type": "code",
   "execution_count": 54,
   "metadata": {
    "collapsed": true
   },
   "outputs": [],
   "source": [
    "arr.sort()"
   ]
  },
  {
   "cell_type": "code",
   "execution_count": 55,
   "metadata": {
    "collapsed": false
   },
   "outputs": [
    {
     "data": {
      "text/plain": [
       "array([-0.80374109, -0.08930729,  0.12959026,  0.36021556,  0.37263553,\n",
       "        0.38600244,  0.54244687,  0.79475328,  0.87745527,  1.03226543])"
      ]
     },
     "execution_count": 55,
     "metadata": {},
     "output_type": "execute_result"
    }
   ],
   "source": [
    "arr"
   ]
  },
  {
   "cell_type": "markdown",
   "metadata": {},
   "source": [
    "* Sorting returns a copy"
   ]
  },
  {
   "cell_type": "code",
   "execution_count": 59,
   "metadata": {
    "collapsed": false
   },
   "outputs": [],
   "source": [
    "arr = np.random.randn(5)"
   ]
  },
  {
   "cell_type": "code",
   "execution_count": 60,
   "metadata": {
    "collapsed": false
   },
   "outputs": [
    {
     "data": {
      "text/plain": [
       "array([ 1.31644813,  0.48835484, -0.63618114, -1.08703501, -1.54148555])"
      ]
     },
     "execution_count": 60,
     "metadata": {},
     "output_type": "execute_result"
    }
   ],
   "source": [
    "arr"
   ]
  },
  {
   "cell_type": "code",
   "execution_count": 61,
   "metadata": {
    "collapsed": false
   },
   "outputs": [
    {
     "data": {
      "text/plain": [
       "array([-1.54148555, -1.08703501, -0.63618114,  0.48835484,  1.31644813])"
      ]
     },
     "execution_count": 61,
     "metadata": {},
     "output_type": "execute_result"
    }
   ],
   "source": [
    "np.sort(arr)"
   ]
  },
  {
   "cell_type": "code",
   "execution_count": 62,
   "metadata": {
    "collapsed": false
   },
   "outputs": [
    {
     "data": {
      "text/plain": [
       "array([ 1.31644813,  0.48835484, -0.63618114, -1.08703501, -1.54148555])"
      ]
     },
     "execution_count": 62,
     "metadata": {},
     "output_type": "execute_result"
    }
   ],
   "source": [
    "arr"
   ]
  },
  {
   "cell_type": "markdown",
   "metadata": {},
   "source": [
    "### Indirect sort\n",
    "Sometimes one wants to reorder a 2D array by its first row, __`argsort`__ is the function to implement that."
   ]
  },
  {
   "cell_type": "code",
   "execution_count": 63,
   "metadata": {
    "collapsed": false
   },
   "outputs": [
    {
     "data": {
      "text/plain": [
       "array([1, 3, 4, 2, 0])"
      ]
     },
     "execution_count": 63,
     "metadata": {},
     "output_type": "execute_result"
    }
   ],
   "source": [
    "values = np.array([5, 0, 3, 1, 2])\n",
    "indexer = values.argsort()\n",
    "indexer"
   ]
  },
  {
   "cell_type": "code",
   "execution_count": 65,
   "metadata": {
    "collapsed": false
   },
   "outputs": [
    {
     "data": {
      "text/plain": [
       "array([[ 5.        ,  0.        ,  3.        ,  1.        ,  2.        ],\n",
       "       [-1.64147515, -0.75559715, -0.47258772, -0.29489565, -1.43540243],\n",
       "       [-1.3191719 ,  2.08978416, -0.10914456, -0.0887644 , -0.3223204 ]])"
      ]
     },
     "execution_count": 65,
     "metadata": {},
     "output_type": "execute_result"
    }
   ],
   "source": [
    "arr = np.random.randn(3, 5)\n",
    "arr[0] = values\n",
    "arr"
   ]
  },
  {
   "cell_type": "code",
   "execution_count": 66,
   "metadata": {
    "collapsed": false
   },
   "outputs": [
    {
     "data": {
      "text/plain": [
       "array([[ 0.        ,  1.        ,  2.        ,  3.        ,  5.        ],\n",
       "       [-0.75559715, -0.29489565, -1.43540243, -0.47258772, -1.64147515],\n",
       "       [ 2.08978416, -0.0887644 , -0.3223204 , -0.10914456, -1.3191719 ]])"
      ]
     },
     "execution_count": 66,
     "metadata": {},
     "output_type": "execute_result"
    }
   ],
   "source": [
    "arr[:, arr[0].argsort()]"
   ]
  },
  {
   "cell_type": "markdown",
   "metadata": {},
   "source": [
    "__`lexsort`__ can perform an indirect _lexicographical_ sort on multiple key arrays."
   ]
  },
  {
   "cell_type": "code",
   "execution_count": 69,
   "metadata": {
    "collapsed": false
   },
   "outputs": [
    {
     "data": {
      "text/plain": [
       "<zip at 0x7fc009eaf248>"
      ]
     },
     "execution_count": 69,
     "metadata": {},
     "output_type": "execute_result"
    }
   ],
   "source": [
    "first_name = np.array(['Bob', 'Shawn', 'Eric', 'Paul'])\n",
    "last_name = np.array(['Jones', 'Arnold', 'Walters', 'Sethi'])\n",
    "sorter = np.lexsort((first_name, last_name))\n",
    "zip(last_name[sorter], first_name[sorter])"
   ]
  },
  {
   "cell_type": "markdown",
   "metadata": {},
   "source": [
    "## Memory issue\n",
    "When the dasta set is too large to fit into RAM, a _memory_mapped_ file can be used. Numpy implements a __memmap__ object that is ndarray-like enabling small segments of a large file to be read and written without reading the whole array into memory. "
   ]
  },
  {
   "cell_type": "markdown",
   "metadata": {},
   "source": [
    "## Performance Tips\n",
    "* Convert loops to array operations and boolean array operations\n",
    "* User broadcasting whenever possible\n",
    "* Avoid copying data using array views\n",
    "* Utilize ufuncs and ufuncs methods\n",
    "If all methods above, use [Cython](http://cython.org)-- Python with static types and the ability to interleave functions implemented in C into Python-like code --  to get C-like performance. \n",
    "\n",
    "Furthermore, use C-ordering as an array's memory layout, since it is _contiguous_. "
   ]
  },
  {
   "cell_type": "code",
   "execution_count": 70,
   "metadata": {
    "collapsed": true
   },
   "outputs": [],
   "source": [
    "arr_c = np.ones((100, 100),  order='C')\n",
    "arr_f = np.ones((100, 100),  order='F')"
   ]
  },
  {
   "cell_type": "code",
   "execution_count": 71,
   "metadata": {
    "collapsed": false
   },
   "outputs": [
    {
     "data": {
      "text/plain": [
       "  C_CONTIGUOUS : True\n",
       "  F_CONTIGUOUS : False\n",
       "  OWNDATA : True\n",
       "  WRITEABLE : True\n",
       "  ALIGNED : True\n",
       "  UPDATEIFCOPY : False"
      ]
     },
     "execution_count": 71,
     "metadata": {},
     "output_type": "execute_result"
    }
   ],
   "source": [
    "arr_c.flags"
   ]
  },
  {
   "cell_type": "code",
   "execution_count": 72,
   "metadata": {
    "collapsed": false
   },
   "outputs": [
    {
     "data": {
      "text/plain": [
       "  C_CONTIGUOUS : False\n",
       "  F_CONTIGUOUS : True\n",
       "  OWNDATA : True\n",
       "  WRITEABLE : True\n",
       "  ALIGNED : True\n",
       "  UPDATEIFCOPY : False"
      ]
     },
     "execution_count": 72,
     "metadata": {},
     "output_type": "execute_result"
    }
   ],
   "source": [
    "arr_f.flags"
   ]
  },
  {
   "cell_type": "code",
   "execution_count": 73,
   "metadata": {
    "collapsed": false
   },
   "outputs": [
    {
     "name": "stdout",
     "output_type": "stream",
     "text": [
      "The slowest run took 25.58 times longer than the fastest. This could mean that an intermediate result is being cached.\n",
      "100000 loops, best of 3: 6.77 µs per loop\n"
     ]
    }
   ],
   "source": [
    "%timeit arr_c.sum(1)"
   ]
  },
  {
   "cell_type": "code",
   "execution_count": 74,
   "metadata": {
    "collapsed": false
   },
   "outputs": [
    {
     "name": "stdout",
     "output_type": "stream",
     "text": [
      "The slowest run took 17.92 times longer than the fastest. This could mean that an intermediate result is being cached.\n",
      "100000 loops, best of 3: 8.23 µs per loop\n"
     ]
    }
   ],
   "source": [
    "%timeit arr_f.sum(1)"
   ]
  }
 ],
 "metadata": {
  "kernelspec": {
   "display_name": "Python 3",
   "language": "python",
   "name": "python3"
  },
  "language_info": {
   "codemirror_mode": {
    "name": "ipython",
    "version": 3
   },
   "file_extension": ".py",
   "mimetype": "text/x-python",
   "name": "python",
   "nbconvert_exporter": "python",
   "pygments_lexer": "ipython3",
   "version": "3.5.2"
  }
 },
 "nbformat": 4,
 "nbformat_minor": 0
}
