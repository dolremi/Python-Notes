{
 "cells": [
  {
   "cell_type": "markdown",
   "metadata": {},
   "source": [
    "# Data Aggregation and Group Operations\n",
    "There are a number of grouped operations by utilizing any function that accepts a pandas object or Numpy array.\n",
    "* Split a pandas object into pieces using one or more keys\n",
    "* Computing group summary statistics\n",
    "* Apply a varying set of functions to each column of a DataFrame\n",
    "* Apply within-group transformations or other manipulations\n",
    "* Compute pivot tables and cross-tabulations\n",
    "* Perform quantile analysis and other data-derived group analysis. "
   ]
  },
  {
   "cell_type": "markdown",
   "metadata": {},
   "source": [
    "## GroupBy Mechanics\n",
    "The term _split-apply-combine_ can be decomposed as following:\n",
    "* At first, data contained in a pandas object is __split__ into groups based on one ore more _keys_\n",
    "* Then, a function is __applied__ to each group, producing a new value.\n",
    "* Finally, the result of all those function applications are _combined_ into a result object."
   ]
  },
  {
   "cell_type": "code",
   "execution_count": 1,
   "metadata": {
    "collapsed": false
   },
   "outputs": [
    {
     "data": {
      "text/html": [
       "<div>\n",
       "<table border=\"1\" class=\"dataframe\">\n",
       "  <thead>\n",
       "    <tr style=\"text-align: right;\">\n",
       "      <th></th>\n",
       "      <th>data1</th>\n",
       "      <th>data2</th>\n",
       "      <th>key1</th>\n",
       "      <th>key2</th>\n",
       "    </tr>\n",
       "  </thead>\n",
       "  <tbody>\n",
       "    <tr>\n",
       "      <th>0</th>\n",
       "      <td>-1.522204</td>\n",
       "      <td>0.101514</td>\n",
       "      <td>a</td>\n",
       "      <td>one</td>\n",
       "    </tr>\n",
       "    <tr>\n",
       "      <th>1</th>\n",
       "      <td>-1.136664</td>\n",
       "      <td>0.678247</td>\n",
       "      <td>a</td>\n",
       "      <td>two</td>\n",
       "    </tr>\n",
       "    <tr>\n",
       "      <th>2</th>\n",
       "      <td>0.226972</td>\n",
       "      <td>-0.250847</td>\n",
       "      <td>b</td>\n",
       "      <td>one</td>\n",
       "    </tr>\n",
       "    <tr>\n",
       "      <th>3</th>\n",
       "      <td>1.905098</td>\n",
       "      <td>-0.829269</td>\n",
       "      <td>b</td>\n",
       "      <td>two</td>\n",
       "    </tr>\n",
       "    <tr>\n",
       "      <th>4</th>\n",
       "      <td>2.461735</td>\n",
       "      <td>1.784615</td>\n",
       "      <td>a</td>\n",
       "      <td>one</td>\n",
       "    </tr>\n",
       "  </tbody>\n",
       "</table>\n",
       "</div>"
      ],
      "text/plain": [
       "      data1     data2 key1 key2\n",
       "0 -1.522204  0.101514    a  one\n",
       "1 -1.136664  0.678247    a  two\n",
       "2  0.226972 -0.250847    b  one\n",
       "3  1.905098 -0.829269    b  two\n",
       "4  2.461735  1.784615    a  one"
      ]
     },
     "execution_count": 1,
     "metadata": {},
     "output_type": "execute_result"
    }
   ],
   "source": [
    "import pandas as pd\n",
    "import numpy as np\n",
    "df = pd.DataFrame({'key1' : ['a'] * 2 + ['b'] * 2 + ['a'],\n",
    "                   'key2' : ['one', 'two', 'one', 'two', 'one'],\n",
    "                   'data1' : np.random.randn(5), \n",
    "                   'data2' : np.random.randn(5)})\n",
    "df"
   ]
  },
  {
   "cell_type": "code",
   "execution_count": 2,
   "metadata": {
    "collapsed": false
   },
   "outputs": [
    {
     "data": {
      "text/plain": [
       "<pandas.core.groupby.SeriesGroupBy object at 0x7f99b07bc8d0>"
      ]
     },
     "execution_count": 2,
     "metadata": {},
     "output_type": "execute_result"
    }
   ],
   "source": [
    "grouped = df['data1'].groupby(df['key1'])\n",
    "grouped"
   ]
  },
  {
   "cell_type": "code",
   "execution_count": 3,
   "metadata": {
    "collapsed": false
   },
   "outputs": [
    {
     "data": {
      "text/plain": [
       "key1\n",
       "a   -0.065711\n",
       "b    1.066035\n",
       "Name: data1, dtype: float64"
      ]
     },
     "execution_count": 3,
     "metadata": {},
     "output_type": "execute_result"
    }
   ],
   "source": [
    "grouped.mean()"
   ]
  },
  {
   "cell_type": "code",
   "execution_count": 4,
   "metadata": {
    "collapsed": false
   },
   "outputs": [
    {
     "data": {
      "text/plain": [
       "key1  key2\n",
       "a     one     0.469766\n",
       "      two    -1.136664\n",
       "b     one     0.226972\n",
       "      two     1.905098\n",
       "Name: data1, dtype: float64"
      ]
     },
     "execution_count": 4,
     "metadata": {},
     "output_type": "execute_result"
    }
   ],
   "source": [
    "df['data1'].groupby([df['key1'], df['key2']]).mean()"
   ]
  },
  {
   "cell_type": "code",
   "execution_count": 5,
   "metadata": {
    "collapsed": false
   },
   "outputs": [
    {
     "data": {
      "text/html": [
       "<div>\n",
       "<table border=\"1\" class=\"dataframe\">\n",
       "  <thead>\n",
       "    <tr style=\"text-align: right;\">\n",
       "      <th></th>\n",
       "      <th>data1</th>\n",
       "      <th>data2</th>\n",
       "    </tr>\n",
       "    <tr>\n",
       "      <th>key1</th>\n",
       "      <th></th>\n",
       "      <th></th>\n",
       "    </tr>\n",
       "  </thead>\n",
       "  <tbody>\n",
       "    <tr>\n",
       "      <th>a</th>\n",
       "      <td>-0.065711</td>\n",
       "      <td>0.854792</td>\n",
       "    </tr>\n",
       "    <tr>\n",
       "      <th>b</th>\n",
       "      <td>1.066035</td>\n",
       "      <td>-0.540058</td>\n",
       "    </tr>\n",
       "  </tbody>\n",
       "</table>\n",
       "</div>"
      ],
      "text/plain": [
       "         data1     data2\n",
       "key1                    \n",
       "a    -0.065711  0.854792\n",
       "b     1.066035 -0.540058"
      ]
     },
     "execution_count": 5,
     "metadata": {},
     "output_type": "execute_result"
    }
   ],
   "source": [
    "df.groupby('key1').mean()"
   ]
  },
  {
   "cell_type": "code",
   "execution_count": 6,
   "metadata": {
    "collapsed": false
   },
   "outputs": [
    {
     "data": {
      "text/plain": [
       "key1  key2\n",
       "a     one     2\n",
       "      two     1\n",
       "b     one     1\n",
       "      two     1\n",
       "dtype: int64"
      ]
     },
     "execution_count": 6,
     "metadata": {},
     "output_type": "execute_result"
    }
   ],
   "source": [
    "df.groupby(['key1', 'key2']).size()"
   ]
  },
  {
   "cell_type": "code",
   "execution_count": 7,
   "metadata": {
    "collapsed": false
   },
   "outputs": [
    {
     "name": "stdout",
     "output_type": "stream",
     "text": [
      "a one\n",
      "      data1     data2 key1 key2\n",
      "0 -1.522204  0.101514    a  one\n",
      "4  2.461735  1.784615    a  one\n",
      "a two\n",
      "      data1     data2 key1 key2\n",
      "1 -1.136664  0.678247    a  two\n",
      "b one\n",
      "      data1     data2 key1 key2\n",
      "2  0.226972 -0.250847    b  one\n",
      "b two\n",
      "      data1     data2 key1 key2\n",
      "3  1.905098 -0.829269    b  two\n"
     ]
    }
   ],
   "source": [
    "for (k1, k2), group in df.groupby(['key1', 'key2']):\n",
    "    print (k1, k2)\n",
    "    print (group)"
   ]
  },
  {
   "cell_type": "code",
   "execution_count": 8,
   "metadata": {
    "collapsed": false
   },
   "outputs": [
    {
     "data": {
      "text/plain": [
       "data1    float64\n",
       "data2    float64\n",
       "key1      object\n",
       "key2      object\n",
       "dtype: object"
      ]
     },
     "execution_count": 8,
     "metadata": {},
     "output_type": "execute_result"
    }
   ],
   "source": [
    "df.dtypes"
   ]
  },
  {
   "cell_type": "code",
   "execution_count": 9,
   "metadata": {
    "collapsed": false
   },
   "outputs": [
    {
     "data": {
      "text/plain": [
       "{dtype('float64'):       data1     data2\n",
       " 0 -1.522204  0.101514\n",
       " 1 -1.136664  0.678247\n",
       " 2  0.226972 -0.250847\n",
       " 3  1.905098 -0.829269\n",
       " 4  2.461735  1.784615, dtype('O'):   key1 key2\n",
       " 0    a  one\n",
       " 1    a  two\n",
       " 2    b  one\n",
       " 3    b  two\n",
       " 4    a  one}"
      ]
     },
     "execution_count": 9,
     "metadata": {},
     "output_type": "execute_result"
    }
   ],
   "source": [
    "grouped = df.groupby(df.dtypes, axis= 1)\n",
    "dict(list(grouped))"
   ]
  },
  {
   "cell_type": "markdown",
   "metadata": {},
   "source": [
    "Indexing a GroupBy object created from a DataFrame with a column name or array of column names has the effect of _selecting those columns_ for aggregation"
   ]
  },
  {
   "cell_type": "code",
   "execution_count": 10,
   "metadata": {
    "collapsed": false
   },
   "outputs": [
    {
     "data": {
      "text/plain": [
       "key1  key2\n",
       "a     one     0.943065\n",
       "      two     0.678247\n",
       "b     one    -0.250847\n",
       "      two    -0.829269\n",
       "Name: data2, dtype: float64"
      ]
     },
     "execution_count": 10,
     "metadata": {},
     "output_type": "execute_result"
    }
   ],
   "source": [
    "df.groupby(['key1', 'key2'])['data2'].mean()"
   ]
  },
  {
   "cell_type": "code",
   "execution_count": 11,
   "metadata": {
    "collapsed": false
   },
   "outputs": [
    {
     "data": {
      "text/html": [
       "<div>\n",
       "<table border=\"1\" class=\"dataframe\">\n",
       "  <thead>\n",
       "    <tr style=\"text-align: right;\">\n",
       "      <th></th>\n",
       "      <th></th>\n",
       "      <th>data2</th>\n",
       "    </tr>\n",
       "    <tr>\n",
       "      <th>key1</th>\n",
       "      <th>key2</th>\n",
       "      <th></th>\n",
       "    </tr>\n",
       "  </thead>\n",
       "  <tbody>\n",
       "    <tr>\n",
       "      <th rowspan=\"2\" valign=\"top\">a</th>\n",
       "      <th>one</th>\n",
       "      <td>0.943065</td>\n",
       "    </tr>\n",
       "    <tr>\n",
       "      <th>two</th>\n",
       "      <td>0.678247</td>\n",
       "    </tr>\n",
       "    <tr>\n",
       "      <th rowspan=\"2\" valign=\"top\">b</th>\n",
       "      <th>one</th>\n",
       "      <td>-0.250847</td>\n",
       "    </tr>\n",
       "    <tr>\n",
       "      <th>two</th>\n",
       "      <td>-0.829269</td>\n",
       "    </tr>\n",
       "  </tbody>\n",
       "</table>\n",
       "</div>"
      ],
      "text/plain": [
       "              data2\n",
       "key1 key2          \n",
       "a    one   0.943065\n",
       "     two   0.678247\n",
       "b    one  -0.250847\n",
       "     two  -0.829269"
      ]
     },
     "execution_count": 11,
     "metadata": {},
     "output_type": "execute_result"
    }
   ],
   "source": [
    "df.groupby(['key1', 'key2'])[['data2']].mean()"
   ]
  },
  {
   "cell_type": "markdown",
   "metadata": {},
   "source": [
    "Grouping information can be Dictionary or Series."
   ]
  },
  {
   "cell_type": "code",
   "execution_count": 12,
   "metadata": {
    "collapsed": false
   },
   "outputs": [
    {
     "data": {
      "text/html": [
       "<div>\n",
       "<table border=\"1\" class=\"dataframe\">\n",
       "  <thead>\n",
       "    <tr style=\"text-align: right;\">\n",
       "      <th></th>\n",
       "      <th>a1</th>\n",
       "      <th>a2</th>\n",
       "      <th>a3</th>\n",
       "      <th>a4</th>\n",
       "      <th>a5</th>\n",
       "    </tr>\n",
       "  </thead>\n",
       "  <tbody>\n",
       "    <tr>\n",
       "      <th>Peter</th>\n",
       "      <td>-0.981540</td>\n",
       "      <td>1.000529</td>\n",
       "      <td>-0.241441</td>\n",
       "      <td>-0.418692</td>\n",
       "      <td>-0.165746</td>\n",
       "    </tr>\n",
       "    <tr>\n",
       "      <th>Eric</th>\n",
       "      <td>-1.183826</td>\n",
       "      <td>0.147128</td>\n",
       "      <td>-1.428774</td>\n",
       "      <td>1.153826</td>\n",
       "      <td>0.686745</td>\n",
       "    </tr>\n",
       "    <tr>\n",
       "      <th>Bob</th>\n",
       "      <td>NaN</td>\n",
       "      <td>0.639883</td>\n",
       "      <td>-0.604917</td>\n",
       "      <td>-2.146066</td>\n",
       "      <td>NaN</td>\n",
       "    </tr>\n",
       "    <tr>\n",
       "      <th>Paul</th>\n",
       "      <td>NaN</td>\n",
       "      <td>-0.485980</td>\n",
       "      <td>-1.503564</td>\n",
       "      <td>0.158231</td>\n",
       "      <td>NaN</td>\n",
       "    </tr>\n",
       "    <tr>\n",
       "      <th>Andy</th>\n",
       "      <td>1.376205</td>\n",
       "      <td>0.908416</td>\n",
       "      <td>-0.691231</td>\n",
       "      <td>0.077869</td>\n",
       "      <td>0.794499</td>\n",
       "    </tr>\n",
       "  </tbody>\n",
       "</table>\n",
       "</div>"
      ],
      "text/plain": [
       "             a1        a2        a3        a4        a5\n",
       "Peter -0.981540  1.000529 -0.241441 -0.418692 -0.165746\n",
       "Eric  -1.183826  0.147128 -1.428774  1.153826  0.686745\n",
       "Bob         NaN  0.639883 -0.604917 -2.146066       NaN\n",
       "Paul        NaN -0.485980 -1.503564  0.158231       NaN\n",
       "Andy   1.376205  0.908416 -0.691231  0.077869  0.794499"
      ]
     },
     "execution_count": 12,
     "metadata": {},
     "output_type": "execute_result"
    }
   ],
   "source": [
    "ppl = pd.DataFrame(np.random.randn(5, 5),\n",
    "                   columns=['a1', 'a2', 'a3', 'a4', 'a5'],\n",
    "                   index = ['Peter', 'Eric', 'Bob', 'Paul', 'Andy'])\n",
    "ppl.ix[2:4, ['a1', 'a5']] = np.nan\n",
    "ppl"
   ]
  },
  {
   "cell_type": "code",
   "execution_count": 13,
   "metadata": {
    "collapsed": true
   },
   "outputs": [],
   "source": [
    "mapping = {'a1': 'salary', 'a2': 'deduction', 'a3': 'salary', 'a4': 'salary', 'a5': 'deduction'}"
   ]
  },
  {
   "cell_type": "code",
   "execution_count": 14,
   "metadata": {
    "collapsed": false
   },
   "outputs": [
    {
     "data": {
      "text/html": [
       "<div>\n",
       "<table border=\"1\" class=\"dataframe\">\n",
       "  <thead>\n",
       "    <tr style=\"text-align: right;\">\n",
       "      <th></th>\n",
       "      <th>deduction</th>\n",
       "      <th>salary</th>\n",
       "    </tr>\n",
       "  </thead>\n",
       "  <tbody>\n",
       "    <tr>\n",
       "      <th>Peter</th>\n",
       "      <td>0.834783</td>\n",
       "      <td>-1.641673</td>\n",
       "    </tr>\n",
       "    <tr>\n",
       "      <th>Eric</th>\n",
       "      <td>0.833873</td>\n",
       "      <td>-1.458774</td>\n",
       "    </tr>\n",
       "    <tr>\n",
       "      <th>Bob</th>\n",
       "      <td>0.639883</td>\n",
       "      <td>-2.750983</td>\n",
       "    </tr>\n",
       "    <tr>\n",
       "      <th>Paul</th>\n",
       "      <td>-0.485980</td>\n",
       "      <td>-1.345334</td>\n",
       "    </tr>\n",
       "    <tr>\n",
       "      <th>Andy</th>\n",
       "      <td>1.702915</td>\n",
       "      <td>0.762843</td>\n",
       "    </tr>\n",
       "  </tbody>\n",
       "</table>\n",
       "</div>"
      ],
      "text/plain": [
       "       deduction    salary\n",
       "Peter   0.834783 -1.641673\n",
       "Eric    0.833873 -1.458774\n",
       "Bob     0.639883 -2.750983\n",
       "Paul   -0.485980 -1.345334\n",
       "Andy    1.702915  0.762843"
      ]
     },
     "execution_count": 14,
     "metadata": {},
     "output_type": "execute_result"
    }
   ],
   "source": [
    "by_column = ppl.groupby(mapping, axis = 1)\n",
    "by_column.sum()"
   ]
  },
  {
   "cell_type": "code",
   "execution_count": 15,
   "metadata": {
    "collapsed": false
   },
   "outputs": [
    {
     "data": {
      "text/plain": [
       "a1       salary\n",
       "a2    deduction\n",
       "a3       salary\n",
       "a4       salary\n",
       "a5    deduction\n",
       "dtype: object"
      ]
     },
     "execution_count": 15,
     "metadata": {},
     "output_type": "execute_result"
    }
   ],
   "source": [
    "map_series = pd.Series(mapping)\n",
    "map_series"
   ]
  },
  {
   "cell_type": "code",
   "execution_count": 16,
   "metadata": {
    "collapsed": false
   },
   "outputs": [
    {
     "data": {
      "text/html": [
       "<div>\n",
       "<table border=\"1\" class=\"dataframe\">\n",
       "  <thead>\n",
       "    <tr style=\"text-align: right;\">\n",
       "      <th></th>\n",
       "      <th>deduction</th>\n",
       "      <th>salary</th>\n",
       "    </tr>\n",
       "  </thead>\n",
       "  <tbody>\n",
       "    <tr>\n",
       "      <th>Peter</th>\n",
       "      <td>2</td>\n",
       "      <td>3</td>\n",
       "    </tr>\n",
       "    <tr>\n",
       "      <th>Eric</th>\n",
       "      <td>2</td>\n",
       "      <td>3</td>\n",
       "    </tr>\n",
       "    <tr>\n",
       "      <th>Bob</th>\n",
       "      <td>1</td>\n",
       "      <td>2</td>\n",
       "    </tr>\n",
       "    <tr>\n",
       "      <th>Paul</th>\n",
       "      <td>1</td>\n",
       "      <td>2</td>\n",
       "    </tr>\n",
       "    <tr>\n",
       "      <th>Andy</th>\n",
       "      <td>2</td>\n",
       "      <td>3</td>\n",
       "    </tr>\n",
       "  </tbody>\n",
       "</table>\n",
       "</div>"
      ],
      "text/plain": [
       "       deduction  salary\n",
       "Peter          2       3\n",
       "Eric           2       3\n",
       "Bob            1       2\n",
       "Paul           1       2\n",
       "Andy           2       3"
      ]
     },
     "execution_count": 16,
     "metadata": {},
     "output_type": "execute_result"
    }
   ],
   "source": [
    "ppl.groupby(map_series, axis=1).count()"
   ]
  },
  {
   "cell_type": "markdown",
   "metadata": {},
   "source": [
    "More interesting, any functions passed as a group key will be called once per index value, with the return values being used as group names."
   ]
  },
  {
   "cell_type": "code",
   "execution_count": 17,
   "metadata": {
    "collapsed": false
   },
   "outputs": [
    {
     "data": {
      "text/html": [
       "<div>\n",
       "<table border=\"1\" class=\"dataframe\">\n",
       "  <thead>\n",
       "    <tr style=\"text-align: right;\">\n",
       "      <th></th>\n",
       "      <th>a1</th>\n",
       "      <th>a2</th>\n",
       "      <th>a3</th>\n",
       "      <th>a4</th>\n",
       "      <th>a5</th>\n",
       "    </tr>\n",
       "  </thead>\n",
       "  <tbody>\n",
       "    <tr>\n",
       "      <th>3</th>\n",
       "      <td>NaN</td>\n",
       "      <td>0.639883</td>\n",
       "      <td>-0.604917</td>\n",
       "      <td>-2.146066</td>\n",
       "      <td>NaN</td>\n",
       "    </tr>\n",
       "    <tr>\n",
       "      <th>4</th>\n",
       "      <td>0.192379</td>\n",
       "      <td>0.569564</td>\n",
       "      <td>-3.623570</td>\n",
       "      <td>1.389926</td>\n",
       "      <td>1.481244</td>\n",
       "    </tr>\n",
       "    <tr>\n",
       "      <th>5</th>\n",
       "      <td>-0.981540</td>\n",
       "      <td>1.000529</td>\n",
       "      <td>-0.241441</td>\n",
       "      <td>-0.418692</td>\n",
       "      <td>-0.165746</td>\n",
       "    </tr>\n",
       "  </tbody>\n",
       "</table>\n",
       "</div>"
      ],
      "text/plain": [
       "         a1        a2        a3        a4        a5\n",
       "3       NaN  0.639883 -0.604917 -2.146066       NaN\n",
       "4  0.192379  0.569564 -3.623570  1.389926  1.481244\n",
       "5 -0.981540  1.000529 -0.241441 -0.418692 -0.165746"
      ]
     },
     "execution_count": 17,
     "metadata": {},
     "output_type": "execute_result"
    }
   ],
   "source": [
    "ppl.groupby(len).sum()"
   ]
  },
  {
   "cell_type": "code",
   "execution_count": 18,
   "metadata": {
    "collapsed": false
   },
   "outputs": [
    {
     "data": {
      "text/html": [
       "<div>\n",
       "<table border=\"1\" class=\"dataframe\">\n",
       "  <thead>\n",
       "    <tr style=\"text-align: right;\">\n",
       "      <th></th>\n",
       "      <th></th>\n",
       "      <th>a1</th>\n",
       "      <th>a2</th>\n",
       "      <th>a3</th>\n",
       "      <th>a4</th>\n",
       "      <th>a5</th>\n",
       "    </tr>\n",
       "  </thead>\n",
       "  <tbody>\n",
       "    <tr>\n",
       "      <th>3</th>\n",
       "      <th>t3</th>\n",
       "      <td>NaN</td>\n",
       "      <td>0.639883</td>\n",
       "      <td>-0.604917</td>\n",
       "      <td>-2.146066</td>\n",
       "      <td>NaN</td>\n",
       "    </tr>\n",
       "    <tr>\n",
       "      <th rowspan=\"2\" valign=\"top\">4</th>\n",
       "      <th>t2</th>\n",
       "      <td>-1.183826</td>\n",
       "      <td>-0.485980</td>\n",
       "      <td>-1.503564</td>\n",
       "      <td>0.158231</td>\n",
       "      <td>0.686745</td>\n",
       "    </tr>\n",
       "    <tr>\n",
       "      <th>t3</th>\n",
       "      <td>1.376205</td>\n",
       "      <td>0.908416</td>\n",
       "      <td>-0.691231</td>\n",
       "      <td>0.077869</td>\n",
       "      <td>0.794499</td>\n",
       "    </tr>\n",
       "    <tr>\n",
       "      <th>5</th>\n",
       "      <th>t1</th>\n",
       "      <td>-0.981540</td>\n",
       "      <td>1.000529</td>\n",
       "      <td>-0.241441</td>\n",
       "      <td>-0.418692</td>\n",
       "      <td>-0.165746</td>\n",
       "    </tr>\n",
       "  </tbody>\n",
       "</table>\n",
       "</div>"
      ],
      "text/plain": [
       "            a1        a2        a3        a4        a5\n",
       "3 t3       NaN  0.639883 -0.604917 -2.146066       NaN\n",
       "4 t2 -1.183826 -0.485980 -1.503564  0.158231  0.686745\n",
       "  t3  1.376205  0.908416 -0.691231  0.077869  0.794499\n",
       "5 t1 -0.981540  1.000529 -0.241441 -0.418692 -0.165746"
      ]
     },
     "execution_count": 18,
     "metadata": {},
     "output_type": "execute_result"
    }
   ],
   "source": [
    "sort_list = ['t1', 't2', 't3', 't2', 't3']\n",
    "ppl.groupby([len, sort_list]).min()"
   ]
  },
  {
   "cell_type": "markdown",
   "metadata": {},
   "source": [
    "It is also possible to aggregate using one of the levels of an axis index in hiearchically-indexed data sets."
   ]
  },
  {
   "cell_type": "code",
   "execution_count": 19,
   "metadata": {
    "collapsed": false
   },
   "outputs": [
    {
     "data": {
      "text/html": [
       "<div>\n",
       "<table border=\"1\" class=\"dataframe\">\n",
       "  <thead>\n",
       "    <tr>\n",
       "      <th>nation</th>\n",
       "      <th colspan=\"3\" halign=\"left\">CN</th>\n",
       "      <th colspan=\"2\" halign=\"left\">US</th>\n",
       "    </tr>\n",
       "    <tr>\n",
       "      <th>gdp</th>\n",
       "      <th>6.7</th>\n",
       "      <th>6.7</th>\n",
       "      <th>7.5</th>\n",
       "      <th>1.0</th>\n",
       "      <th>2.9</th>\n",
       "    </tr>\n",
       "  </thead>\n",
       "  <tbody>\n",
       "    <tr>\n",
       "      <th>0</th>\n",
       "      <td>0.778640</td>\n",
       "      <td>-1.312251</td>\n",
       "      <td>1.061284</td>\n",
       "      <td>-1.156332</td>\n",
       "      <td>0.886928</td>\n",
       "    </tr>\n",
       "    <tr>\n",
       "      <th>1</th>\n",
       "      <td>-0.296621</td>\n",
       "      <td>1.121803</td>\n",
       "      <td>1.453851</td>\n",
       "      <td>-0.687433</td>\n",
       "      <td>0.034735</td>\n",
       "    </tr>\n",
       "    <tr>\n",
       "      <th>2</th>\n",
       "      <td>0.550564</td>\n",
       "      <td>-0.518859</td>\n",
       "      <td>0.574172</td>\n",
       "      <td>-0.351274</td>\n",
       "      <td>-0.363114</td>\n",
       "    </tr>\n",
       "    <tr>\n",
       "      <th>3</th>\n",
       "      <td>0.214490</td>\n",
       "      <td>0.522048</td>\n",
       "      <td>0.178576</td>\n",
       "      <td>0.570299</td>\n",
       "      <td>0.013277</td>\n",
       "    </tr>\n",
       "  </tbody>\n",
       "</table>\n",
       "</div>"
      ],
      "text/plain": [
       "nation        CN                            US          \n",
       "gdp          6.7       6.7       7.5       1.0       2.9\n",
       "0       0.778640 -1.312251  1.061284 -1.156332  0.886928\n",
       "1      -0.296621  1.121803  1.453851 -0.687433  0.034735\n",
       "2       0.550564 -0.518859  0.574172 -0.351274 -0.363114\n",
       "3       0.214490  0.522048  0.178576  0.570299  0.013277"
      ]
     },
     "execution_count": 19,
     "metadata": {},
     "output_type": "execute_result"
    }
   ],
   "source": [
    "columns = pd.MultiIndex.from_arrays([['CN', 'CN', 'CN', 'US', 'US'],\n",
    "                                    [6.7, 6.7, 7.5, 1.0, 2.9]], \n",
    "                                    names = ['nation', 'gdp'])\n",
    "\n",
    "hier_df =pd.DataFrame(np.random.randn(4, 5), columns = columns)\n",
    "hier_df"
   ]
  },
  {
   "cell_type": "code",
   "execution_count": 20,
   "metadata": {
    "collapsed": false
   },
   "outputs": [
    {
     "data": {
      "text/html": [
       "<div>\n",
       "<table border=\"1\" class=\"dataframe\">\n",
       "  <thead>\n",
       "    <tr style=\"text-align: right;\">\n",
       "      <th>nation</th>\n",
       "      <th>CN</th>\n",
       "      <th>US</th>\n",
       "    </tr>\n",
       "  </thead>\n",
       "  <tbody>\n",
       "    <tr>\n",
       "      <th>0</th>\n",
       "      <td>3</td>\n",
       "      <td>2</td>\n",
       "    </tr>\n",
       "    <tr>\n",
       "      <th>1</th>\n",
       "      <td>3</td>\n",
       "      <td>2</td>\n",
       "    </tr>\n",
       "    <tr>\n",
       "      <th>2</th>\n",
       "      <td>3</td>\n",
       "      <td>2</td>\n",
       "    </tr>\n",
       "    <tr>\n",
       "      <th>3</th>\n",
       "      <td>3</td>\n",
       "      <td>2</td>\n",
       "    </tr>\n",
       "  </tbody>\n",
       "</table>\n",
       "</div>"
      ],
      "text/plain": [
       "nation  CN  US\n",
       "0        3   2\n",
       "1        3   2\n",
       "2        3   2\n",
       "3        3   2"
      ]
     },
     "execution_count": 20,
     "metadata": {},
     "output_type": "execute_result"
    }
   ],
   "source": [
    "hier_df.groupby(level = 'nation', axis = 1).count()"
   ]
  },
  {
   "cell_type": "markdown",
   "metadata": {},
   "source": [
    "## Data Aggregation\n",
    "Any data transformation that produces scalar value from arrays can be referred as __data aggregation__. One can even define her own aggregation function."
   ]
  },
  {
   "cell_type": "code",
   "execution_count": 21,
   "metadata": {
    "collapsed": true
   },
   "outputs": [],
   "source": [
    "grouped = df.groupby('key1')"
   ]
  },
  {
   "cell_type": "code",
   "execution_count": 22,
   "metadata": {
    "collapsed": false
   },
   "outputs": [
    {
     "data": {
      "text/html": [
       "<div>\n",
       "<table border=\"1\" class=\"dataframe\">\n",
       "  <thead>\n",
       "    <tr style=\"text-align: right;\">\n",
       "      <th></th>\n",
       "      <th>data1</th>\n",
       "      <th>data2</th>\n",
       "    </tr>\n",
       "    <tr>\n",
       "      <th>key1</th>\n",
       "      <th></th>\n",
       "      <th></th>\n",
       "    </tr>\n",
       "  </thead>\n",
       "  <tbody>\n",
       "    <tr>\n",
       "      <th>a</th>\n",
       "      <td>3.983939</td>\n",
       "      <td>1.683100</td>\n",
       "    </tr>\n",
       "    <tr>\n",
       "      <th>b</th>\n",
       "      <td>1.678126</td>\n",
       "      <td>0.578422</td>\n",
       "    </tr>\n",
       "  </tbody>\n",
       "</table>\n",
       "</div>"
      ],
      "text/plain": [
       "         data1     data2\n",
       "key1                    \n",
       "a     3.983939  1.683100\n",
       "b     1.678126  0.578422"
      ]
     },
     "execution_count": 22,
     "metadata": {},
     "output_type": "execute_result"
    }
   ],
   "source": [
    "def peak_to_peak(arr):\n",
    "    return arr.max() - arr.min()\n",
    "\n",
    "grouped.agg(peak_to_peak)"
   ]
  },
  {
   "cell_type": "code",
   "execution_count": 23,
   "metadata": {
    "collapsed": false
   },
   "outputs": [
    {
     "data": {
      "text/html": [
       "<div>\n",
       "<table border=\"1\" class=\"dataframe\">\n",
       "  <thead>\n",
       "    <tr style=\"text-align: right;\">\n",
       "      <th></th>\n",
       "      <th></th>\n",
       "      <th>data1</th>\n",
       "      <th>data2</th>\n",
       "    </tr>\n",
       "    <tr>\n",
       "      <th>key1</th>\n",
       "      <th></th>\n",
       "      <th></th>\n",
       "      <th></th>\n",
       "    </tr>\n",
       "  </thead>\n",
       "  <tbody>\n",
       "    <tr>\n",
       "      <th rowspan=\"8\" valign=\"top\">a</th>\n",
       "      <th>count</th>\n",
       "      <td>3.000000</td>\n",
       "      <td>3.000000</td>\n",
       "    </tr>\n",
       "    <tr>\n",
       "      <th>mean</th>\n",
       "      <td>-0.065711</td>\n",
       "      <td>0.854792</td>\n",
       "    </tr>\n",
       "    <tr>\n",
       "      <th>std</th>\n",
       "      <td>2.197305</td>\n",
       "      <td>0.855326</td>\n",
       "    </tr>\n",
       "    <tr>\n",
       "      <th>min</th>\n",
       "      <td>-1.522204</td>\n",
       "      <td>0.101514</td>\n",
       "    </tr>\n",
       "    <tr>\n",
       "      <th>25%</th>\n",
       "      <td>-1.329434</td>\n",
       "      <td>0.389880</td>\n",
       "    </tr>\n",
       "    <tr>\n",
       "      <th>50%</th>\n",
       "      <td>-1.136664</td>\n",
       "      <td>0.678247</td>\n",
       "    </tr>\n",
       "    <tr>\n",
       "      <th>75%</th>\n",
       "      <td>0.662536</td>\n",
       "      <td>1.231431</td>\n",
       "    </tr>\n",
       "    <tr>\n",
       "      <th>max</th>\n",
       "      <td>2.461735</td>\n",
       "      <td>1.784615</td>\n",
       "    </tr>\n",
       "    <tr>\n",
       "      <th rowspan=\"8\" valign=\"top\">b</th>\n",
       "      <th>count</th>\n",
       "      <td>2.000000</td>\n",
       "      <td>2.000000</td>\n",
       "    </tr>\n",
       "    <tr>\n",
       "      <th>mean</th>\n",
       "      <td>1.066035</td>\n",
       "      <td>-0.540058</td>\n",
       "    </tr>\n",
       "    <tr>\n",
       "      <th>std</th>\n",
       "      <td>1.186615</td>\n",
       "      <td>0.409006</td>\n",
       "    </tr>\n",
       "    <tr>\n",
       "      <th>min</th>\n",
       "      <td>0.226972</td>\n",
       "      <td>-0.829269</td>\n",
       "    </tr>\n",
       "    <tr>\n",
       "      <th>25%</th>\n",
       "      <td>0.646504</td>\n",
       "      <td>-0.684664</td>\n",
       "    </tr>\n",
       "    <tr>\n",
       "      <th>50%</th>\n",
       "      <td>1.066035</td>\n",
       "      <td>-0.540058</td>\n",
       "    </tr>\n",
       "    <tr>\n",
       "      <th>75%</th>\n",
       "      <td>1.485567</td>\n",
       "      <td>-0.395453</td>\n",
       "    </tr>\n",
       "    <tr>\n",
       "      <th>max</th>\n",
       "      <td>1.905098</td>\n",
       "      <td>-0.250847</td>\n",
       "    </tr>\n",
       "  </tbody>\n",
       "</table>\n",
       "</div>"
      ],
      "text/plain": [
       "               data1     data2\n",
       "key1                          \n",
       "a    count  3.000000  3.000000\n",
       "     mean  -0.065711  0.854792\n",
       "     std    2.197305  0.855326\n",
       "     min   -1.522204  0.101514\n",
       "     25%   -1.329434  0.389880\n",
       "     50%   -1.136664  0.678247\n",
       "     75%    0.662536  1.231431\n",
       "     max    2.461735  1.784615\n",
       "b    count  2.000000  2.000000\n",
       "     mean   1.066035 -0.540058\n",
       "     std    1.186615  0.409006\n",
       "     min    0.226972 -0.829269\n",
       "     25%    0.646504 -0.684664\n",
       "     50%    1.066035 -0.540058\n",
       "     75%    1.485567 -0.395453\n",
       "     max    1.905098 -0.250847"
      ]
     },
     "execution_count": 23,
     "metadata": {},
     "output_type": "execute_result"
    }
   ],
   "source": [
    "grouped.describe()"
   ]
  },
  {
   "cell_type": "code",
   "execution_count": 24,
   "metadata": {
    "collapsed": false
   },
   "outputs": [
    {
     "data": {
      "text/html": [
       "<div>\n",
       "<table border=\"1\" class=\"dataframe\">\n",
       "  <thead>\n",
       "    <tr>\n",
       "      <th></th>\n",
       "      <th colspan=\"3\" halign=\"left\">data1</th>\n",
       "      <th colspan=\"3\" halign=\"left\">data2</th>\n",
       "    </tr>\n",
       "    <tr>\n",
       "      <th></th>\n",
       "      <th>mean</th>\n",
       "      <th>std</th>\n",
       "      <th>peak_to_peak</th>\n",
       "      <th>mean</th>\n",
       "      <th>std</th>\n",
       "      <th>peak_to_peak</th>\n",
       "    </tr>\n",
       "    <tr>\n",
       "      <th>key1</th>\n",
       "      <th></th>\n",
       "      <th></th>\n",
       "      <th></th>\n",
       "      <th></th>\n",
       "      <th></th>\n",
       "      <th></th>\n",
       "    </tr>\n",
       "  </thead>\n",
       "  <tbody>\n",
       "    <tr>\n",
       "      <th>a</th>\n",
       "      <td>-0.065711</td>\n",
       "      <td>2.197305</td>\n",
       "      <td>3.983939</td>\n",
       "      <td>0.854792</td>\n",
       "      <td>0.855326</td>\n",
       "      <td>1.683100</td>\n",
       "    </tr>\n",
       "    <tr>\n",
       "      <th>b</th>\n",
       "      <td>1.066035</td>\n",
       "      <td>1.186615</td>\n",
       "      <td>1.678126</td>\n",
       "      <td>-0.540058</td>\n",
       "      <td>0.409006</td>\n",
       "      <td>0.578422</td>\n",
       "    </tr>\n",
       "  </tbody>\n",
       "</table>\n",
       "</div>"
      ],
      "text/plain": [
       "         data1                            data2                       \n",
       "          mean       std peak_to_peak      mean       std peak_to_peak\n",
       "key1                                                                  \n",
       "a    -0.065711  2.197305     3.983939  0.854792  0.855326     1.683100\n",
       "b     1.066035  1.186615     1.678126 -0.540058  0.409006     0.578422"
      ]
     },
     "execution_count": 24,
     "metadata": {},
     "output_type": "execute_result"
    }
   ],
   "source": [
    "grouped.agg(['mean', 'std', peak_to_peak])"
   ]
  },
  {
   "cell_type": "code",
   "execution_count": 25,
   "metadata": {
    "collapsed": false
   },
   "outputs": [
    {
     "data": {
      "text/html": [
       "<div>\n",
       "<table border=\"1\" class=\"dataframe\">\n",
       "  <thead>\n",
       "    <tr>\n",
       "      <th></th>\n",
       "      <th colspan=\"2\" halign=\"left\">data1</th>\n",
       "      <th colspan=\"2\" halign=\"left\">data2</th>\n",
       "    </tr>\n",
       "    <tr>\n",
       "      <th></th>\n",
       "      <th>func1</th>\n",
       "      <th>foo</th>\n",
       "      <th>func1</th>\n",
       "      <th>foo</th>\n",
       "    </tr>\n",
       "    <tr>\n",
       "      <th>key1</th>\n",
       "      <th></th>\n",
       "      <th></th>\n",
       "      <th></th>\n",
       "      <th></th>\n",
       "    </tr>\n",
       "  </thead>\n",
       "  <tbody>\n",
       "    <tr>\n",
       "      <th>a</th>\n",
       "      <td>-0.065711</td>\n",
       "      <td>3.983939</td>\n",
       "      <td>0.854792</td>\n",
       "      <td>1.683100</td>\n",
       "    </tr>\n",
       "    <tr>\n",
       "      <th>b</th>\n",
       "      <td>1.066035</td>\n",
       "      <td>1.678126</td>\n",
       "      <td>-0.540058</td>\n",
       "      <td>0.578422</td>\n",
       "    </tr>\n",
       "  </tbody>\n",
       "</table>\n",
       "</div>"
      ],
      "text/plain": [
       "         data1               data2          \n",
       "         func1       foo     func1       foo\n",
       "key1                                        \n",
       "a    -0.065711  3.983939  0.854792  1.683100\n",
       "b     1.066035  1.678126 -0.540058  0.578422"
      ]
     },
     "execution_count": 25,
     "metadata": {},
     "output_type": "execute_result"
    }
   ],
   "source": [
    "grouped.agg([('func1', 'mean'),('foo', peak_to_peak)])"
   ]
  },
  {
   "cell_type": "code",
   "execution_count": 26,
   "metadata": {
    "collapsed": false
   },
   "outputs": [
    {
     "data": {
      "text/html": [
       "<div>\n",
       "<table border=\"1\" class=\"dataframe\">\n",
       "  <thead>\n",
       "    <tr style=\"text-align: right;\">\n",
       "      <th></th>\n",
       "      <th>data1</th>\n",
       "      <th>data2</th>\n",
       "    </tr>\n",
       "    <tr>\n",
       "      <th>key1</th>\n",
       "      <th></th>\n",
       "      <th></th>\n",
       "    </tr>\n",
       "  </thead>\n",
       "  <tbody>\n",
       "    <tr>\n",
       "      <th>a</th>\n",
       "      <td>2.461735</td>\n",
       "      <td>1.683100</td>\n",
       "    </tr>\n",
       "    <tr>\n",
       "      <th>b</th>\n",
       "      <td>1.905098</td>\n",
       "      <td>0.578422</td>\n",
       "    </tr>\n",
       "  </tbody>\n",
       "</table>\n",
       "</div>"
      ],
      "text/plain": [
       "         data1     data2\n",
       "key1                    \n",
       "a     2.461735  1.683100\n",
       "b     1.905098  0.578422"
      ]
     },
     "execution_count": 26,
     "metadata": {},
     "output_type": "execute_result"
    }
   ],
   "source": [
    "grouped.agg({'data1': np.max, 'data2': peak_to_peak})"
   ]
  },
  {
   "cell_type": "markdown",
   "metadata": {},
   "source": [
    "## Group-wise operations and transformations\n",
    "There are other group-wise operations other than aggregations. "
   ]
  },
  {
   "cell_type": "code",
   "execution_count": 27,
   "metadata": {
    "collapsed": false
   },
   "outputs": [
    {
     "data": {
      "text/html": [
       "<div>\n",
       "<table border=\"1\" class=\"dataframe\">\n",
       "  <thead>\n",
       "    <tr style=\"text-align: right;\">\n",
       "      <th></th>\n",
       "      <th>a1</th>\n",
       "      <th>a2</th>\n",
       "      <th>a3</th>\n",
       "      <th>a4</th>\n",
       "      <th>a5</th>\n",
       "    </tr>\n",
       "  </thead>\n",
       "  <tbody>\n",
       "    <tr>\n",
       "      <th>one</th>\n",
       "      <td>-0.981540</td>\n",
       "      <td>0.820206</td>\n",
       "      <td>-0.423179</td>\n",
       "      <td>-1.282379</td>\n",
       "      <td>-0.165746</td>\n",
       "    </tr>\n",
       "    <tr>\n",
       "      <th>two</th>\n",
       "      <td>0.096189</td>\n",
       "      <td>0.189855</td>\n",
       "      <td>-1.207857</td>\n",
       "      <td>0.463309</td>\n",
       "      <td>0.740622</td>\n",
       "    </tr>\n",
       "  </tbody>\n",
       "</table>\n",
       "</div>"
      ],
      "text/plain": [
       "           a1        a2        a3        a4        a5\n",
       "one -0.981540  0.820206 -0.423179 -1.282379 -0.165746\n",
       "two  0.096189  0.189855 -1.207857  0.463309  0.740622"
      ]
     },
     "execution_count": 27,
     "metadata": {},
     "output_type": "execute_result"
    }
   ],
   "source": [
    "key = ['one', 'two', 'one', 'two', 'two']\n",
    "ppl.groupby(key).mean()"
   ]
  },
  {
   "cell_type": "code",
   "execution_count": 28,
   "metadata": {
    "collapsed": false
   },
   "outputs": [
    {
     "data": {
      "text/html": [
       "<div>\n",
       "<table border=\"1\" class=\"dataframe\">\n",
       "  <thead>\n",
       "    <tr style=\"text-align: right;\">\n",
       "      <th></th>\n",
       "      <th>a1</th>\n",
       "      <th>a2</th>\n",
       "      <th>a3</th>\n",
       "      <th>a4</th>\n",
       "      <th>a5</th>\n",
       "    </tr>\n",
       "  </thead>\n",
       "  <tbody>\n",
       "    <tr>\n",
       "      <th>Peter</th>\n",
       "      <td>-0.981540</td>\n",
       "      <td>0.820206</td>\n",
       "      <td>-0.423179</td>\n",
       "      <td>-1.282379</td>\n",
       "      <td>-0.165746</td>\n",
       "    </tr>\n",
       "    <tr>\n",
       "      <th>Eric</th>\n",
       "      <td>0.096189</td>\n",
       "      <td>0.189855</td>\n",
       "      <td>-1.207857</td>\n",
       "      <td>0.463309</td>\n",
       "      <td>0.740622</td>\n",
       "    </tr>\n",
       "    <tr>\n",
       "      <th>Bob</th>\n",
       "      <td>-0.981540</td>\n",
       "      <td>0.820206</td>\n",
       "      <td>-0.423179</td>\n",
       "      <td>-1.282379</td>\n",
       "      <td>-0.165746</td>\n",
       "    </tr>\n",
       "    <tr>\n",
       "      <th>Paul</th>\n",
       "      <td>0.096189</td>\n",
       "      <td>0.189855</td>\n",
       "      <td>-1.207857</td>\n",
       "      <td>0.463309</td>\n",
       "      <td>0.740622</td>\n",
       "    </tr>\n",
       "    <tr>\n",
       "      <th>Andy</th>\n",
       "      <td>0.096189</td>\n",
       "      <td>0.189855</td>\n",
       "      <td>-1.207857</td>\n",
       "      <td>0.463309</td>\n",
       "      <td>0.740622</td>\n",
       "    </tr>\n",
       "  </tbody>\n",
       "</table>\n",
       "</div>"
      ],
      "text/plain": [
       "             a1        a2        a3        a4        a5\n",
       "Peter -0.981540  0.820206 -0.423179 -1.282379 -0.165746\n",
       "Eric   0.096189  0.189855 -1.207857  0.463309  0.740622\n",
       "Bob   -0.981540  0.820206 -0.423179 -1.282379 -0.165746\n",
       "Paul   0.096189  0.189855 -1.207857  0.463309  0.740622\n",
       "Andy   0.096189  0.189855 -1.207857  0.463309  0.740622"
      ]
     },
     "execution_count": 28,
     "metadata": {},
     "output_type": "execute_result"
    }
   ],
   "source": [
    "ppl.groupby(key).transform(np.mean)"
   ]
  },
  {
   "cell_type": "markdown",
   "metadata": {},
   "source": [
    "__transform__ applies a function to each group, then places the results in the appropriate locations. If each group produces a scalar value, it will be propagated. The passing function must either produce a scalar value to be broadcasted or a transformed array of the same size."
   ]
  },
  {
   "cell_type": "code",
   "execution_count": 29,
   "metadata": {
    "collapsed": true
   },
   "outputs": [],
   "source": [
    "def demean(arr):\n",
    "    return arr - arr.mean()"
   ]
  },
  {
   "cell_type": "code",
   "execution_count": 30,
   "metadata": {
    "collapsed": false
   },
   "outputs": [
    {
     "data": {
      "text/html": [
       "<div>\n",
       "<table border=\"1\" class=\"dataframe\">\n",
       "  <thead>\n",
       "    <tr style=\"text-align: right;\">\n",
       "      <th></th>\n",
       "      <th>a1</th>\n",
       "      <th>a2</th>\n",
       "      <th>a3</th>\n",
       "      <th>a4</th>\n",
       "      <th>a5</th>\n",
       "    </tr>\n",
       "  </thead>\n",
       "  <tbody>\n",
       "    <tr>\n",
       "      <th>Peter</th>\n",
       "      <td>0.000000</td>\n",
       "      <td>0.180323</td>\n",
       "      <td>0.181738</td>\n",
       "      <td>0.863687</td>\n",
       "      <td>0.000000</td>\n",
       "    </tr>\n",
       "    <tr>\n",
       "      <th>Eric</th>\n",
       "      <td>-1.280016</td>\n",
       "      <td>-0.042727</td>\n",
       "      <td>-0.220917</td>\n",
       "      <td>0.690518</td>\n",
       "      <td>-0.053877</td>\n",
       "    </tr>\n",
       "    <tr>\n",
       "      <th>Bob</th>\n",
       "      <td>NaN</td>\n",
       "      <td>-0.180323</td>\n",
       "      <td>-0.181738</td>\n",
       "      <td>-0.863687</td>\n",
       "      <td>NaN</td>\n",
       "    </tr>\n",
       "    <tr>\n",
       "      <th>Paul</th>\n",
       "      <td>NaN</td>\n",
       "      <td>-0.675834</td>\n",
       "      <td>-0.295708</td>\n",
       "      <td>-0.305078</td>\n",
       "      <td>NaN</td>\n",
       "    </tr>\n",
       "    <tr>\n",
       "      <th>Andy</th>\n",
       "      <td>1.280016</td>\n",
       "      <td>0.718561</td>\n",
       "      <td>0.516625</td>\n",
       "      <td>-0.385440</td>\n",
       "      <td>0.053877</td>\n",
       "    </tr>\n",
       "  </tbody>\n",
       "</table>\n",
       "</div>"
      ],
      "text/plain": [
       "             a1        a2        a3        a4        a5\n",
       "Peter  0.000000  0.180323  0.181738  0.863687  0.000000\n",
       "Eric  -1.280016 -0.042727 -0.220917  0.690518 -0.053877\n",
       "Bob         NaN -0.180323 -0.181738 -0.863687       NaN\n",
       "Paul        NaN -0.675834 -0.295708 -0.305078       NaN\n",
       "Andy   1.280016  0.718561  0.516625 -0.385440  0.053877"
      ]
     },
     "execution_count": 30,
     "metadata": {},
     "output_type": "execute_result"
    }
   ],
   "source": [
    "demeaned =  ppl.groupby(key).transform(demean)\n",
    "demeaned"
   ]
  },
  {
   "cell_type": "code",
   "execution_count": 31,
   "metadata": {
    "collapsed": false
   },
   "outputs": [
    {
     "data": {
      "text/html": [
       "<div>\n",
       "<table border=\"1\" class=\"dataframe\">\n",
       "  <thead>\n",
       "    <tr style=\"text-align: right;\">\n",
       "      <th></th>\n",
       "      <th>a1</th>\n",
       "      <th>a2</th>\n",
       "      <th>a3</th>\n",
       "      <th>a4</th>\n",
       "      <th>a5</th>\n",
       "    </tr>\n",
       "  </thead>\n",
       "  <tbody>\n",
       "    <tr>\n",
       "      <th>one</th>\n",
       "      <td>0.0</td>\n",
       "      <td>5.551115e-17</td>\n",
       "      <td>2.775558e-17</td>\n",
       "      <td>-5.551115e-17</td>\n",
       "      <td>0.000000e+00</td>\n",
       "    </tr>\n",
       "    <tr>\n",
       "      <th>two</th>\n",
       "      <td>0.0</td>\n",
       "      <td>-3.700743e-17</td>\n",
       "      <td>-1.480297e-16</td>\n",
       "      <td>0.000000e+00</td>\n",
       "      <td>-5.551115e-17</td>\n",
       "    </tr>\n",
       "  </tbody>\n",
       "</table>\n",
       "</div>"
      ],
      "text/plain": [
       "      a1            a2            a3            a4            a5\n",
       "one  0.0  5.551115e-17  2.775558e-17 -5.551115e-17  0.000000e+00\n",
       "two  0.0 -3.700743e-17 -1.480297e-16  0.000000e+00 -5.551115e-17"
      ]
     },
     "execution_count": 31,
     "metadata": {},
     "output_type": "execute_result"
    }
   ],
   "source": [
    "demeaned.groupby(key).mean()"
   ]
  },
  {
   "cell_type": "markdown",
   "metadata": {},
   "source": [
    "__apply__, as a general purpose GroupBy method, splits the object being manipulated into pieces, invokes the passed function on each piece, then attempts to concatenate the pieces together."
   ]
  },
  {
   "cell_type": "code",
   "execution_count": 32,
   "metadata": {
    "collapsed": false
   },
   "outputs": [
    {
     "data": {
      "text/html": [
       "<div>\n",
       "<table border=\"1\" class=\"dataframe\">\n",
       "  <thead>\n",
       "    <tr style=\"text-align: right;\">\n",
       "      <th></th>\n",
       "      <th></th>\n",
       "      <th>data1</th>\n",
       "      <th>data2</th>\n",
       "    </tr>\n",
       "    <tr>\n",
       "      <th>key1</th>\n",
       "      <th></th>\n",
       "      <th></th>\n",
       "      <th></th>\n",
       "    </tr>\n",
       "  </thead>\n",
       "  <tbody>\n",
       "    <tr>\n",
       "      <th rowspan=\"8\" valign=\"top\">a</th>\n",
       "      <th>count</th>\n",
       "      <td>3.000000</td>\n",
       "      <td>3.000000</td>\n",
       "    </tr>\n",
       "    <tr>\n",
       "      <th>mean</th>\n",
       "      <td>-0.065711</td>\n",
       "      <td>0.854792</td>\n",
       "    </tr>\n",
       "    <tr>\n",
       "      <th>std</th>\n",
       "      <td>2.197305</td>\n",
       "      <td>0.855326</td>\n",
       "    </tr>\n",
       "    <tr>\n",
       "      <th>min</th>\n",
       "      <td>-1.522204</td>\n",
       "      <td>0.101514</td>\n",
       "    </tr>\n",
       "    <tr>\n",
       "      <th>25%</th>\n",
       "      <td>-1.329434</td>\n",
       "      <td>0.389880</td>\n",
       "    </tr>\n",
       "    <tr>\n",
       "      <th>50%</th>\n",
       "      <td>-1.136664</td>\n",
       "      <td>0.678247</td>\n",
       "    </tr>\n",
       "    <tr>\n",
       "      <th>75%</th>\n",
       "      <td>0.662536</td>\n",
       "      <td>1.231431</td>\n",
       "    </tr>\n",
       "    <tr>\n",
       "      <th>max</th>\n",
       "      <td>2.461735</td>\n",
       "      <td>1.784615</td>\n",
       "    </tr>\n",
       "    <tr>\n",
       "      <th rowspan=\"8\" valign=\"top\">b</th>\n",
       "      <th>count</th>\n",
       "      <td>2.000000</td>\n",
       "      <td>2.000000</td>\n",
       "    </tr>\n",
       "    <tr>\n",
       "      <th>mean</th>\n",
       "      <td>1.066035</td>\n",
       "      <td>-0.540058</td>\n",
       "    </tr>\n",
       "    <tr>\n",
       "      <th>std</th>\n",
       "      <td>1.186615</td>\n",
       "      <td>0.409006</td>\n",
       "    </tr>\n",
       "    <tr>\n",
       "      <th>min</th>\n",
       "      <td>0.226972</td>\n",
       "      <td>-0.829269</td>\n",
       "    </tr>\n",
       "    <tr>\n",
       "      <th>25%</th>\n",
       "      <td>0.646504</td>\n",
       "      <td>-0.684664</td>\n",
       "    </tr>\n",
       "    <tr>\n",
       "      <th>50%</th>\n",
       "      <td>1.066035</td>\n",
       "      <td>-0.540058</td>\n",
       "    </tr>\n",
       "    <tr>\n",
       "      <th>75%</th>\n",
       "      <td>1.485567</td>\n",
       "      <td>-0.395453</td>\n",
       "    </tr>\n",
       "    <tr>\n",
       "      <th>max</th>\n",
       "      <td>1.905098</td>\n",
       "      <td>-0.250847</td>\n",
       "    </tr>\n",
       "  </tbody>\n",
       "</table>\n",
       "</div>"
      ],
      "text/plain": [
       "               data1     data2\n",
       "key1                          \n",
       "a    count  3.000000  3.000000\n",
       "     mean  -0.065711  0.854792\n",
       "     std    2.197305  0.855326\n",
       "     min   -1.522204  0.101514\n",
       "     25%   -1.329434  0.389880\n",
       "     50%   -1.136664  0.678247\n",
       "     75%    0.662536  1.231431\n",
       "     max    2.461735  1.784615\n",
       "b    count  2.000000  2.000000\n",
       "     mean   1.066035 -0.540058\n",
       "     std    1.186615  0.409006\n",
       "     min    0.226972 -0.829269\n",
       "     25%    0.646504 -0.684664\n",
       "     50%    1.066035 -0.540058\n",
       "     75%    1.485567 -0.395453\n",
       "     max    1.905098 -0.250847"
      ]
     },
     "execution_count": 32,
     "metadata": {},
     "output_type": "execute_result"
    }
   ],
   "source": [
    "f = lambda x: x.describe()\n",
    "grouped.apply(f)"
   ]
  },
  {
   "cell_type": "code",
   "execution_count": 33,
   "metadata": {
    "collapsed": false
   },
   "outputs": [
    {
     "data": {
      "text/plain": [
       "0    (-1.971, -0.406]\n",
       "1      (-0.406, 1.16]\n",
       "2    (-1.971, -0.406]\n",
       "3      (-0.406, 1.16]\n",
       "4       (1.16, 2.725]\n",
       "5    (-1.971, -0.406]\n",
       "6       (1.16, 2.725]\n",
       "7      (-0.406, 1.16]\n",
       "8      (-0.406, 1.16]\n",
       "9    (-1.971, -0.406]\n",
       "Name: data1, dtype: category\n",
       "Categories (4, object): [(-3.543, -1.971] < (-1.971, -0.406] < (-0.406, 1.16] < (1.16, 2.725]]"
      ]
     },
     "execution_count": 33,
     "metadata": {},
     "output_type": "execute_result"
    }
   ],
   "source": [
    "frame = pd.DataFrame({'data1' : np.random.randn(1000),\n",
    "                      'data2' : np.random.randn(1000)})\n",
    "factor = pd.cut(frame.data1, 4)\n",
    "factor[:10]"
   ]
  },
  {
   "cell_type": "code",
   "execution_count": 34,
   "metadata": {
    "collapsed": false
   },
   "outputs": [
    {
     "data": {
      "text/html": [
       "<div>\n",
       "<table border=\"1\" class=\"dataframe\">\n",
       "  <thead>\n",
       "    <tr style=\"text-align: right;\">\n",
       "      <th></th>\n",
       "      <th>count</th>\n",
       "      <th>max</th>\n",
       "      <th>mean</th>\n",
       "      <th>min</th>\n",
       "    </tr>\n",
       "    <tr>\n",
       "      <th>data1</th>\n",
       "      <th></th>\n",
       "      <th></th>\n",
       "      <th></th>\n",
       "      <th></th>\n",
       "    </tr>\n",
       "  </thead>\n",
       "  <tbody>\n",
       "    <tr>\n",
       "      <th>(-3.543, -1.971]</th>\n",
       "      <td>32.0</td>\n",
       "      <td>1.615994</td>\n",
       "      <td>-0.132134</td>\n",
       "      <td>-2.245312</td>\n",
       "    </tr>\n",
       "    <tr>\n",
       "      <th>(-1.971, -0.406]</th>\n",
       "      <td>297.0</td>\n",
       "      <td>2.821692</td>\n",
       "      <td>-0.060767</td>\n",
       "      <td>-3.030239</td>\n",
       "    </tr>\n",
       "    <tr>\n",
       "      <th>(-0.406, 1.16]</th>\n",
       "      <td>547.0</td>\n",
       "      <td>2.866991</td>\n",
       "      <td>-0.053595</td>\n",
       "      <td>-2.620152</td>\n",
       "    </tr>\n",
       "    <tr>\n",
       "      <th>(1.16, 2.725]</th>\n",
       "      <td>124.0</td>\n",
       "      <td>2.339714</td>\n",
       "      <td>0.123519</td>\n",
       "      <td>-2.404605</td>\n",
       "    </tr>\n",
       "  </tbody>\n",
       "</table>\n",
       "</div>"
      ],
      "text/plain": [
       "                  count       max      mean       min\n",
       "data1                                                \n",
       "(-3.543, -1.971]   32.0  1.615994 -0.132134 -2.245312\n",
       "(-1.971, -0.406]  297.0  2.821692 -0.060767 -3.030239\n",
       "(-0.406, 1.16]    547.0  2.866991 -0.053595 -2.620152\n",
       "(1.16, 2.725]     124.0  2.339714  0.123519 -2.404605"
      ]
     },
     "execution_count": 34,
     "metadata": {},
     "output_type": "execute_result"
    }
   ],
   "source": [
    "def get_stats(group):\n",
    "    return {'min' : group.min(), 'max': group.max(),\n",
    "            'count': group.count(), 'mean': group.mean()}\n",
    "grouped = frame.data2.groupby(factor)\n",
    "\n",
    "grouped.apply(get_stats).unstack()"
   ]
  },
  {
   "cell_type": "code",
   "execution_count": 35,
   "metadata": {
    "collapsed": false
   },
   "outputs": [
    {
     "data": {
      "text/html": [
       "<div>\n",
       "<table border=\"1\" class=\"dataframe\">\n",
       "  <thead>\n",
       "    <tr style=\"text-align: right;\">\n",
       "      <th></th>\n",
       "      <th>count</th>\n",
       "      <th>max</th>\n",
       "      <th>mean</th>\n",
       "      <th>min</th>\n",
       "    </tr>\n",
       "    <tr>\n",
       "      <th>data1</th>\n",
       "      <th></th>\n",
       "      <th></th>\n",
       "      <th></th>\n",
       "      <th></th>\n",
       "    </tr>\n",
       "  </thead>\n",
       "  <tbody>\n",
       "    <tr>\n",
       "      <th>0</th>\n",
       "      <td>100.0</td>\n",
       "      <td>2.380039</td>\n",
       "      <td>0.006999</td>\n",
       "      <td>-2.530172</td>\n",
       "    </tr>\n",
       "    <tr>\n",
       "      <th>1</th>\n",
       "      <td>100.0</td>\n",
       "      <td>2.787603</td>\n",
       "      <td>-0.027541</td>\n",
       "      <td>-3.030239</td>\n",
       "    </tr>\n",
       "    <tr>\n",
       "      <th>2</th>\n",
       "      <td>100.0</td>\n",
       "      <td>2.821692</td>\n",
       "      <td>-0.099315</td>\n",
       "      <td>-2.669539</td>\n",
       "    </tr>\n",
       "    <tr>\n",
       "      <th>3</th>\n",
       "      <td>100.0</td>\n",
       "      <td>2.542282</td>\n",
       "      <td>-0.149061</td>\n",
       "      <td>-2.203485</td>\n",
       "    </tr>\n",
       "    <tr>\n",
       "      <th>4</th>\n",
       "      <td>100.0</td>\n",
       "      <td>2.122418</td>\n",
       "      <td>-0.006729</td>\n",
       "      <td>-2.620152</td>\n",
       "    </tr>\n",
       "    <tr>\n",
       "      <th>5</th>\n",
       "      <td>100.0</td>\n",
       "      <td>2.769319</td>\n",
       "      <td>-0.145556</td>\n",
       "      <td>-2.616169</td>\n",
       "    </tr>\n",
       "    <tr>\n",
       "      <th>6</th>\n",
       "      <td>100.0</td>\n",
       "      <td>1.745859</td>\n",
       "      <td>-0.105678</td>\n",
       "      <td>-2.268189</td>\n",
       "    </tr>\n",
       "    <tr>\n",
       "      <th>7</th>\n",
       "      <td>100.0</td>\n",
       "      <td>2.633678</td>\n",
       "      <td>0.060648</td>\n",
       "      <td>-1.926117</td>\n",
       "    </tr>\n",
       "    <tr>\n",
       "      <th>8</th>\n",
       "      <td>100.0</td>\n",
       "      <td>2.866991</td>\n",
       "      <td>-0.023449</td>\n",
       "      <td>-2.008490</td>\n",
       "    </tr>\n",
       "    <tr>\n",
       "      <th>9</th>\n",
       "      <td>100.0</td>\n",
       "      <td>2.339714</td>\n",
       "      <td>0.126918</td>\n",
       "      <td>-2.404605</td>\n",
       "    </tr>\n",
       "  </tbody>\n",
       "</table>\n",
       "</div>"
      ],
      "text/plain": [
       "       count       max      mean       min\n",
       "data1                                     \n",
       "0      100.0  2.380039  0.006999 -2.530172\n",
       "1      100.0  2.787603 -0.027541 -3.030239\n",
       "2      100.0  2.821692 -0.099315 -2.669539\n",
       "3      100.0  2.542282 -0.149061 -2.203485\n",
       "4      100.0  2.122418 -0.006729 -2.620152\n",
       "5      100.0  2.769319 -0.145556 -2.616169\n",
       "6      100.0  1.745859 -0.105678 -2.268189\n",
       "7      100.0  2.633678  0.060648 -1.926117\n",
       "8      100.0  2.866991 -0.023449 -2.008490\n",
       "9      100.0  2.339714  0.126918 -2.404605"
      ]
     },
     "execution_count": 35,
     "metadata": {},
     "output_type": "execute_result"
    }
   ],
   "source": [
    "grouping = pd.qcut(frame.data1, 10, labels=False)\n",
    "\n",
    "grouped = frame.data2.groupby(grouping)\n",
    "\n",
    "grouped.apply(get_stats).unstack()"
   ]
  },
  {
   "cell_type": "markdown",
   "metadata": {},
   "source": [
    "## Examples"
   ]
  },
  {
   "cell_type": "code",
   "execution_count": 36,
   "metadata": {
    "collapsed": false
   },
   "outputs": [
    {
     "data": {
      "text/html": [
       "<div>\n",
       "<table border=\"1\" class=\"dataframe\">\n",
       "  <thead>\n",
       "    <tr style=\"text-align: right;\">\n",
       "      <th></th>\n",
       "      <th>level</th>\n",
       "      <th>value</th>\n",
       "      <th>w</th>\n",
       "    </tr>\n",
       "  </thead>\n",
       "  <tbody>\n",
       "    <tr>\n",
       "      <th>0</th>\n",
       "      <td>c</td>\n",
       "      <td>0.661200</td>\n",
       "      <td>1.002428</td>\n",
       "    </tr>\n",
       "    <tr>\n",
       "      <th>1</th>\n",
       "      <td>c</td>\n",
       "      <td>-0.424406</td>\n",
       "      <td>0.203779</td>\n",
       "    </tr>\n",
       "    <tr>\n",
       "      <th>2</th>\n",
       "      <td>c</td>\n",
       "      <td>-0.397619</td>\n",
       "      <td>0.823286</td>\n",
       "    </tr>\n",
       "    <tr>\n",
       "      <th>3</th>\n",
       "      <td>b</td>\n",
       "      <td>0.611042</td>\n",
       "      <td>-0.468760</td>\n",
       "    </tr>\n",
       "    <tr>\n",
       "      <th>4</th>\n",
       "      <td>c</td>\n",
       "      <td>-0.177115</td>\n",
       "      <td>-0.638576</td>\n",
       "    </tr>\n",
       "    <tr>\n",
       "      <th>5</th>\n",
       "      <td>b</td>\n",
       "      <td>1.250478</td>\n",
       "      <td>0.481262</td>\n",
       "    </tr>\n",
       "    <tr>\n",
       "      <th>6</th>\n",
       "      <td>b</td>\n",
       "      <td>-0.557449</td>\n",
       "      <td>0.201949</td>\n",
       "    </tr>\n",
       "    <tr>\n",
       "      <th>7</th>\n",
       "      <td>c</td>\n",
       "      <td>-0.089000</td>\n",
       "      <td>0.154958</td>\n",
       "    </tr>\n",
       "  </tbody>\n",
       "</table>\n",
       "</div>"
      ],
      "text/plain": [
       "  level     value         w\n",
       "0     c  0.661200  1.002428\n",
       "1     c -0.424406  0.203779\n",
       "2     c -0.397619  0.823286\n",
       "3     b  0.611042 -0.468760\n",
       "4     c -0.177115 -0.638576\n",
       "5     b  1.250478  0.481262\n",
       "6     b -0.557449  0.201949\n",
       "7     c -0.089000  0.154958"
      ]
     },
     "execution_count": 36,
     "metadata": {},
     "output_type": "execute_result"
    }
   ],
   "source": [
    "df = pd.DataFrame({'level': ['c', 'c', 'c', 'b', 'c', 'b', 'b', 'c'],\n",
    "                   'value': np.random.randn(8),\n",
    "                   'w': np.random.randn(8)})\n",
    "df"
   ]
  },
  {
   "cell_type": "code",
   "execution_count": 37,
   "metadata": {
    "collapsed": false
   },
   "outputs": [
    {
     "data": {
      "text/plain": [
       "level\n",
       "b    0.945664\n",
       "c    0.225294\n",
       "dtype: float64"
      ]
     },
     "execution_count": 37,
     "metadata": {},
     "output_type": "execute_result"
    }
   ],
   "source": [
    "weighted = lambda g: np.average(g['value'], weights = g['w'])\n",
    "grouped = df.groupby('level')\n",
    "grouped.apply(weighted)"
   ]
  }
 ],
 "metadata": {
  "kernelspec": {
   "display_name": "Python 3",
   "language": "python",
   "name": "python3"
  },
  "language_info": {
   "codemirror_mode": {
    "name": "ipython",
    "version": 3
   },
   "file_extension": ".py",
   "mimetype": "text/x-python",
   "name": "python",
   "nbconvert_exporter": "python",
   "pygments_lexer": "ipython3",
   "version": "3.5.2"
  }
 },
 "nbformat": 4,
 "nbformat_minor": 0
}
