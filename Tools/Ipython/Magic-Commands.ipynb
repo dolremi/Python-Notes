{
 "cells": [
  {
   "cell_type": "markdown",
   "metadata": {},
   "source": [
    "# Built-in Magic Commands\n",
    "In general magic functions have the *lowest precedence*, if there is a name conflicts with the python variable, always goes with the python variable. This file only discussed some common magic functions not the exhausted list, more information needs to go to the [Ipython Official Website](http://ipython.readthedocs.org/en/stable/interactive/magics.html)\n",
    "# Line Magic\n",
    "The list below is the line magic which takes the entire line as the magic.\n",
    "\n",
    "## Alias\n",
    "%alias alias_name command can associate the alias_name with a shell command. The alias has the **lower precedence** than normal Python variable or magic functions."
   ]
  },
  {
   "cell_type": "code",
   "execution_count": 1,
   "metadata": {
    "collapsed": false
   },
   "outputs": [
    {
     "name": "stdout",
     "output_type": "stream",
     "text": [
      "Introduction.ipynb  Magic-Commands.ipynb\r\n"
     ]
    }
   ],
   "source": [
    "%alias show ls\n",
    "%show"
   ]
  },
  {
   "cell_type": "markdown",
   "metadata": {},
   "source": [
    "# bookmark\n",
    "One can bookmark the directory for the later use."
   ]
  },
  {
   "cell_type": "code",
   "execution_count": 2,
   "metadata": {
    "collapsed": false
   },
   "outputs": [
    {
     "name": "stdout",
     "output_type": "stream",
     "text": [
      "(bookmark:current) -> /Users/jiaxu/Documents/Python-Notes/Tools/Ipython\n",
      "/Users/jiaxu/Documents/Python-Notes/Tools/Ipython\n"
     ]
    }
   ],
   "source": [
    "%bookmark current\n",
    "%cd current"
   ]
  },
  {
   "cell_type": "code",
   "execution_count": 3,
   "metadata": {
    "collapsed": false
   },
   "outputs": [
    {
     "name": "stdout",
     "output_type": "stream",
     "text": [
      "Current bookmarks:\n",
      "current -> /Users/jiaxu/Documents/Python-Notes/Tools/Ipython\n",
      "db      -> /Users/jiaxu/Dropbox\n"
     ]
    }
   ],
   "source": [
    "%bookmark -l"
   ]
  },
  {
   "cell_type": "code",
   "execution_count": 4,
   "metadata": {
    "collapsed": true
   },
   "outputs": [],
   "source": [
    "%bookmark -d current"
   ]
  },
  {
   "cell_type": "code",
   "execution_count": 5,
   "metadata": {
    "collapsed": false
   },
   "outputs": [
    {
     "name": "stdout",
     "output_type": "stream",
     "text": [
      "Current bookmarks:\n",
      "db -> /Users/jiaxu/Dropbox\n"
     ]
    }
   ],
   "source": [
    "%bookmark -l"
   ]
  },
  {
   "cell_type": "markdown",
   "metadata": {},
   "source": [
    "## color "
   ]
  },
  {
   "cell_type": "code",
   "execution_count": 6,
   "metadata": {
    "collapsed": false
   },
   "outputs": [],
   "source": [
    "%colors linux"
   ]
  },
  {
   "cell_type": "markdown",
   "metadata": {},
   "source": [
    "## config\n",
    "This magic expose most of Ipython configure system. Any configurable classes can be specified via this magic function."
   ]
  },
  {
   "cell_type": "code",
   "execution_count": 7,
   "metadata": {
    "collapsed": false
   },
   "outputs": [
    {
     "name": "stdout",
     "output_type": "stream",
     "text": [
      "Available objects for config:\n",
      "     ZMQInteractiveShell\n",
      "     HistoryManager\n",
      "     PrefilterManager\n",
      "     IPCompleter\n",
      "     PromptManager\n",
      "     DisplayFormatter\n",
      "     MagicsManager\n",
      "     ScriptMagics\n",
      "     AliasManager\n",
      "     IPKernelApp\n",
      "     StoreMagics\n",
      "     StoreMagics\n"
     ]
    }
   ],
   "source": [
    "%config"
   ]
  },
  {
   "cell_type": "markdown",
   "metadata": {},
   "source": [
    "## debug\n",
    "%debug can be triggerred in two different mode. One is to activate the interactive debugger before executing the code, the other is to activate it in post-mortem mode. "
   ]
  },
  {
   "cell_type": "markdown",
   "metadata": {},
   "source": [
    "## edit\n",
    "Notice that in Ipython environment, one can call %edit to open up an editor to edit the file. The editor that will be open is set up via the Ipython editor hooker. The editor the Ipython used can be set via the configuration file."
   ]
  },
  {
   "cell_type": "code",
   "execution_count": 14,
   "metadata": {
    "collapsed": false
   },
   "outputs": [],
   "source": [
    "%edit \"Introduction.ipynb\""
   ]
  },
  {
   "cell_type": "markdown",
   "metadata": {},
   "source": [
    "## matplotlib\n",
    "This magic can activate matlplotlib interactive features."
   ]
  },
  {
   "cell_type": "code",
   "execution_count": 9,
   "metadata": {
    "collapsed": true
   },
   "outputs": [],
   "source": [
    "# in order to display the output from the matplotlib\n",
    "%matplotlib inline"
   ]
  },
  {
   "cell_type": "code",
   "execution_count": 10,
   "metadata": {
    "collapsed": false
   },
   "outputs": [
    {
     "name": "stdout",
     "output_type": "stream",
     "text": [
      "Available matplotlib backends: ['osx', 'qt4', 'qt5', 'gtk3', 'notebook', 'wx', 'qt', 'nbagg', 'gtk', 'tk', 'inline']\n"
     ]
    }
   ],
   "source": [
    "%matplotlib --list"
   ]
  },
  {
   "cell_type": "markdown",
   "metadata": {},
   "source": [
    "## notebook\n",
    "To export and convert Ipython notebook, this magic can be very helpful. In particular, it can convert the current Ipython history to a file. "
   ]
  },
  {
   "cell_type": "markdown",
   "metadata": {},
   "source": [
    "## pastebin\n",
    "This is an interesting magic, which can upload the code to Github's Gist paste bin, returning the URL."
   ]
  },
  {
   "cell_type": "markdown",
   "metadata": {},
   "source": [
    "## pdb\n",
    "Control the automatical calling of pdb interactive debugger."
   ]
  },
  {
   "cell_type": "code",
   "execution_count": 11,
   "metadata": {
    "collapsed": false
   },
   "outputs": [
    {
     "name": "stdout",
     "output_type": "stream",
     "text": [
      "Automatic pdb calling has been turned ON\n"
     ]
    }
   ],
   "source": [
    "%pdb on"
   ]
  },
  {
   "cell_type": "code",
   "execution_count": 12,
   "metadata": {
    "collapsed": false
   },
   "outputs": [
    {
     "name": "stdout",
     "output_type": "stream",
     "text": [
      "Automatic pdb calling has been turned OFF\n"
     ]
    }
   ],
   "source": [
    "%pdb off"
   ]
  },
  {
   "cell_type": "markdown",
   "metadata": {},
   "source": [
    "## pdef\n",
    "This magic can show the call signature of any function"
   ]
  },
  {
   "cell_type": "code",
   "execution_count": 13,
   "metadata": {
    "collapsed": false
   },
   "outputs": [
    {
     "name": "stdout",
     "output_type": "stream",
     "text": [
      "No definition header found for floor\n"
     ]
    }
   ],
   "source": [
    "from math import floor\n",
    "%pdef floor"
   ]
  },
  {
   "cell_type": "markdown",
   "metadata": {},
   "source": [
    "# prun\n",
    "Run a statement through the python code profiler. "
   ]
  },
  {
   "cell_type": "code",
   "execution_count": 15,
   "metadata": {
    "collapsed": false
   },
   "outputs": [
    {
     "name": "stdout",
     "output_type": "stream",
     "text": [
      " "
     ]
    }
   ],
   "source": [
    "%prun -l 20"
   ]
  },
  {
   "cell_type": "code",
   "execution_count": 16,
   "metadata": {
    "collapsed": false
   },
   "outputs": [
    {
     "name": "stdout",
     "output_type": "stream",
     "text": [
      "Documentation for the profile module can be found \n",
      "in the Python Library Reference, section 'The Python Profiler'.\n"
     ]
    }
   ],
   "source": [
    "import profile\n",
    "profile.help()"
   ]
  },
  {
   "cell_type": "markdown",
   "metadata": {},
   "source": [
    "# psearch\n",
    "%psearch can search any object in namespace. It is equivalent to use \"?\" to search object. Moreover, %psearch has some options that can search specific namespace, match with case insensitive, function with specfic pattern"
   ]
  },
  {
   "cell_type": "code",
   "execution_count": 18,
   "metadata": {
    "collapsed": true
   },
   "outputs": [],
   "source": [
    "%psearch -e builtin a*"
   ]
  },
  {
   "cell_type": "code",
   "execution_count": 19,
   "metadata": {
    "collapsed": true
   },
   "outputs": [],
   "source": [
    "%psearch a* function"
   ]
  },
  {
   "cell_type": "code",
   "execution_count": 20,
   "metadata": {
    "collapsed": true
   },
   "outputs": [],
   "source": [
    "%psearch re.a*"
   ]
  },
  {
   "cell_type": "markdown",
   "metadata": {},
   "source": [
    "## psource\n",
    "%psource can find the source code of the object"
   ]
  },
  {
   "cell_type": "code",
   "execution_count": 21,
   "metadata": {
    "collapsed": true
   },
   "outputs": [],
   "source": [
    "from pandas import read_csv\n",
    "%psource read_csv"
   ]
  },
  {
   "cell_type": "markdown",
   "metadata": {},
   "source": [
    "## pylab\n",
    "To load numpy and matplotlib to work interactively, there is a magic that can combine those two library within one commmand %pylab. Furthermore, **np** will be used to represent **numpy** while **plt** is used for **pyplot**."
   ]
  },
  {
   "cell_type": "code",
   "execution_count": 22,
   "metadata": {
    "collapsed": true
   },
   "outputs": [],
   "source": [
    "%quickref"
   ]
  },
  {
   "cell_type": "markdown",
   "metadata": {},
   "source": [
    "## run\n",
    "%run magic can run a python file as a program. It can load all variables into the interactive namespace for later use. More options like **-t** to timing the running time of the program. "
   ]
  },
  {
   "cell_type": "markdown",
   "metadata": {},
   "source": [
    "## save\n",
    "Similar to the magic command %run, %save command can save the lines of code into a file."
   ]
  },
  {
   "cell_type": "markdown",
   "metadata": {},
   "source": [
    "## Shell execution\n",
    "There are several magic commands that can do shell executions. Previously, we use **!!** or **!** to execute some shell programs. [%shell](http://ipython.readthedocs.org/en/stable/interactive/magics.html#magic-system), [%sx](http://ipython.readthedocs.org/en/stable/interactive/magics.html#magic-sx) and [%sc](http://ipython.readthedocs.org/en/stable/interactive/magics.html#magic-sc) are three common magic commands among them."
   ]
  },
  {
   "cell_type": "markdown",
   "metadata": {},
   "source": [
    "## timing execution\n",
    "The simple magic command will be %time with CPU and wall time printed. And the result of the expression will be output."
   ]
  },
  {
   "cell_type": "code",
   "execution_count": 23,
   "metadata": {
    "collapsed": false
   },
   "outputs": [
    {
     "name": "stdout",
     "output_type": "stream",
     "text": [
      "CPU times: user 4 µs, sys: 1 µs, total: 5 µs\n",
      "Wall time: 10 µs\n"
     ]
    },
    {
     "data": {
      "text/plain": [
       "34359738368"
      ]
     },
     "execution_count": 23,
     "metadata": {},
     "output_type": "execute_result"
    }
   ],
   "source": [
    "%time 2**35"
   ]
  },
  {
   "cell_type": "markdown",
   "metadata": {},
   "source": [
    "More control for the timing will be [%timeit](http://ipython.readthedocs.org/en/stable/interactive/magics.html#magic-timeit). It can repeat the loop to find the best."
   ]
  },
  {
   "cell_type": "code",
   "execution_count": 24,
   "metadata": {
    "collapsed": false
   },
   "outputs": [
    {
     "name": "stdout",
     "output_type": "stream",
     "text": [
      "The slowest run took 149.36 times longer than the fastest. This could mean that an intermediate result is being cached.\n",
      "10000000 loops, best of 100: 27.1 ns per loop\n"
     ]
    }
   ],
   "source": [
    "%timeit -r 100 2 **35"
   ]
  },
  {
   "cell_type": "markdown",
   "metadata": {},
   "source": [
    "## show all\n",
    "%who magic command can show all variables in the interactive environment. And one can specify the type of the variable that needs to be shown.\n",
    "%whos can show extra details regarding those variables."
   ]
  },
  {
   "cell_type": "code",
   "execution_count": 26,
   "metadata": {
    "collapsed": false
   },
   "outputs": [
    {
     "name": "stdout",
     "output_type": "stream",
     "text": [
      "floor\t profile\t read_csv\t \n"
     ]
    }
   ],
   "source": [
    "%who "
   ]
  },
  {
   "cell_type": "code",
   "execution_count": 27,
   "metadata": {
    "collapsed": false
   },
   "outputs": [
    {
     "name": "stdout",
     "output_type": "stream",
     "text": [
      "Variable   Type                          Data/Info\n",
      "--------------------------------------------------\n",
      "floor      builtin_function_or_method    <built-in function floor>\n",
      "profile    module                        <module 'profile' from '/<...>b/python2.7/profile.pyc'>\n",
      "read_csv   function                      <function read_csv at 0x106a4b320>\n"
     ]
    }
   ],
   "source": [
    "%whos"
   ]
  },
  {
   "cell_type": "markdown",
   "metadata": {},
   "source": [
    "# Cell Magic\n",
    "Cell magic starts with **%%**, and it usually runs the whole cell as a different language like ruby, javascript, etc."
   ]
  },
  {
   "cell_type": "code",
   "execution_count": 28,
   "metadata": {
    "collapsed": false
   },
   "outputs": [
    {
     "data": {
      "application/javascript": [
       "var a = 1;\n",
       "var test = function (a, b){\n",
       "    return a * b;\n",
       "}\n",
       "\n",
       "test(a, 2)"
      ],
      "text/plain": [
       "<IPython.core.display.Javascript object>"
      ]
     },
     "metadata": {},
     "output_type": "display_data"
    }
   ],
   "source": [
    "%%javascript \n",
    "var a = 1;\n",
    "var test = function (a, b){\n",
    "    return a * b;\n",
    "}\n",
    "\n",
    "test(a, 2)"
   ]
  },
  {
   "cell_type": "markdown",
   "metadata": {},
   "source": [
    "Moreover, the cell magic can use %%writefile to write the content of the cell into a file. "
   ]
  }
 ],
 "metadata": {
  "kernelspec": {
   "display_name": "Python 2",
   "language": "python",
   "name": "python2"
  },
  "language_info": {
   "codemirror_mode": {
    "name": "ipython",
    "version": 2
   },
   "file_extension": ".py",
   "mimetype": "text/x-python",
   "name": "python",
   "nbconvert_exporter": "python",
   "pygments_lexer": "ipython2",
   "version": "2.7.11"
  }
 },
 "nbformat": 4,
 "nbformat_minor": 0
}
