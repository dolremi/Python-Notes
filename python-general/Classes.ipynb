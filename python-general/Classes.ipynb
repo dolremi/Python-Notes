{
 "cells": [
  {
   "cell_type": "markdown",
   "metadata": {},
   "source": [
    "## Class\n",
    "A class is most commonly a collection of function known as *methods*, variables as *class variables*, and computed attributes as *properties*.\n",
    "\n",
    "For example, a **class** is defined as follows:"
   ]
  },
  {
   "cell_type": "code",
   "execution_count": 1,
   "metadata": {
    "collapsed": true
   },
   "outputs": [],
   "source": [
    "class Dog(object):\n",
    "    num_dogs = 0\n",
    "    \n",
    "    def __init__(self, name, age):\n",
    "        self.name = name\n",
    "        self.age = age\n",
    "        Dog.num_dogs += 1\n",
    "    \n",
    "    def __del__(self):\n",
    "        Dog.num_dogs -= 1\n",
    "    \n",
    "    def bark(self):\n",
    "        print \"Wang Wang Wang\"\n",
    "        \n",
    "    def inquiry(self):\n",
    "        return self.age"
   ]
  },
  {
   "cell_type": "markdown",
   "metadata": {},
   "source": [
    "The instance method like *bark* operates on an instance of the class. Class variables such as *num_dogs* are values that are shared among all instances of a class."
   ]
  },
  {
   "cell_type": "markdown",
   "metadata": {},
   "source": [
    "## Class Instances\n",
    "The class definition can be considered as the blueprint, however there are no any instances of the class. "
   ]
  },
  {
   "cell_type": "code",
   "execution_count": 2,
   "metadata": {
    "collapsed": true
   },
   "outputs": [],
   "source": [
    "a = Dog(\"Tina\", 2)"
   ]
  },
  {
   "cell_type": "markdown",
   "metadata": {},
   "source": [
    "The above code creates a new instance of **Dog** by calling a class object as a function. The new instance *a* will be passed to the \\__init\\__() method of the class. \n",
    "\n",
    "When you access an attribute, the instance is checked first and if nothing is known, the search moves to the instance's **class** instead.\n",
    "\n",
    "Although **classes** define a namespace, classes do not create a scope for names used inside teh bodies of methods. Therefore, the explicit use of **self** is required. "
   ]
  },
  {
   "cell_type": "markdown",
   "metadata": {},
   "source": [
    "## Inheritance\n",
    "When a class is created via inheritance, it \"inherits\" the attributes defined by its base class. There is a root of  class called **object**, which provides the default implementation of some common methods. "
   ]
  },
  {
   "cell_type": "code",
   "execution_count": 3,
   "metadata": {
    "collapsed": true
   },
   "outputs": [],
   "source": [
    "class OldDog(Dog):\n",
    "    def inquiry(self):\n",
    "        super(OldDog, self).bark()\n",
    "        if self.age > 3:\n",
    "            return True\n",
    "        else:\n",
    "            return False"
   ]
  },
  {
   "cell_type": "code",
   "execution_count": 4,
   "metadata": {
    "collapsed": false
   },
   "outputs": [
    {
     "name": "stdout",
     "output_type": "stream",
     "text": [
      "Wang Wang Wang\n"
     ]
    },
    {
     "data": {
      "text/plain": [
       "True"
      ]
     },
     "execution_count": 4,
     "metadata": {},
     "output_type": "execute_result"
    }
   ],
   "source": [
    "b = OldDog(\"Grey\", 5)\n",
    "b.inquiry()"
   ]
  },
  {
   "cell_type": "markdown",
   "metadata": {},
   "source": [
    "Like the example above, **super(class, instance)** returns a special object that lets you perform attribute lookups on the base class. In *Python 3*, **super()** will be used instead.\n",
    "\n",
    "To find attributes with multiple inheritnce, all base classes are ordered in a list from the \"most specialized\" class to the \"least specialized\" class. Then searching for an attribute, this list is searched in order until the first definition of the attribute is found. "
   ]
  },
  {
   "cell_type": "code",
   "execution_count": 5,
   "metadata": {
    "collapsed": false
   },
   "outputs": [
    {
     "data": {
      "text/plain": [
       "(__main__.OldDog, __main__.Dog, object)"
      ]
     },
     "execution_count": 5,
     "metadata": {},
     "output_type": "execute_result"
    }
   ],
   "source": [
    "OldDog.__mro__"
   ]
  },
  {
   "cell_type": "markdown",
   "metadata": {},
   "source": [
    "The ordering of base classes can be viewed by the attribute. The precise ordering of base classes is actually quite complex and not based on any simple algorithm. Multiple inheritance is best avoided in mot programs. \n",
    "\n",
    "Whenever an attribute is accessed as *obj.attr*, *attr* is located by searching within instance itself, then the instance's class definition, and then base class. This binding process independent of what kind of *obj* is, is considered as *duck typing* as \"if it looks like, quacks like, and walks like a duck, then it's a duck\""
   ]
  },
  {
   "cell_type": "markdown",
   "metadata": {},
   "source": [
    "## Descriptors\n",
    "An object that represents the value of an attribute is called *a descriptor object* in Python. A **descriptor** object needs to implement one or more of special methods \\__get\\__(), \\__set\\__() and \\__delete\\__(), it can hook into the attribute access mechanism and can customize those operations. "
   ]
  },
  {
   "cell_type": "code",
   "execution_count": 6,
   "metadata": {
    "collapsed": true
   },
   "outputs": [],
   "source": [
    "class TypeAttribute(object):\n",
    "    def __init__(self, name, type, default = None):\n",
    "        self.name = \"_\" + name\n",
    "        self.type = type\n",
    "        self.default = default if default else type()\n",
    "    \n",
    "    def __get__(self, instance, cls):\n",
    "        return getattr(instance, self.name, self.default)\n",
    "    \n",
    "    def __set__(self, instance, value):\n",
    "        if not isinstance(value, self.type):\n",
    "            raise TypeError(\"Must be a %s\" %self.type)\n",
    "        setattr(instance, self.name, value)\n",
    "    \n",
    "    def __delete__(self, instance):\n",
    "        raise AttributeError(\"Can't delete attribute\")\n",
    "        \n",
    "class Test(object):\n",
    "    name = TypeAttribute(\"name\", str)\n",
    "    age = TypeAttribute(\"age\", int, 15)"
   ]
  },
  {
   "cell_type": "code",
   "execution_count": 7,
   "metadata": {
    "collapsed": false
   },
   "outputs": [
    {
     "ename": "AttributeError",
     "evalue": "Can't delete attribute",
     "output_type": "error",
     "traceback": [
      "\u001b[0;31m---------------------------------------------------------------------------\u001b[0m",
      "\u001b[0;31mAttributeError\u001b[0m                            Traceback (most recent call last)",
      "\u001b[0;32m<ipython-input-7-0bb9337370ab>\u001b[0m in \u001b[0;36m<module>\u001b[0;34m()\u001b[0m\n\u001b[1;32m      2\u001b[0m \u001b[0ma\u001b[0m \u001b[0;34m=\u001b[0m \u001b[0mt\u001b[0m\u001b[0;34m.\u001b[0m\u001b[0mname\u001b[0m\u001b[0;34m\u001b[0m\u001b[0m\n\u001b[1;32m      3\u001b[0m \u001b[0mt\u001b[0m\u001b[0;34m.\u001b[0m\u001b[0mname\u001b[0m \u001b[0;34m=\u001b[0m \u001b[0;34m\"Nesta\"\u001b[0m\u001b[0;34m\u001b[0m\u001b[0m\n\u001b[0;32m----> 4\u001b[0;31m \u001b[0;32mdel\u001b[0m \u001b[0mt\u001b[0m\u001b[0;34m.\u001b[0m\u001b[0mname\u001b[0m\u001b[0;34m\u001b[0m\u001b[0m\n\u001b[0m",
      "\u001b[0;32m<ipython-input-6-b0ee966df9cc>\u001b[0m in \u001b[0;36m__delete__\u001b[0;34m(self, instance)\u001b[0m\n\u001b[1;32m     14\u001b[0m \u001b[0;34m\u001b[0m\u001b[0m\n\u001b[1;32m     15\u001b[0m     \u001b[0;32mdef\u001b[0m \u001b[0m__delete__\u001b[0m\u001b[0;34m(\u001b[0m\u001b[0mself\u001b[0m\u001b[0;34m,\u001b[0m \u001b[0minstance\u001b[0m\u001b[0;34m)\u001b[0m\u001b[0;34m:\u001b[0m\u001b[0;34m\u001b[0m\u001b[0m\n\u001b[0;32m---> 16\u001b[0;31m         \u001b[0;32mraise\u001b[0m \u001b[0mAttributeError\u001b[0m\u001b[0;34m(\u001b[0m\u001b[0;34m\"Can't delete attribute\"\u001b[0m\u001b[0;34m)\u001b[0m\u001b[0;34m\u001b[0m\u001b[0m\n\u001b[0m\u001b[1;32m     17\u001b[0m \u001b[0;34m\u001b[0m\u001b[0m\n\u001b[1;32m     18\u001b[0m \u001b[0;32mclass\u001b[0m \u001b[0mTest\u001b[0m\u001b[0;34m(\u001b[0m\u001b[0mobject\u001b[0m\u001b[0;34m)\u001b[0m\u001b[0;34m:\u001b[0m\u001b[0;34m\u001b[0m\u001b[0m\n",
      "\u001b[0;31mAttributeError\u001b[0m: Can't delete attribute"
     ]
    }
   ],
   "source": [
    "t = Test()\n",
    "a = t.name\n",
    "t.name = \"Nesta\"\n",
    "del t.name"
   ]
  },
  {
   "cell_type": "markdown",
   "metadata": {},
   "source": [
    "From the example above, one can observe that the descriptor can be set and get and the error is raised when deleted. It is **not legal** to create descriptors on a per-instance basis by creating descriptor objects inside \\__init\\__() or other methods in the class. And the attribute name used by the class to hold a descriptor takes precedence over attribute stored on instance. Thus different names should be supplied to avoid the conflict. "
   ]
  },
  {
   "cell_type": "markdown",
   "metadata": {},
   "source": [
    "## private attribute\n",
    "To make the attributes private, names in a class should start with a **double underscores** which will be automatically mangled to form a new name of the form \\__Classname\\__name.\n",
    "\n",
    "Although the name mangling in the class is the way to implement data encapsulation, there are several points should be caution when used:\n",
    "* Name mangling does not occur in function such as *getattr()*, *hasattr()*, *setattr()* or *delattr()* where the attribute name is specified as a string\n",
    "* Giving a method a private name is a technique that a superclass can use to prevent a derived class from redifining and changing the implementation of a method. \n",
    "* In *module*, the name with a *single* leading underscore prevents names from being exported by the **from module import \\* ** statment. In *class*, this name convention *will not* hide the attribute. "
   ]
  },
  {
   "cell_type": "markdown",
   "metadata": {},
   "source": [
    "## Object Memory Management\n",
    "The creation of an instance is carried out in two steps using the special method \\__new\\__(), which create a new instance, and \\__init\\__(), which initializes it. \n",
    "\n",
    "There are two use cases for a class to define \\__new\\__():\n",
    "* The class might be inheriting from a base class whose instances are immutable such as integer, string or tuple those built-in types.\n",
    "* The class is a metaclass.\n",
    "\n",
    "In practice, it is **rarely** necessary for a class to define a \\__del\\__() method. **The only exception** is when the destruction of an object requires a cleanup action such as closing a file, shutting down a network connection, or releasing other system resources. A subtle dange involving object destruction is that instances for which \\__del\\__() is defined cannot be collected by Python's cyclic garbage collector. Therefore, when a reference cycle is created, a *weak reference* could be used by creating a reference to an object without increasing its reference counts. More information can be found in [weakref module](https://docs.python.org/2/library/weakref.html)\n",
    "\n",
    "\n",
    "When \\__slots\\__ of the class is defined, the attribute names that can be assigned on instances are restricted to the names specified. It is a *performance optimization* for both memory and execution speed. If a class inherits from a base class that uses \\__slots\\__, it also needs to define \\__slots\\__ for storing its own attributes to take advantage of the benifits \\__slots\\__ provides.  "
   ]
  },
  {
   "cell_type": "markdown",
   "metadata": {},
   "source": [
    "## Object Representation"
   ]
  },
  {
   "cell_type": "code",
   "execution_count": 8,
   "metadata": {
    "collapsed": false
   },
   "outputs": [
    {
     "data": {
      "text/plain": [
       "{'age': 5, 'name': 'Grey'}"
      ]
     },
     "execution_count": 8,
     "metadata": {},
     "output_type": "execute_result"
    }
   ],
   "source": [
    "b.__dict__"
   ]
  },
  {
   "cell_type": "markdown",
   "metadata": {},
   "source": [
    "From the example, instance *b* is implemented using a dictionary that's accessible as the instance's \\__dict\\__ attribute."
   ]
  },
  {
   "cell_type": "code",
   "execution_count": 9,
   "metadata": {
    "collapsed": false
   },
   "outputs": [
    {
     "data": {
      "text/plain": [
       "__main__.OldDog"
      ]
     },
     "execution_count": 9,
     "metadata": {},
     "output_type": "execute_result"
    }
   ],
   "source": [
    "b.__class__"
   ]
  },
  {
   "cell_type": "markdown",
   "metadata": {},
   "source": [
    "Instance *b* is linked back to its class by a special attribute \\__class\\__."
   ]
  },
  {
   "cell_type": "code",
   "execution_count": 10,
   "metadata": {
    "collapsed": false
   },
   "outputs": [
    {
     "data": {
      "text/plain": [
       "['__dict__',\n",
       " '__module__',\n",
       " 'inquiry',\n",
       " '__del__',\n",
       " 'num_dogs',\n",
       " '__weakref__',\n",
       " 'bark',\n",
       " '__init__',\n",
       " '__doc__']"
      ]
     },
     "execution_count": 10,
     "metadata": {},
     "output_type": "execute_result"
    }
   ],
   "source": [
    "Dog.__dict__.keys()"
   ]
  },
  {
   "cell_type": "markdown",
   "metadata": {},
   "source": [
    "The class *Dog* itself is also a thin layer over a dictionary which can be found in its own \\__dict\\__ attribute. "
   ]
  },
  {
   "cell_type": "code",
   "execution_count": 11,
   "metadata": {
    "collapsed": false
   },
   "outputs": [
    {
     "data": {
      "text/plain": [
       "__main__.Dog"
      ]
     },
     "execution_count": 11,
     "metadata": {},
     "output_type": "execute_result"
    }
   ],
   "source": [
    "OldDog.__base__"
   ]
  },
  {
   "cell_type": "markdown",
   "metadata": {},
   "source": [
    "Class *OldDog* is linked to its base classes in a special attribute \\__base\\__."
   ]
  },
  {
   "cell_type": "markdown",
   "metadata": {},
   "source": [
    "Then what happen when an attribute is set?"
   ]
  },
  {
   "cell_type": "code",
   "execution_count": 12,
   "metadata": {
    "collapsed": true
   },
   "outputs": [],
   "source": [
    "b.age = 6"
   ]
  },
  {
   "cell_type": "markdown",
   "metadata": {},
   "source": [
    "The special method *b.\\__setattr\\__(\"age\",6)* is invoked.\n",
    "\n",
    "Similarly the special method *b.\\__delattr\\__(\"age\")* is invoked if an attribute is deleted."
   ]
  },
  {
   "cell_type": "code",
   "execution_count": 13,
   "metadata": {
    "collapsed": false
   },
   "outputs": [
    {
     "name": "stdout",
     "output_type": "stream",
     "text": [
      "6\n"
     ]
    }
   ],
   "source": [
    "print b.age"
   ]
  },
  {
   "cell_type": "markdown",
   "metadata": {},
   "source": [
    "The attribute lookup as above will invoke the special method **b.\\__getattrribute\\__(\"age\")**, a search process includes checking for properties, looking in the local \\__dict\\__ attribute, checking the class dictionary, and searching base classes. If search fails, try to invoke the \\__getattr\\__() method of class. If this fails, an **AttributeError** exception is raised. "
   ]
  },
  {
   "cell_type": "markdown",
   "metadata": {},
   "source": [
    "## Metaclasses\n",
    "A special kind of object called a *metaclass* create and manage the class. "
   ]
  },
  {
   "cell_type": "code",
   "execution_count": 14,
   "metadata": {
    "collapsed": false
   },
   "outputs": [
    {
     "data": {
      "text/plain": [
       "type"
      ]
     },
     "execution_count": 14,
     "metadata": {},
     "output_type": "execute_result"
    }
   ],
   "source": [
    "type(Dog)"
   ]
  },
  {
   "cell_type": "markdown",
   "metadata": {},
   "source": [
    "When a new class is defined with the *class* statement, several things happen:\n",
    "* The body of the class is executed as a series of statements within its own private dictionary.\n",
    "* The name is mangling on the private members.\n",
    "* The name of the class, the list of base classes, and the dictionary are passed to the constructor of a metaclass to create the corresponding class object.\n",
    "\n",
    "The final step above can be controlled in a number of ways;\n",
    "* The class can explicitly specify its metaclass by either setting \\__metaclass\\__ class variable in Python 2, or supplying the *metaclass* keyword argument in the tuple of base class in Python 3.\n",
    "* If no metaclass is explicitly specified, the class statement examines the first entry in the tuple of base classes.\n",
    "* If no base classes are specified, the class statement checks for the existence of a global variable called \\__metaclass\\__. \n",
    "* Finally if no \\__metaclass\\__ value can be found, Python uses the default metaclass. \n",
    "\n",
    "The primary use of metaclasses is in frameworks that want to assert more control over the definition of user-defined object. An example can be a metaclass that forces all methods to have a documentation string:"
   ]
  },
  {
   "cell_type": "code",
   "execution_count": 15,
   "metadata": {
    "collapsed": true
   },
   "outputs": [],
   "source": [
    "class DocMeta(type):\n",
    "    def __init__(self, name, bases, dict):\n",
    "        for key, value in dict.items():\n",
    "            # Skip special and private methods\n",
    "            if key.startswith('___'): continue\n",
    "            # Skip anything not callable\n",
    "            if not hasattr(value, \"__call__\"): continue\n",
    "            # Check for a doc-string\n",
    "            if not getattr(value, \"__doc__\"):\n",
    "                raise TypeError(\"%s must have a docstring\" %key)\n",
    "        type.__init__(self, name, bases, dict)"
   ]
  },
  {
   "cell_type": "markdown",
   "metadata": {},
   "source": [
    "The metaclass isn't changing anything about the class that actually gets created but is merely adding some additional checks. "
   ]
  },
  {
   "cell_type": "markdown",
   "metadata": {},
   "source": [
    "## Abstract Base Classes\n",
    "To define an abstract base class, you use [abc](https://docs.python.org/2/library/abc.html) module. This module defines a metaclass (ABCMeta) and a set of decorators (@abstractmethod and @abstractproperty) that are used as follow:"
   ]
  },
  {
   "cell_type": "code",
   "execution_count": 16,
   "metadata": {
    "collapsed": true
   },
   "outputs": [],
   "source": [
    "from abc import ABCMeta, abstractmethod, abstractproperty\n",
    "class sample:\n",
    "    __metaclass__ = ABCMeta\n",
    "    @abstractmethod\n",
    "    def create(self, a, b):\n",
    "        pass\n",
    "    @abstractproperty\n",
    "    def name(self):\n",
    "        pass"
   ]
  },
  {
   "cell_type": "markdown",
   "metadata": {},
   "source": [
    "An abstract class enforces rules about methods and properties that must be implemented, and it is useful to programmers who want to **make assertions on the methods and properties** that must be implemented on subclass. Abstract base classes allow preexisting classes to be registered as belonging to that base. When a class is registered with an abstract base, type-checking operations involving the abstract base will return *True* for instances of the registered class.  "
   ]
  }
 ],
 "metadata": {
  "kernelspec": {
   "display_name": "Python 2",
   "language": "python",
   "name": "python2"
  },
  "language_info": {
   "codemirror_mode": {
    "name": "ipython",
    "version": 2
   },
   "file_extension": ".py",
   "mimetype": "text/x-python",
   "name": "python",
   "nbconvert_exporter": "python",
   "pygments_lexer": "ipython2",
   "version": "2.7.11"
  }
 },
 "nbformat": 4,
 "nbformat_minor": 0
}
