{
 "cells": [
  {
   "cell_type": "markdown",
   "metadata": {},
   "source": [
    "## Class\n",
    "A class is most commonly a collection of function known as *methods*, variables as *class variables*, and computed attributes as *properties*.\n",
    "\n",
    "For example, a **class** is defined as follows:"
   ]
  },
  {
   "cell_type": "code",
   "execution_count": 1,
   "metadata": {
    "collapsed": true
   },
   "outputs": [],
   "source": [
    "class Dog(object):\n",
    "    num_dogs = 0\n",
    "    \n",
    "    def __init__(self, name, age):\n",
    "        self.name = name\n",
    "        self.age = age\n",
    "        Dog.num_dogs += 1\n",
    "    \n",
    "    def __del__(self):\n",
    "        Dog.num_dogs -= 1\n",
    "    \n",
    "    def bark(self):\n",
    "        print \"Wang Wang Wang\"\n",
    "        \n",
    "    def inquiry(self):\n",
    "        return self.age"
   ]
  },
  {
   "cell_type": "markdown",
   "metadata": {},
   "source": [
    "The instance method like *bark* operates on an instance of the class. Class variables such as *num_dogs* are values that are shared among all instances of a class."
   ]
  },
  {
   "cell_type": "markdown",
   "metadata": {},
   "source": [
    "## Class Instances\n",
    "The class definition can be considered as the blueprint, however there are no any instances of the class. "
   ]
  },
  {
   "cell_type": "code",
   "execution_count": 2,
   "metadata": {
    "collapsed": true
   },
   "outputs": [],
   "source": [
    "a = Dog(\"Tina\", 2)"
   ]
  },
  {
   "cell_type": "markdown",
   "metadata": {},
   "source": [
    "The above code creates a new instance of **Dog** by calling a class object as a function. The new instance *a* will be passed to the \\__init\\__() method of the class. \n",
    "\n",
    "When you access an attribute, the instance is checked first and if nothing is known, the search moves to the instance's **class** instead.\n",
    "\n",
    "Although **classes** define a namespace, classes do not create a scope for names used inside teh bodies of methods. Therefore, the explicit use of **self** is required. "
   ]
  },
  {
   "cell_type": "markdown",
   "metadata": {},
   "source": [
    "## Inheritance\n",
    "When a class is created via inheritance, it \"inherits\" the attributes defined by its base class. There is a root of  class called **object**, which provides the default implementation of some common methods. "
   ]
  },
  {
   "cell_type": "code",
   "execution_count": 3,
   "metadata": {
    "collapsed": true
   },
   "outputs": [],
   "source": [
    "class OldDog(Dog):\n",
    "    def inquiry(self):\n",
    "        super(OldDog, self).bark()\n",
    "        if self.age > 3:\n",
    "            return True\n",
    "        else:\n",
    "            return False"
   ]
  },
  {
   "cell_type": "code",
   "execution_count": 4,
   "metadata": {
    "collapsed": false
   },
   "outputs": [
    {
     "name": "stdout",
     "output_type": "stream",
     "text": [
      "Wang Wang Wang\n"
     ]
    },
    {
     "data": {
      "text/plain": [
       "True"
      ]
     },
     "execution_count": 4,
     "metadata": {},
     "output_type": "execute_result"
    }
   ],
   "source": [
    "b = OldDog(\"Grey\", 5)\n",
    "b.inquiry()"
   ]
  },
  {
   "cell_type": "markdown",
   "metadata": {},
   "source": [
    "Like the example above, **super(class, instance)** returns a special object that lets you perform attribute lookups on the base class. In *Python 3*, **super()** will be used instead.\n",
    "\n",
    "To find attributes with multiple inheritnce, all base classes are ordered in a list from the \"most specialized\" class to the \"least specialized\" class. Then searching for an attribute, this list is searched in order until the first definition of the attribute is found. "
   ]
  },
  {
   "cell_type": "code",
   "execution_count": 5,
   "metadata": {
    "collapsed": false
   },
   "outputs": [
    {
     "data": {
      "text/plain": [
       "(__main__.OldDog, __main__.Dog, object)"
      ]
     },
     "execution_count": 5,
     "metadata": {},
     "output_type": "execute_result"
    }
   ],
   "source": [
    "OldDog.__mro__"
   ]
  },
  {
   "cell_type": "markdown",
   "metadata": {},
   "source": [
    "The ordering of base classes can be viewed by the attribute. The precise ordering of base classes is actually quite complex and not based on any simple algorithm. Multiple inheritance is best avoided in mot programs. \n",
    "\n",
    "Whenever an attribute is accessed as *obj.attr*, *attr* is located by searching within instance itself, then the instance's class definition, and then base class. This binding process independent of what kind of *obj* is, is considered as *duck typing* as \"if it looks like, quacks like, and walks like a duck, then it's a duck\""
   ]
  }
 ],
 "metadata": {
  "kernelspec": {
   "display_name": "Python 2",
   "language": "python",
   "name": "python2"
  },
  "language_info": {
   "codemirror_mode": {
    "name": "ipython",
    "version": 2
   },
   "file_extension": ".py",
   "mimetype": "text/x-python",
   "name": "python",
   "nbconvert_exporter": "python",
   "pygments_lexer": "ipython2",
   "version": "2.7.11"
  }
 },
 "nbformat": 4,
 "nbformat_minor": 0
}
