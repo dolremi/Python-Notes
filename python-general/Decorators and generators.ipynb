{
 "cells": [
  {
   "cell_type": "markdown",
   "metadata": {},
   "source": [
    "# Decorators\n",
    "A *decorator* is a function whose primary purpose is to wrap another function or class. The **decorator** will accept a function and return a function. Let's take a example."
   ]
  },
  {
   "cell_type": "code",
   "execution_count": 1,
   "metadata": {
    "collapsed": false
   },
   "outputs": [],
   "source": [
    "enable_tracing = True\n",
    "if enable_tracing:\n",
    "    debug_log = open(\"debug.log\", \"w\")\n",
    "    \n",
    "def trace(func):\n",
    "    if enable_tracing:\n",
    "        def callf(*args, **kwargs):\n",
    "            debug_log.write(\"Calling %s: %s, %s\\n\" %\n",
    "                           (func.__name__, args, kwargs))\n",
    "            r = func(*args, **kwargs)\n",
    "            debug_log.write(\"%s returned %s\\n\" %(func__name__, r))\n",
    "            return r\n",
    "        return callf\n",
    "    else:\n",
    "        return func\n",
    "\n",
    "@trace\n",
    "def cube(x):\n",
    "    return x*x*x\n"
   ]
  },
  {
   "cell_type": "markdown",
   "metadata": {},
   "source": [
    "The *decorator* needs to be defined before being denoted using the special @ symbol. More than one decorator can also be supplied. For class decorators, one should always have the decorator function return a class object as a result. "
   ]
  },
  {
   "cell_type": "markdown",
   "metadata": {},
   "source": [
    "# Generator and yield\n",
    "If a function uses the *yield* keyword, it defines an object known as a *generator*, a function that produces a sequence of values for use in iteration. "
   ]
  },
  {
   "cell_type": "code",
   "execution_count": 2,
   "metadata": {
    "collapsed": true
   },
   "outputs": [],
   "source": [
    "def countdown(n):\n",
    "    print(\"Counting down from %d\" %n)\n",
    "    while n > 0:\n",
    "        yield n\n",
    "        n -= 1\n",
    "    return"
   ]
  },
  {
   "cell_type": "markdown",
   "metadata": {},
   "source": [
    "Let's create a *generator* object at first."
   ]
  },
  {
   "cell_type": "code",
   "execution_count": 3,
   "metadata": {
    "collapsed": true
   },
   "outputs": [],
   "source": [
    "c = countdown(10)"
   ]
  },
  {
   "cell_type": "markdown",
   "metadata": {},
   "source": [
    "The *generator* object will execute the function whenever *next()* is called. "
   ]
  },
  {
   "cell_type": "code",
   "execution_count": 4,
   "metadata": {
    "collapsed": false
   },
   "outputs": [
    {
     "name": "stdout",
     "output_type": "stream",
     "text": [
      "Counting down from 10\n"
     ]
    },
    {
     "data": {
      "text/plain": [
       "10"
      ]
     },
     "execution_count": 4,
     "metadata": {},
     "output_type": "execute_result"
    }
   ],
   "source": [
    "c.next()"
   ]
  },
  {
   "cell_type": "code",
   "execution_count": 5,
   "metadata": {
    "collapsed": false
   },
   "outputs": [
    {
     "data": {
      "text/plain": [
       "9"
      ]
     },
     "execution_count": 5,
     "metadata": {},
     "output_type": "execute_result"
    }
   ],
   "source": [
    "c.next()"
   ]
  },
  {
   "cell_type": "markdown",
   "metadata": {},
   "source": [
    "The *yield* statement produces a result at which point execution of the function stops until **next()** is invoked again. Execution then resumes with the statement following *yield*. It is never legal for a generator to return a value other than **None** upon completion. And *generator* objects have a method **close()** that is used to signal a shutdown. **close()** is signaled by a *GeneratorExit* exception occuring on the *yield* statement."
   ]
  },
  {
   "cell_type": "markdown",
   "metadata": {},
   "source": [
    "## Coroutines\n",
    "The *yield* statement can aslo be used as an expression that appears on the right side of an assignment operator. A function that uses *yield* in this manner is known as a **coroutine**, and it executes in response to values being sent to it. "
   ]
  },
  {
   "cell_type": "code",
   "execution_count": 6,
   "metadata": {
    "collapsed": true
   },
   "outputs": [],
   "source": [
    "def receiver():\n",
    "    print(\"Ready to recieve\")\n",
    "    while True:\n",
    "        n = (yield)\n",
    "        print (\"Got %s\" %n)"
   ]
  },
  {
   "cell_type": "code",
   "execution_count": 7,
   "metadata": {
    "collapsed": false
   },
   "outputs": [
    {
     "name": "stdout",
     "output_type": "stream",
     "text": [
      "Ready to recieve\n"
     ]
    }
   ],
   "source": [
    "r = receiver()\n",
    "r.next()"
   ]
  },
  {
   "cell_type": "code",
   "execution_count": 8,
   "metadata": {
    "collapsed": false
   },
   "outputs": [
    {
     "name": "stdout",
     "output_type": "stream",
     "text": [
      "Got 1\n"
     ]
    }
   ],
   "source": [
    "r.send(1)"
   ]
  },
  {
   "cell_type": "code",
   "execution_count": 9,
   "metadata": {
    "collapsed": false
   },
   "outputs": [
    {
     "name": "stdout",
     "output_type": "stream",
     "text": [
      "Got 2\n"
     ]
    }
   ],
   "source": [
    "r.send(2)"
   ]
  },
  {
   "cell_type": "markdown",
   "metadata": {},
   "source": [
    "The best practice for coroutine is that it should be wrapped with a decorator that automatically take care of the requirement of first calling **next()** on a coroutine. "
   ]
  },
  {
   "cell_type": "code",
   "execution_count": 10,
   "metadata": {
    "collapsed": false
   },
   "outputs": [
    {
     "name": "stdout",
     "output_type": "stream",
     "text": [
      "Ready to receive\n",
      "Got Hello World\n"
     ]
    }
   ],
   "source": [
    "def coroutine(func):\n",
    "    def start(*args, **kwargs):\n",
    "        g = func(*args, **kwargs)\n",
    "        g.next()\n",
    "        return g\n",
    "    return start\n",
    "\n",
    "@coroutine\n",
    "def receiver():\n",
    "    print(\"Ready to receive\")\n",
    "    while True:\n",
    "        n = (yield)\n",
    "        print(\"Got %s\" %n)\n",
    "\n",
    "r = receiver()\n",
    "r.send(\"Hello World\")"
   ]
  },
  {
   "cell_type": "markdown",
   "metadata": {},
   "source": [
    "Generators and coroutines can be effective when applied to programming problems in system, networking, and distributed computation. Coroutines can be used to write programs based on data-flow processing. "
   ]
  },
  {
   "cell_type": "markdown",
   "metadata": {},
   "source": [
    "## Generator expressions\n",
    "A *generator expression* is an object that carries out the same computation as a list comprehension, but which iteratively produces the result. The **parenthese** should be used. "
   ]
  },
  {
   "cell_type": "code",
   "execution_count": 11,
   "metadata": {
    "collapsed": false
   },
   "outputs": [
    {
     "data": {
      "text/plain": [
       "<generator object <genexpr> at 0x104157e10>"
      ]
     },
     "execution_count": 11,
     "metadata": {},
     "output_type": "execute_result"
    }
   ],
   "source": [
    "a = [1,2,3,4,5]\n",
    "b = (10* i for i in a)\n",
    "b"
   ]
  },
  {
   "cell_type": "code",
   "execution_count": 12,
   "metadata": {
    "collapsed": false
   },
   "outputs": [
    {
     "data": {
      "text/plain": [
       "10"
      ]
     },
     "execution_count": 12,
     "metadata": {},
     "output_type": "execute_result"
    }
   ],
   "source": [
    "b.next()"
   ]
  },
  {
   "cell_type": "code",
   "execution_count": 13,
   "metadata": {
    "collapsed": false
   },
   "outputs": [
    {
     "data": {
      "text/plain": [
       "20"
      ]
     },
     "execution_count": 13,
     "metadata": {},
     "output_type": "execute_result"
    }
   ],
   "source": [
    "b.next()"
   ]
  },
  {
   "cell_type": "markdown",
   "metadata": {},
   "source": [
    "The *generator expression* can be used to produce data on demand. "
   ]
  }
 ],
 "metadata": {
  "kernelspec": {
   "display_name": "Python 2",
   "language": "python",
   "name": "python2"
  },
  "language_info": {
   "codemirror_mode": {
    "name": "ipython",
    "version": 2
   },
   "file_extension": ".py",
   "mimetype": "text/x-python",
   "name": "python",
   "nbconvert_exporter": "python",
   "pygments_lexer": "ipython2",
   "version": "2.7.11"
  }
 },
 "nbformat": 4,
 "nbformat_minor": 0
}
