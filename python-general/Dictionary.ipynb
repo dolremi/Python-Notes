{
 "cells": [
  {
   "cell_type": "markdown",
   "metadata": {},
   "source": [
    "The associated array can be used as dictionary in Python. It is an __unordered__ container. There are several ways to build a dictionary."
   ]
  },
  {
   "cell_type": "code",
   "execution_count": 1,
   "metadata": {
    "collapsed": true
   },
   "outputs": [],
   "source": [
    "name_grade = {\"Jim\": 90, \"Tom\": 85, \"Romi\": 75}\n",
    "\n",
    "test_result = dict([(\"Steve\", 3.4),(\"Bob\", 4.2), (\"Mary\",5)])"
   ]
  },
  {
   "cell_type": "markdown",
   "metadata": {},
   "source": [
    "The first example used {} to contruct the *key:value* pairs, while the second case calls a **dict** constructor to build as a list of key value pairs. More than that, the __key:value__ pairs can be added one by one with initial empty dictionary:"
   ]
  },
  {
   "cell_type": "code",
   "execution_count": 3,
   "metadata": {
    "collapsed": false
   },
   "outputs": [],
   "source": [
    "city_rank = {}\n",
    "city_rank[\"Beijing\"] = 3\n",
    "city_rank[\"Tokyo\"] = 2\n",
    "city_rank[\"Nanjing\"] = 5\n",
    "city_rank[\"San Francisco\"] = 1\n",
    "city_rank[\"New York\"] = 4"
   ]
  },
  {
   "cell_type": "markdown",
   "metadata": {},
   "source": [
    "The keys in the dictionary can be number, strings or any other **immutable** type and should be [_hashable_](https://docs.python.org/2.7/glossary.html#term-hashable). The keys of the dictionary can be accessed by keys() functions."
   ]
  },
  {
   "cell_type": "code",
   "execution_count": 4,
   "metadata": {
    "collapsed": false
   },
   "outputs": [
    {
     "data": {
      "text/plain": [
       "['Beijing', 'New York', 'San Francisco', 'Nanjing', 'Tokyo']"
      ]
     },
     "execution_count": 4,
     "metadata": {},
     "output_type": "execute_result"
    }
   ],
   "source": [
    "city_rank.keys()"
   ]
  },
  {
   "cell_type": "markdown",
   "metadata": {},
   "source": [
    "Similar to the list comprehension, the dictionary comprehension can be easily contructed as following. "
   ]
  },
  {
   "cell_type": "code",
   "execution_count": 5,
   "metadata": {
    "collapsed": true
   },
   "outputs": [],
   "source": [
    "names = [\"Jason\", \"John\", \"Kate\", \"Marco\", \"Donald\"]\n",
    "name_length = {item: len(item) for item in names}"
   ]
  },
  {
   "cell_type": "markdown",
   "metadata": {},
   "source": [
    "And **in** can be used to check if specific key can be found in dictionary."
   ]
  },
  {
   "cell_type": "code",
   "execution_count": 6,
   "metadata": {
    "collapsed": false
   },
   "outputs": [
    {
     "name": "stdout",
     "output_type": "stream",
     "text": [
      "False\n",
      "True\n"
     ]
    }
   ],
   "source": [
    "print \"Tom\" in name_length\n",
    "print \"John\" in name_length"
   ]
  },
  {
   "cell_type": "code",
   "execution_count": 7,
   "metadata": {
    "collapsed": true
   },
   "outputs": [],
   "source": [
    "city_rank[\"Beijing\"] = 23\n",
    "city_rank[\"Nanjing\"] = 1"
   ]
  },
  {
   "cell_type": "markdown",
   "metadata": {},
   "source": [
    "Of course the dictionary's value can be changed by assigned to a new value to a key."
   ]
  }
 ],
 "metadata": {
  "kernelspec": {
   "display_name": "Python 2",
   "language": "python",
   "name": "python2"
  },
  "language_info": {
   "codemirror_mode": {
    "name": "ipython",
    "version": 2
   },
   "file_extension": ".py",
   "mimetype": "text/x-python",
   "name": "python",
   "nbconvert_exporter": "python",
   "pygments_lexer": "ipython2",
   "version": "2.7.11"
  }
 },
 "nbformat": 4,
 "nbformat_minor": 0
}
