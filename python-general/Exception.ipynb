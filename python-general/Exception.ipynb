{
 "cells": [
  {
   "cell_type": "markdown",
   "metadata": {},
   "source": [
    "## Exceptions\n",
    "*Exceptions* indicate errors and break out of the normal control flow of a program. When **an exception** occurs, several things will happen as following: \n",
    "* The interpreter stops executing statements in the *try* block and look for an *except* clause that matches the exception that has occurred.\n",
    "* If one exception is found, control is passed to the first statement in the *except* clause. \n",
    "* After the *except* clause is executed, control continue with the first statement that appears after *try-except* block. **Otherwise**, the exception is propagated up to the block of code in which the *try* statement appeared.\n",
    "* If an exception works its way up to the top level of a program without being caught, the interpreter aborts with an error message.\n",
    "* The uncaught exception can be passed to a user-defined function *sys.excepthook()*."
   ]
  },
  {
   "cell_type": "markdown",
   "metadata": {},
   "source": [
    "The optional *as var* modifier to the *except* statement supplies the name of a variable in which an instance of the exception type supplied to the *raise* statement is placed if an exception occurs. \n",
    "\n",
    "Different handlers can be used for multiple exception-handling blocks. "
   ]
  },
  {
   "cell_type": "code",
   "execution_count": 1,
   "metadata": {
    "collapsed": false
   },
   "outputs": [
    {
     "name": "stdout",
     "output_type": "stream",
     "text": [
      "integer division or modulo by zero\n"
     ]
    }
   ],
   "source": [
    "a = 3\n",
    "b = 0\n",
    "try:\n",
    "    print a/b\n",
    "except IOError as e:\n",
    "    print e\n",
    "except TypeError as e:\n",
    "    print e\n",
    "except ZeroDivisionError as e:\n",
    "    print e"
   ]
  },
  {
   "cell_type": "markdown",
   "metadata": {},
   "source": [
    "A single handler can catch multiple exception types as follows:"
   ]
  },
  {
   "cell_type": "code",
   "execution_count": 2,
   "metadata": {
    "collapsed": false
   },
   "outputs": [
    {
     "name": "stdout",
     "output_type": "stream",
     "text": [
      "integer division or modulo by zero\n"
     ]
    }
   ],
   "source": [
    "try:\n",
    "    print 2/0\n",
    "except (IOError, TypeError, ZeroDivisionError) as e:\n",
    "    print e"
   ]
  },
  {
   "cell_type": "markdown",
   "metadata": {},
   "source": [
    "To log the associated exception value, one should do something like this:"
   ]
  },
  {
   "cell_type": "code",
   "execution_count": 3,
   "metadata": {
    "collapsed": false
   },
   "outputs": [],
   "source": [
    "import logging\n",
    "try:\n",
    "    print 3/0\n",
    "except:\n",
    "    logging.error('An error occurred\\n')"
   ]
  },
  {
   "cell_type": "markdown",
   "metadata": {},
   "source": [
    "Like in the *for* controls, *else* clause must follow the **last except** clause."
   ]
  },
  {
   "cell_type": "code",
   "execution_count": 4,
   "metadata": {
    "collapsed": false
   },
   "outputs": [
    {
     "name": "stdout",
     "output_type": "stream",
     "text": [
      "[Errno 2] No such file or directory: 'foo'\n"
     ]
    }
   ],
   "source": [
    "try:\n",
    "    f = open('foo', 'r')\n",
    "except IOError as e:\n",
    "    print e\n",
    "else:\n",
    "    data = f.read()\n",
    "    f.close()"
   ]
  },
  {
   "cell_type": "markdown",
   "metadata": {},
   "source": [
    "The code in *else* clause is executed if the code in the *try* block doesn't raise an exception."
   ]
  },
  {
   "cell_type": "code",
   "execution_count": 5,
   "metadata": {
    "collapsed": false
   },
   "outputs": [
    {
     "name": "stdout",
     "output_type": "stream",
     "text": [
      "integer division or modulo by zero\n",
      "This is the end\n"
     ]
    }
   ],
   "source": [
    "try:\n",
    "    print 1/0\n",
    "except ZeroDivisionError as e:\n",
    "    print e\n",
    "finally:\n",
    "    print \"This is the end\""
   ]
  },
  {
   "cell_type": "markdown",
   "metadata": {},
   "source": [
    "The **finally** clause is used to provide code that must always be executed, *regarless of whether an error occurs*."
   ]
  },
  {
   "cell_type": "markdown",
   "metadata": {},
   "source": [
    "## Define new exceptions"
   ]
  },
  {
   "cell_type": "code",
   "execution_count": 6,
   "metadata": {
    "collapsed": true
   },
   "outputs": [],
   "source": [
    "class DeviceError(Exception):\n",
    "    def __init__(self, errno, msg):\n",
    "        self.args = (errno, msg)\n",
    "        self.errno = errno\n",
    "        self.errmsg = msg"
   ]
  },
  {
   "cell_type": "markdown",
   "metadata": {},
   "source": [
    "*self.args* needs to updated with a tuple of all arguments in the constructor. It is used when printing exception traceback messages."
   ]
  },
  {
   "cell_type": "markdown",
   "metadata": {},
   "source": [
    "## Assertions and debug\n",
    "The *assert* statement can introduce debugging code into a program. If *test* fails, *assert* raises an **AssertionError** exception with the optional message *msg* supplied to the *assert* statement. \n",
    "\n",
    "The *assert* statement is used to check things that should always be \\__True\\__.\n",
    "\n",
    "There is built-in read-only variable \\__debug\\__, which is set to **True** unless the interpreter is running in optimized mode. "
   ]
  }
 ],
 "metadata": {
  "kernelspec": {
   "display_name": "Python 2",
   "language": "python",
   "name": "python2"
  },
  "language_info": {
   "codemirror_mode": {
    "name": "ipython",
    "version": 2
   },
   "file_extension": ".py",
   "mimetype": "text/x-python",
   "name": "python",
   "nbconvert_exporter": "python",
   "pygments_lexer": "ipython2",
   "version": "2.7.11"
  }
 },
 "nbformat": 4,
 "nbformat_minor": 0
}
