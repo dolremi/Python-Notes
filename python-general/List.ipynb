{
 "cells": [
  {
   "cell_type": "markdown",
   "metadata": {},
   "source": [
    "## Sequence\n",
    "Before we discuss the **list** as a basic data structrue in Python, some operators in *sequence* will be detailed below. **sequence** represents ordered sets of objects indexed by non-negative integers and include strings, lists and tuples. Strings are sequences of characters, and lists and tuples are sequence of arbitary Python objects. <br>\n",
    "At first, let's see some common operators that have different functionality in sequence from the numerical operators."
   ]
  },
  {
   "cell_type": "code",
   "execution_count": 1,
   "metadata": {
    "collapsed": false
   },
   "outputs": [
    {
     "name": "stdout",
     "output_type": "stream",
     "text": [
      "[1, 2, 4, 5, 6]\n"
     ]
    }
   ],
   "source": [
    "t1 = [1, 2, 4]\n",
    "t2 = [5, 6]\n",
    "print t1 + t2"
   ]
  },
  {
   "cell_type": "markdown",
   "metadata": {},
   "source": [
    "Here the **+** operator concatenates two sequences of the same type, and it has *nothing to do* with the values of each elements as a numerical operator."
   ]
  },
  {
   "cell_type": "code",
   "execution_count": 2,
   "metadata": {
    "collapsed": false
   },
   "outputs": [
    {
     "name": "stdout",
     "output_type": "stream",
     "text": [
      "[[10, 45, 53], [10, 45, 53], [10, 45, 53]]\n",
      "[[10, 45, -49], [10, 45, -49], [10, 45, -49]]\n"
     ]
    }
   ],
   "source": [
    "a = [10, 45, 53]\n",
    "b = 3 * [a]\n",
    "print b\n",
    "\n",
    "# change one element of a \n",
    "a[2] = -49\n",
    "print b"
   ]
  },
  {
   "cell_type": "markdown",
   "metadata": {},
   "source": [
    "Here the multiplication operator makes *n* copies of a sequence. However, these are shallow copies that replicate elements by reference only. Thus once the original sequence changes, the replicated ones will changes accordingly. <br>\n",
    "There are some ways to work around the issue by creating a new list."
   ]
  },
  {
   "cell_type": "code",
   "execution_count": 3,
   "metadata": {
    "collapsed": false
   },
   "outputs": [
    {
     "name": "stdout",
     "output_type": "stream",
     "text": [
      "[[10, 45, 53], [10, 45, 53], [10, 45, 53]]\n",
      "[[10, 45, 53], [10, 45, 53], [10, 45, 53]]\n"
     ]
    }
   ],
   "source": [
    "a = [10, 45, 53]\n",
    "b = [list(a) for j in range(3)]\n",
    "print b \n",
    "\n",
    "a[2] = -49\n",
    "print b"
   ]
  },
  {
   "cell_type": "code",
   "execution_count": 4,
   "metadata": {
    "collapsed": true
   },
   "outputs": [],
   "source": [
    "# some unpacking operators\n",
    "name = \"Micheal\"\n",
    "a,b,c,d,e,f,g = name"
   ]
  },
  {
   "cell_type": "code",
   "execution_count": 5,
   "metadata": {
    "collapsed": false
   },
   "outputs": [
    {
     "name": "stdout",
     "output_type": "stream",
     "text": [
      "True\n",
      "False\n"
     ]
    }
   ],
   "source": [
    "# any elment is true\n",
    "a = [-3, -9, -18, -7, 5]\n",
    "print any([t > 0 for t in a])\n",
    "\n",
    "print all([t > 0 for t in a])"
   ]
  },
  {
   "cell_type": "markdown",
   "metadata": {},
   "source": [
    "To compare two sequence, it will compare one element at a time for two sequence until the end of the sequence. For string, lexicographical ordering will be used. "
   ]
  },
  {
   "cell_type": "code",
   "execution_count": 6,
   "metadata": {
    "collapsed": false
   },
   "outputs": [
    {
     "name": "stdout",
     "output_type": "stream",
     "text": [
      "-12.3\n",
      "8.9\n"
     ]
    }
   ],
   "source": [
    "a = [4.3, 8.9, 3.5, -12.3]\n",
    "print min(a)\n",
    "print max(a)"
   ]
  },
  {
   "cell_type": "markdown",
   "metadata": {},
   "source": [
    "The built-in *min* and *max* functions can only work for sequences in which the elements can be ordered. "
   ]
  },
  {
   "cell_type": "markdown",
   "metadata": {},
   "source": [
    "# List\n",
    "Different from other programming language such as C++/C, the variables don't need to be declared in advance. There are several underlying data structure in python: List, Tuples, Dictionaries, Strings, Sets, etc.\n",
    "In this section, we will have a look at [list](https://docs.python.org/2.7/library/functions.html?highlight=list#list) a mutable sequence data type."
   ]
  },
  {
   "cell_type": "code",
   "execution_count": 7,
   "metadata": {
    "collapsed": false
   },
   "outputs": [
    {
     "name": "stdout",
     "output_type": "stream",
     "text": [
      "<type 'list'>\n",
      "<type 'list'>\n"
     ]
    }
   ],
   "source": [
    "a = [1, 2, 3]\n",
    "b = list([1,2,3])\n",
    "print type(a)\n",
    "print type(b)"
   ]
  },
  {
   "cell_type": "markdown",
   "metadata": {},
   "source": [
    "In the example above, *b* is a new list that's a shallow copy of the original list. <br>\n",
    "There are two way to _initialize_ the python list: brackets or call **list** function. For **list** function, one can pass any _iterable_ items(including any object supporting iterations),for instance:"
   ]
  },
  {
   "cell_type": "code",
   "execution_count": 8,
   "metadata": {
    "collapsed": false
   },
   "outputs": [
    {
     "name": "stdout",
     "output_type": "stream",
     "text": [
      "['a', 'b', 'c']\n"
     ]
    }
   ],
   "source": [
    "s1 = list(\"abc\")\n",
    "print s1"
   ]
  },
  {
   "cell_type": "code",
   "execution_count": 9,
   "metadata": {
    "collapsed": false
   },
   "outputs": [
    {
     "data": {
      "text/plain": [
       "[1, 2, 3, 1, 2, 3]"
      ]
     },
     "execution_count": 9,
     "metadata": {},
     "output_type": "execute_result"
    }
   ],
   "source": [
    "a*2"
   ]
  },
  {
   "cell_type": "markdown",
   "metadata": {},
   "source": [
    "The preceding sample code shows that multiple the list won't change the values of elments in the list, instead it will change the length. "
   ]
  },
  {
   "cell_type": "markdown",
   "metadata": {},
   "source": [
    "Below are several slicing operations in the list which is very common in the iterable containers."
   ]
  },
  {
   "cell_type": "code",
   "execution_count": 10,
   "metadata": {
    "collapsed": false
   },
   "outputs": [
    {
     "name": "stdout",
     "output_type": "stream",
     "text": [
      "Hello\n",
      "[3, 4, 5, 6]\n",
      "5\n",
      "[1]\n"
     ]
    }
   ],
   "source": [
    "# the list can contain heterogeneous items\n",
    "l = [\"Hello\", 1, 3, 4, 5, 6]\n",
    "print l[0]\n",
    "print l[2:]\n",
    "print l[-2]\n",
    "print l[1:3:2]"
   ]
  },
  {
   "cell_type": "markdown",
   "metadata": {},
   "source": [
    "And the list is also a *mutable* object so that any element in the list can be modified."
   ]
  },
  {
   "cell_type": "code",
   "execution_count": 11,
   "metadata": {
    "collapsed": false
   },
   "outputs": [
    {
     "name": "stdout",
     "output_type": "stream",
     "text": [
      "[1, 2, 3, 4, 5]\n",
      "[1, 2, 3, 7, 4, 5]\n",
      "[1, 2, 3, 4, 5]\n",
      "3\n",
      "1\n",
      "[1, 2, 3, 4, 5]\n",
      "[5, 4, 3, 2, 1]\n"
     ]
    }
   ],
   "source": [
    "a.extend([4,5])\n",
    "print a\n",
    "\n",
    "a.insert(3,7)\n",
    "print a\n",
    "\n",
    "a.remove(7)\n",
    "print a\n",
    "\n",
    "print a.index(4)\n",
    "\n",
    "print a.count(3)\n",
    "\n",
    "a.sort()\n",
    "print a\n",
    "\n",
    "a.reverse()\n",
    "print a "
   ]
  },
  {
   "cell_type": "markdown",
   "metadata": {},
   "source": [
    "This is some basic methods on the list. Furthermore, list can be used as stack."
   ]
  },
  {
   "cell_type": "code",
   "execution_count": 12,
   "metadata": {
    "collapsed": false
   },
   "outputs": [
    {
     "name": "stdout",
     "output_type": "stream",
     "text": [
      "[5, 4, 3, 2, 1, 7]\n"
     ]
    },
    {
     "data": {
      "text/plain": [
       "7"
      ]
     },
     "execution_count": 12,
     "metadata": {},
     "output_type": "execute_result"
    }
   ],
   "source": [
    "a.append(7)\n",
    "print a \n",
    "\n",
    "a.pop()"
   ]
  },
  {
   "cell_type": "markdown",
   "metadata": {},
   "source": [
    "Use a list as a queue is not efficient, since **insert** and **pop** from the beginning of the list is very slow. Instead, **collections.deque** is used for queues. In addition, some built-in functional tools can be applied in lists: filter, map and reduce."
   ]
  },
  {
   "cell_type": "code",
   "execution_count": 13,
   "metadata": {
    "collapsed": false
   },
   "outputs": [
    {
     "name": "stdout",
     "output_type": "stream",
     "text": [
      "[1, 2, 3, 4, 5]\n",
      "[5, 4, 3, 2, 1]\n"
     ]
    }
   ],
   "source": [
    "a.sort()\n",
    "print a\n",
    "\n",
    "a.reverse()\n",
    "print a"
   ]
  },
  {
   "cell_type": "code",
   "execution_count": 14,
   "metadata": {
    "collapsed": false
   },
   "outputs": [
    {
     "data": {
      "text/plain": [
       "[5, 4]"
      ]
     },
     "execution_count": 14,
     "metadata": {},
     "output_type": "execute_result"
    }
   ],
   "source": [
    "filter(lambda x: x > 3, a)"
   ]
  },
  {
   "cell_type": "code",
   "execution_count": 15,
   "metadata": {
    "collapsed": false
   },
   "outputs": [
    {
     "data": {
      "text/plain": [
       "[25, 16, 9, 4, 1]"
      ]
     },
     "execution_count": 15,
     "metadata": {},
     "output_type": "execute_result"
    }
   ],
   "source": [
    "map(lambda y: y**2, a)"
   ]
  },
  {
   "cell_type": "code",
   "execution_count": 16,
   "metadata": {
    "collapsed": false
   },
   "outputs": [
    {
     "name": "stdout",
     "output_type": "stream",
     "text": [
      "5\n",
      "4\n",
      "3\n",
      "2\n",
      "1\n"
     ]
    },
    {
     "data": {
      "text/plain": [
       "[None, None, None, None, None]"
      ]
     },
     "execution_count": 16,
     "metadata": {},
     "output_type": "execute_result"
    }
   ],
   "source": [
    "from __future__ import print_function\n",
    "map(lambda x: print(x), a)"
   ]
  },
  {
   "cell_type": "markdown",
   "metadata": {},
   "source": [
    "Pay attention for print function here, in Python 2.X it is a syntax error if you don't import print_function from __future__. However, in Python 3.X this issue has been resolved. And **map** function can accept more than one list."
   ]
  },
  {
   "cell_type": "code",
   "execution_count": 17,
   "metadata": {
    "collapsed": false
   },
   "outputs": [
    {
     "data": {
      "text/plain": [
       "[7, 7, 7, 7, 7]"
      ]
     },
     "execution_count": 17,
     "metadata": {},
     "output_type": "execute_result"
    }
   ],
   "source": [
    "map(lambda x, y: x+y, a, range(2,7))"
   ]
  },
  {
   "cell_type": "code",
   "execution_count": 18,
   "metadata": {
    "collapsed": false
   },
   "outputs": [
    {
     "data": {
      "text/plain": [
       "15"
      ]
     },
     "execution_count": 18,
     "metadata": {},
     "output_type": "execute_result"
    }
   ],
   "source": [
    "reduce(lambda x, y: x+y, a)"
   ]
  },
  {
   "cell_type": "markdown",
   "metadata": {},
   "source": [
    "There is a concise and more readable way to create list called list comprehensions."
   ]
  },
  {
   "cell_type": "code",
   "execution_count": 19,
   "metadata": {
    "collapsed": false
   },
   "outputs": [
    {
     "data": {
      "text/plain": [
       "[16, 4]"
      ]
     },
     "execution_count": 19,
     "metadata": {},
     "output_type": "execute_result"
    }
   ],
   "source": [
    "[i**2 for i in a if i % 2 == 0]"
   ]
  },
  {
   "cell_type": "markdown",
   "metadata": {},
   "source": [
    "If a list comprehension is used to construct a list of tuples, the tuple values must be enclosed in parenthese. \n",
    "\n",
    "In **Python 2**, the iteration variables defined within a list comprehension are evaluated within the current scope and remain defined after the list comprehension has executed. In **Python 3**, the iteration variable remains private."
   ]
  },
  {
   "cell_type": "code",
   "execution_count": 20,
   "metadata": {
    "collapsed": false
   },
   "outputs": [
    {
     "name": "stdout",
     "output_type": "stream",
     "text": [
      "[16, 4]\n"
     ]
    }
   ],
   "source": [
    "# equivalent to below\n",
    "result = []\n",
    "for i in a:\n",
    "    if i % 2 == 0:\n",
    "        result.append(i**2)\n",
    "print (result)"
   ]
  },
  {
   "cell_type": "markdown",
   "metadata": {},
   "source": [
    "Python list behaves like a normal array so that individual items can be accessed by providing the positional index of the elment starting from 0.  "
   ]
  },
  {
   "cell_type": "code",
   "execution_count": 21,
   "metadata": {
    "collapsed": false
   },
   "outputs": [
    {
     "data": {
      "text/plain": [
       "43"
      ]
     },
     "execution_count": 21,
     "metadata": {},
     "output_type": "execute_result"
    }
   ],
   "source": [
    "test = [3,5,43,54,65]\n",
    "test[2]"
   ]
  },
  {
   "cell_type": "markdown",
   "metadata": {},
   "source": [
    "One unique feature for the python list is slicing, which will always return a list **even when with one element inside**."
   ]
  },
  {
   "cell_type": "code",
   "execution_count": 22,
   "metadata": {
    "collapsed": false
   },
   "outputs": [
    {
     "data": {
      "text/plain": [
       "list"
      ]
     },
     "execution_count": 22,
     "metadata": {},
     "output_type": "execute_result"
    }
   ],
   "source": [
    "test[0:3]\n",
    "test[1:2]\n",
    "type(test[1:2])"
   ]
  },
  {
   "cell_type": "markdown",
   "metadata": {},
   "source": [
    "To check if a list contains some specific item, use *in* statement as below:"
   ]
  },
  {
   "cell_type": "code",
   "execution_count": 23,
   "metadata": {
    "collapsed": false
   },
   "outputs": [
    {
     "data": {
      "text/plain": [
       "False"
      ]
     },
     "execution_count": 23,
     "metadata": {},
     "output_type": "execute_result"
    }
   ],
   "source": [
    "4 in test"
   ]
  },
  {
   "cell_type": "markdown",
   "metadata": {},
   "source": [
    "## xrange() Objects\n",
    "The built-in function *xrange()* creates an object that represents a rnage of integers *k* such that *i <= k < j*. *xrange* object has its own limit, none of standard slicing operations are supported. In *Python 3*, **xrange()** has been renamed to **range()**. "
   ]
  }
 ],
 "metadata": {
  "kernelspec": {
   "display_name": "Python 2",
   "language": "python",
   "name": "python2"
  },
  "language_info": {
   "codemirror_mode": {
    "name": "ipython",
    "version": 2
   },
   "file_extension": ".py",
   "mimetype": "text/x-python",
   "name": "python",
   "nbconvert_exporter": "python",
   "pygments_lexer": "ipython2",
   "version": "2.7.11"
  }
 },
 "nbformat": 4,
 "nbformat_minor": 0
}
