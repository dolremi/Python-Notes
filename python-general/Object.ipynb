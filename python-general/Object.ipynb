{
 "cells": [
  {
   "cell_type": "markdown",
   "metadata": {},
   "source": [
    "## object\n",
    "In python, everything is *object*. Each *object* includes the __identity__, the __type__ and the __value__."
   ]
  },
  {
   "cell_type": "code",
   "execution_count": 1,
   "metadata": {
    "collapsed": true
   },
   "outputs": [],
   "source": [
    "a = 3"
   ]
  },
  {
   "cell_type": "markdown",
   "metadata": {},
   "source": [
    "## *identity*\n",
    "For instance, an integer *object* has been created. The **identity** can be considered as a pointer to the location in the memeory and __a__ above is the name for that pointer.  "
   ]
  },
  {
   "cell_type": "code",
   "execution_count": 3,
   "metadata": {
    "collapsed": false
   },
   "outputs": [
    {
     "name": "stdout",
     "output_type": "stream",
     "text": [
      "Identity of a is  4298162136\n"
     ]
    }
   ],
   "source": [
    "print \"Identity of a is \", id(a)"
   ]
  },
  {
   "cell_type": "markdown",
   "metadata": {},
   "source": [
    "The built-in function [**id**](https://docs.python.org/2/library/functions.html#id) can return the identity of an object as an integer. Here the identity maps to the memory location of the object. To compare the identity of two objects, one should use *is*."
   ]
  },
  {
   "cell_type": "code",
   "execution_count": 5,
   "metadata": {
    "collapsed": false
   },
   "outputs": [
    {
     "name": "stdout",
     "output_type": "stream",
     "text": [
      "False\n"
     ]
    }
   ],
   "source": [
    "b = 4\n",
    "print a is b"
   ]
  },
  {
   "cell_type": "markdown",
   "metadata": {},
   "source": [
    "## *type*\n",
    "On the other hand, the **type** of the object describes the internal representations of the object as well as the methods and the operations it supports."
   ]
  },
  {
   "cell_type": "code",
   "execution_count": 2,
   "metadata": {
    "collapsed": false
   },
   "outputs": [
    {
     "data": {
      "text/plain": [
       "module"
      ]
     },
     "execution_count": 2,
     "metadata": {},
     "output_type": "execute_result"
    }
   ],
   "source": [
    "import numpy as np\n",
    "type(np)"
   ]
  },
  {
   "cell_type": "markdown",
   "metadata": {},
   "source": [
    "Here **type** itself is an object and is always the same for all instances of a given type. Most built-in types can be found in *type* object, however some will be in [**types**](https://docs.python.org/2/library/types.html). \n",
    "\n",
    "The robust way to test the type of the object will the built-in function [**isinstance**(object, type)](https://docs.python.org/2/library/functions.html#isinstance), since it is aware of inheritance. However, the type checking is not that useful due to the _performance_ issue and the _inheritance_ style"
   ]
  },
  {
   "cell_type": "code",
   "execution_count": 6,
   "metadata": {
    "collapsed": false
   },
   "outputs": [
    {
     "name": "stdout",
     "output_type": "stream",
     "text": [
      "a is an integer\n"
     ]
    }
   ],
   "source": [
    "if isinstance(a, int):\n",
    "    print \"a is an integer\""
   ]
  },
  {
   "cell_type": "markdown",
   "metadata": {},
   "source": [
    "## reference\n",
    "An object that contains references to other objects is said to be a *container* or *collection*. All objects are __reference-counted__.\n",
    "* An object's reference count is *increased* whenever it's assigned to a new name or placed in a container.\n",
    "* An object's reference count is *decreased* by __del__ statement or whenever a reference goes out of scope. When an object's reference count reaches zero, it is garbage-collected."
   ]
  }
 ],
 "metadata": {
  "kernelspec": {
   "display_name": "Python 2",
   "language": "python",
   "name": "python2"
  },
  "language_info": {
   "codemirror_mode": {
    "name": "ipython",
    "version": 2
   },
   "file_extension": ".py",
   "mimetype": "text/x-python",
   "name": "python",
   "nbconvert_exporter": "python",
   "pygments_lexer": "ipython2",
   "version": "2.7.11"
  }
 },
 "nbformat": 4,
 "nbformat_minor": 0
}
