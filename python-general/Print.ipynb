{
 "cells": [
  {
   "cell_type": "markdown",
   "metadata": {},
   "source": [
    "## print\n",
    "There are a lot of confusions in __pint__ for python. Let's clarify it one by one. <br>\n",
    "At first, let's review the simple print *expression*."
   ]
  },
  {
   "cell_type": "code",
   "execution_count": 1,
   "metadata": {
    "collapsed": false
   },
   "outputs": [
    {
     "name": "stdout",
     "output_type": "stream",
     "text": [
      "Hello world\n"
     ]
    }
   ],
   "source": [
    "print \"Hello world\""
   ]
  },
  {
   "cell_type": "markdown",
   "metadata": {},
   "source": [
    "[__print__](https://docs.python.org/2/reference/simple_stmts.html#print) here is the __statement__ not a *function*, which evaluates each expression in turn and write the resultant object to the standard output via converting it into the string"
   ]
  },
  {
   "cell_type": "code",
   "execution_count": 2,
   "metadata": {
    "collapsed": false
   },
   "outputs": [
    {
     "name": "stdout",
     "output_type": "stream",
     "text": [
      "This is the first line\n",
      "And here is the second line\n"
     ]
    }
   ],
   "source": [
    "print \"This is the first line\"\n",
    "print \"And here is the second line\""
   ]
  },
  {
   "cell_type": "markdown",
   "metadata": {},
   "source": [
    "From the example above, one may find that in print statement the newline character \"\\n\" has been automatically added at the end. \n",
    "To get rid of the newline character, comma can be used."
   ]
  },
  {
   "cell_type": "code",
   "execution_count": 3,
   "metadata": {
    "collapsed": false
   },
   "outputs": [
    {
     "name": "stdout",
     "output_type": "stream",
     "text": [
      "This is a test,  so you can understand the issue\n"
     ]
    }
   ],
   "source": [
    "print \"This is a test, \",\n",
    "print \"so you can understand the issue\""
   ]
  },
  {
   "cell_type": "markdown",
   "metadata": {},
   "source": [
    "**print** will output seperate line unless with \",\" after that line shown as above. "
   ]
  },
  {
   "cell_type": "markdown",
   "metadata": {},
   "source": [
    "There is another version of [__print__](https://docs.python.org/2/library/functions.html#print) which is a <font color=\"red\">function</font> not a __*statement*__ anymore. The signature of the function is __print(\\*Objects, sep=\" \", end=\"\\n\", file=sys.stdout)__, in order to trigger the function *print*, one needs to import it from ____future____ module.  "
   ]
  },
  {
   "cell_type": "code",
   "execution_count": 4,
   "metadata": {
    "collapsed": false
   },
   "outputs": [
    {
     "name": "stdout",
     "output_type": "stream",
     "text": [
      "Print from future\n",
      "Newline character is ignored,------------------------------\n",
      "The first,The second\n"
     ]
    }
   ],
   "source": [
    "from __future__ import print_function\n",
    "print(\"Print from future\")\n",
    "print(\"Newline character\", \"is ignored\", end=\",\")\n",
    "print(\"------------------------------\")\n",
    "print(\"The first\", \"The second\", sep=\",\")"
   ]
  },
  {
   "cell_type": "markdown",
   "metadata": {},
   "source": [
    "Therefore, it is very crutial to remember when to use __*print*__ as a <font=\"blue\">function<\\font> or as a <font=\"red\">statement<\\font>. For example, the first argument in the *map* function should be a function thus one needs to use __function__ version of print. "
   ]
  },
  {
   "cell_type": "code",
   "execution_count": 5,
   "metadata": {
    "collapsed": false
   },
   "outputs": [
    {
     "name": "stdout",
     "output_type": "stream",
     "text": [
      "90\n",
      "78\n",
      "102\n",
      "32\n"
     ]
    },
    {
     "data": {
      "text/plain": [
       "[None, None, None, None]"
      ]
     },
     "execution_count": 5,
     "metadata": {},
     "output_type": "execute_result"
    }
   ],
   "source": [
    "from __future__ import print_function\n",
    "a = [90, 78, 102, 32]\n",
    "map(print, a)"
   ]
  },
  {
   "cell_type": "markdown",
   "metadata": {},
   "source": [
    "In Python 3.X, [Print is a function](https://docs.python.org/3.0/whatsnew/3.0.html#print-is-a-function) thus there won't be two versions of print that is very confusing."
   ]
  }
 ],
 "metadata": {
  "kernelspec": {
   "display_name": "Python 2",
   "language": "python",
   "name": "python2"
  },
  "language_info": {
   "codemirror_mode": {
    "name": "ipython",
    "version": 2
   },
   "file_extension": ".py",
   "mimetype": "text/x-python",
   "name": "python",
   "nbconvert_exporter": "python",
   "pygments_lexer": "ipython2",
   "version": "2.7.11"
  }
 },
 "nbformat": 4,
 "nbformat_minor": 0
}
