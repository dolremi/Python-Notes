{
 "cells": [
  {
   "cell_type": "markdown",
   "metadata": {},
   "source": [
    "## program structure\n",
    "Python programs are structured as a sequence of statements. All language features are statements that have equal status with all other statements. When *loading source files*, the interpreter always **executes every statement** in order until there are no more statements to execute. <br>\n",
    "### Iteration\n",
    "If an object supports iterations, it should have those methods:\n",
    "* It must provide a method, *obj.__iter__()* returns an iterator object *iter*\n",
    "* It must implement a single method, *iter.next()* or *iter.__next__()* in Python 3. <br>\n",
    "An object, *s*, supports iteration if it can be used with the following code, which mirrors the implementation of the **for** statement:"
   ]
  },
  {
   "cell_type": "code",
   "execution_count": 2,
   "metadata": {
    "collapsed": false
   },
   "outputs": [],
   "source": [
    "s = [3,4,5]\n",
    "it = s.__iter__()             # Get an iterator for s\n",
    "while 1:\n",
    "    try:\n",
    "        i = it.next()         # Get next item (Use __next__ in Python 3)\n",
    "    except StopIteration:     # No more items\n",
    "        break"
   ]
  },
  {
   "cell_type": "markdown",
   "metadata": {},
   "source": [
    "There is a function that called *enumerate(s)* that creates an iterator that simply returns a sequence of tuples (0, s[0]), (1, s[1]), (2, s[2]), and so on. \n",
    "\n",
    "There is another common looping problem concerns iterating in parallel over two or more sequences."
   ]
  },
  {
   "cell_type": "code",
   "execution_count": 3,
   "metadata": {
    "collapsed": false
   },
   "outputs": [
    {
     "name": "stdout",
     "output_type": "stream",
     "text": [
      "2 3\n",
      "3 4\n",
      "4 6\n",
      "5 7\n"
     ]
    }
   ],
   "source": [
    "s = [2, 3, 4, 5]\n",
    "t = [3, 4, 6, 7]\n",
    "i = 0\n",
    "while i < len(s) and i < len(t):\n",
    "    x = s[i]\n",
    "    y = t[i]\n",
    "    print x, y\n",
    "    i += 1"
   ]
  },
  {
   "cell_type": "code",
   "execution_count": 4,
   "metadata": {
    "collapsed": false
   },
   "outputs": [
    {
     "name": "stdout",
     "output_type": "stream",
     "text": [
      "2 3\n",
      "3 4\n",
      "4 6\n",
      "5 7\n"
     ]
    }
   ],
   "source": [
    "# i can be replaced by zip\n",
    "for x, y in zip(s, t):\n",
    "    print x, y"
   ]
  },
  {
   "cell_type": "markdown",
   "metadata": {},
   "source": [
    "*zip(s,t)* combines sequences *s* and *t* into a sequence of tuples stopping with the shortest of the sequences *s* and *t* should they be of unequal length. "
   ]
  },
  {
   "cell_type": "markdown",
   "metadata": {},
   "source": [
    "The *else* clause of a loop executes only if the loop runs to completion. The primary use case for the looping *else* clause is in code that iterates over data but which needs to set or check some kind of flag or condition if the loop breaks prematurely. "
   ]
  },
  {
   "cell_type": "markdown",
   "metadata": {},
   "source": [
    "## Context Managers\n",
    "The *with* statement allows a series of statements to execute inside a runtime context that is controlled by an object that serves as a context manager. "
   ]
  },
  {
   "cell_type": "code",
   "execution_count": 5,
   "metadata": {
    "collapsed": false
   },
   "outputs": [],
   "source": [
    "#import threading\n",
    "#lock = threading.Lock()\n",
    "#with lock:\n",
    "     # Critical section\n",
    "        # Statement\n",
    "        # End Critical section    "
   ]
  },
  {
   "cell_type": "markdown",
   "metadata": {},
   "source": [
    "The **with** *obj* statement allows the object *obj* to manage what happens when control-flow enters and exits the associated block of statements that follows:\n",
    "* When the with *obj* statement executes, it executes the method *obj.*\\__enter\\__() to signal that a new context is being entered. \n",
    "* When control flow leaves the context, the method *obj.*\\__exit\\__(type, value, traceback) executs.\n",
    "* If no exception is raised, three arguments for *obj.*\\__exit\\__() are set to none. Otherwise, they contain the type, value and traceback associated with the exception that caused control-flow to leave the context. \n",
    "* \\__exit\\__() and \\__enter\\__ methods are called context management protocol. They need to be implemented in order to work with *with* statement. "
   ]
  },
  {
   "cell_type": "markdown",
   "metadata": {},
   "source": [
    "## Functions\n",
    "Functions are defined with the __def__ statement, and the body of it is simply a sequence of statements that execute when the function is called. When a function defines a parameter with a default value, that parameter and all the parameters that follow are optional."
   ]
  },
  {
   "cell_type": "code",
   "execution_count": 6,
   "metadata": {
    "collapsed": true
   },
   "outputs": [],
   "source": [
    "def add(x, y=1):\n",
    "    return x + y"
   ]
  },
  {
   "cell_type": "markdown",
   "metadata": {},
   "source": [
    "The use of mutable objects as default values may lead to unintended behavior, it is better to use **None** and add a check as follows:"
   ]
  },
  {
   "cell_type": "code",
   "execution_count": 7,
   "metadata": {
    "collapsed": true
   },
   "outputs": [],
   "source": [
    "def foo(x, items=None):\n",
    "    if items is None:\n",
    "        items = []\n",
    "    items.append(x)\n",
    "    return items"
   ]
  },
  {
   "cell_type": "markdown",
   "metadata": {},
   "source": [
    "### Arguments"
   ]
  },
  {
   "cell_type": "code",
   "execution_count": 8,
   "metadata": {
    "collapsed": true
   },
   "outputs": [],
   "source": [
    "def fprintf(file, fmt, *args):\n",
    "    file.write(fmt, *args)"
   ]
  },
  {
   "cell_type": "markdown",
   "metadata": {},
   "source": [
    "The *args* has an asterisk in the begining which has a variable number of parameters, and all the remaining arguments are placed into the *args* variable as a tuple. And the variable-length argument list needs to be added to the last parameter name. "
   ]
  },
  {
   "cell_type": "code",
   "execution_count": 9,
   "metadata": {
    "collapsed": false
   },
   "outputs": [],
   "source": [
    "def make_canvas(**parms):\n",
    "    # get all the parameters from parms (a dict)\n",
    "    bgcolor = parms.pop(\"bgcolor\", \"blue\")\n",
    "    brush = parms.pop(\"brush\", \"color\")\n",
    "    width = parms.pop(\"width\", 200)\n",
    "    length = parms.pop(\"length\", None)\n",
    "    \n",
    "    if parms:\n",
    "        raise TypeError(\"Unsupported options %s\" %list(parms))\n",
    "\n",
    "make_canvas(bgcolor=\"blue\", brush=\"color\", width=200, length=300)"
   ]
  },
  {
   "cell_type": "markdown",
   "metadata": {},
   "source": [
    "As shown above, if the last argument of a function definition begins with two asterisks, all the additional keyword arguments are placed in a dictionary and passed to the function. "
   ]
  },
  {
   "cell_type": "code",
   "execution_count": 10,
   "metadata": {
    "collapsed": false
   },
   "outputs": [
    {
     "data": {
      "text/plain": [
       "17"
      ]
     },
     "execution_count": 10,
     "metadata": {},
     "output_type": "execute_result"
    }
   ],
   "source": [
    "def test(t1, t2, t3):\n",
    "    return t1 + t2 + t3\n",
    "\n",
    "test(t1 = 3, t2 = 4, t3 = 10)"
   ]
  },
  {
   "cell_type": "markdown",
   "metadata": {},
   "source": [
    "Function arguments can be supplied by explicitly naming each parameter and specifying a value. These are known as *keyword arguments*. With keyword arguments, the order of the parameters doesn't matter. And positional arguments and keyword arguments can appear in the same function call. "
   ]
  },
  {
   "cell_type": "markdown",
   "metadata": {},
   "source": [
    "### Parameter passing and return values\n",
    "When you pass an immutable value, the argument effectively looks like it was passed by value. When a mutable object is passed to a function, the changes in the object will be reflected in the original object.\n",
    "\n",
    "If no value is specified or you omit the **return** statement, the *None* object is returned. "
   ]
  },
  {
   "cell_type": "markdown",
   "metadata": {},
   "source": [
    "### Scoping rules\n",
    "Each time a function executes, a new local namespace is created. This namespace represents a local environment that contains the names of the function parameters, as well as the names of variables that are assigned inside the function body. \n",
    "\n",
    "To resolve names, the interpreter will searches it as the **following order**:\n",
    "* local namespace\n",
    "* global namespace: it is always the module in which the function was defined\n",
    "* built-in namespace\n",
    "* If all preceding searches fails, a **NameError** exception is raised."
   ]
  },
  {
   "cell_type": "code",
   "execution_count": 11,
   "metadata": {
    "collapsed": false
   },
   "outputs": [
    {
     "name": "stdout",
     "output_type": "stream",
     "text": [
      "45\n"
     ]
    }
   ],
   "source": [
    "a = 45\n",
    "def change():\n",
    "    a = 10\n",
    "change()\n",
    "print a"
   ]
  },
  {
   "cell_type": "markdown",
   "metadata": {},
   "source": [
    "If one wants to change the value of *a* above, use **global** statement can modify *a*."
   ]
  },
  {
   "cell_type": "code",
   "execution_count": 12,
   "metadata": {
    "collapsed": false
   },
   "outputs": [
    {
     "name": "stdout",
     "output_type": "stream",
     "text": [
      "10\n"
     ]
    }
   ],
   "source": [
    "a = 45\n",
    "def change():\n",
    "    global a\n",
    "    a = 10\n",
    "change()\n",
    "print a"
   ]
  },
  {
   "cell_type": "markdown",
   "metadata": {},
   "source": [
    "Variables in nested function are bound using *lexical scoping*. The order name searches is following:\n",
    "* local scope\n",
    "* all enclosing scopes of outer function\n",
    "* global namespace\n",
    "* built-in namespace"
   ]
  },
  {
   "cell_type": "markdown",
   "metadata": {},
   "source": [
    "Python 2 only allows variables to be reassigned in the innermost scope and the global namespace. Thus, an inner function can't reassign the value of a local variable."
   ]
  },
  {
   "cell_type": "code",
   "execution_count": 13,
   "metadata": {
    "collapsed": false
   },
   "outputs": [
    {
     "name": "stdout",
     "output_type": "stream",
     "text": [
      "19\n"
     ]
    }
   ],
   "source": [
    "def modify(start):\n",
    "    n = start\n",
    "    def change():\n",
    "        n =100\n",
    "    change()\n",
    "    print n\n",
    "modify(19)"
   ]
  },
  {
   "cell_type": "markdown",
   "metadata": {},
   "source": [
    "In Python 3, you can declare *n* as nonlocal if you want to change *n*. "
   ]
  },
  {
   "cell_type": "markdown",
   "metadata": {},
   "source": [
    "## Closure\n",
    "When a function is handled as data, it implicitly carries information related to the surrounding environment where the function was defined. When the statements that make up a function are packaged together with the environment in which they execute, the resulting object is known as a *closure*."
   ]
  },
  {
   "cell_type": "code",
   "execution_count": 14,
   "metadata": {
    "collapsed": false
   },
   "outputs": [
    {
     "data": {
      "text/plain": [
       "{'In': ['',\n",
       "  u'modify.__globals__',\n",
       "  u's = [3,4,5]\\nit = s.__iter__()             # Get an iterator for s\\nwhile 1:\\n    try:\\n        i = it.next()         # Get next item (Use __next__ in Python 3)\\n    except StopIteration:     # No more items\\n        break',\n",
       "  u's = [2, 3, 4, 5]\\nt = [3, 4, 6, 7]\\ni = 0\\nwhile i < len(s) and i < len(t):\\n    x = s[i]\\n    y = t[i]\\n    print x, y\\n    i += 1',\n",
       "  u'# i can be replaced by zip\\nfor x, y in zip(s, t):\\n    print x, y',\n",
       "  u'#import threading\\n#lock = threading.Lock()\\n#with lock:\\n     # Critical section\\n        # Statement\\n        # End Critical section    ',\n",
       "  u'def add(x, y=1):\\n    return x + y',\n",
       "  u'def foo(x, items=None):\\n    if items is None:\\n        items = []\\n    items.append(x)\\n    return items',\n",
       "  u'def fprintf(file, fmt, *args):\\n    file.write(fmt, *args)',\n",
       "  u'def make_canvas(**parms):\\n    # get all the parameters from parms (a dict)\\n    bgcolor = parms.pop(\"bgcolor\", \"blue\")\\n    brush = parms.pop(\"brush\", \"color\")\\n    width = parms.pop(\"width\", 200)\\n    length = parms.pop(\"length\", None)\\n    \\n    if parms:\\n        raise TypeError(\"Unsupported options %s\" %list(parms))\\n\\nmake_canvas(bgcolor=\"blue\", brush=\"color\", width=200, length=300)',\n",
       "  u'def test(t1, t2, t3):\\n    return t1 + t2 + t3\\n\\ntest(t1 = 3, t2 = 4, t3 = 10)',\n",
       "  u'a = 45\\ndef change():\\n    a = 10\\nchange()\\nprint a',\n",
       "  u'a = 45\\ndef change():\\n    global a\\n    a = 10\\nchange()\\nprint a',\n",
       "  u'def modify(start):\\n    n = start\\n    def change():\\n        n =100\\n    change()\\n    print n\\nmodify(19)',\n",
       "  u'modify.__globals__'],\n",
       " 'Out': {10: 17},\n",
       " '_': 17,\n",
       " '_10': 17,\n",
       " '__': '',\n",
       " '___': '',\n",
       " '__builtin__': <module '__builtin__' (built-in)>,\n",
       " '__builtins__': <module '__builtin__' (built-in)>,\n",
       " '__doc__': '\\nCreated on Tue Sep 30 21:43:04 2014\\n\\n@author: jiaxu\\n',\n",
       " '__name__': '__main__',\n",
       " '_dh': [u'/Users/jiaxu/Documents/Python-Notes/python-general'],\n",
       " '_i': u'def modify(start):\\n    n = start\\n    def change():\\n        n =100\\n    change()\\n    print n\\nmodify(19)',\n",
       " '_i1': u'modify.__globals__',\n",
       " '_i10': u'def test(t1, t2, t3):\\n    return t1 + t2 + t3\\n\\ntest(t1 = 3, t2 = 4, t3 = 10)',\n",
       " '_i11': u'a = 45\\ndef change():\\n    a = 10\\nchange()\\nprint a',\n",
       " '_i12': u'a = 45\\ndef change():\\n    global a\\n    a = 10\\nchange()\\nprint a',\n",
       " '_i13': u'def modify(start):\\n    n = start\\n    def change():\\n        n =100\\n    change()\\n    print n\\nmodify(19)',\n",
       " '_i14': u'modify.__globals__',\n",
       " '_i2': u's = [3,4,5]\\nit = s.__iter__()             # Get an iterator for s\\nwhile 1:\\n    try:\\n        i = it.next()         # Get next item (Use __next__ in Python 3)\\n    except StopIteration:     # No more items\\n        break',\n",
       " '_i3': u's = [2, 3, 4, 5]\\nt = [3, 4, 6, 7]\\ni = 0\\nwhile i < len(s) and i < len(t):\\n    x = s[i]\\n    y = t[i]\\n    print x, y\\n    i += 1',\n",
       " '_i4': u'# i can be replaced by zip\\nfor x, y in zip(s, t):\\n    print x, y',\n",
       " '_i5': u'#import threading\\n#lock = threading.Lock()\\n#with lock:\\n     # Critical section\\n        # Statement\\n        # End Critical section    ',\n",
       " '_i6': u'def add(x, y=1):\\n    return x + y',\n",
       " '_i7': u'def foo(x, items=None):\\n    if items is None:\\n        items = []\\n    items.append(x)\\n    return items',\n",
       " '_i8': u'def fprintf(file, fmt, *args):\\n    file.write(fmt, *args)',\n",
       " '_i9': u'def make_canvas(**parms):\\n    # get all the parameters from parms (a dict)\\n    bgcolor = parms.pop(\"bgcolor\", \"blue\")\\n    brush = parms.pop(\"brush\", \"color\")\\n    width = parms.pop(\"width\", 200)\\n    length = parms.pop(\"length\", None)\\n    \\n    if parms:\\n        raise TypeError(\"Unsupported options %s\" %list(parms))\\n\\nmake_canvas(bgcolor=\"blue\", brush=\"color\", width=200, length=300)',\n",
       " '_ih': ['',\n",
       "  u'modify.__globals__',\n",
       "  u's = [3,4,5]\\nit = s.__iter__()             # Get an iterator for s\\nwhile 1:\\n    try:\\n        i = it.next()         # Get next item (Use __next__ in Python 3)\\n    except StopIteration:     # No more items\\n        break',\n",
       "  u's = [2, 3, 4, 5]\\nt = [3, 4, 6, 7]\\ni = 0\\nwhile i < len(s) and i < len(t):\\n    x = s[i]\\n    y = t[i]\\n    print x, y\\n    i += 1',\n",
       "  u'# i can be replaced by zip\\nfor x, y in zip(s, t):\\n    print x, y',\n",
       "  u'#import threading\\n#lock = threading.Lock()\\n#with lock:\\n     # Critical section\\n        # Statement\\n        # End Critical section    ',\n",
       "  u'def add(x, y=1):\\n    return x + y',\n",
       "  u'def foo(x, items=None):\\n    if items is None:\\n        items = []\\n    items.append(x)\\n    return items',\n",
       "  u'def fprintf(file, fmt, *args):\\n    file.write(fmt, *args)',\n",
       "  u'def make_canvas(**parms):\\n    # get all the parameters from parms (a dict)\\n    bgcolor = parms.pop(\"bgcolor\", \"blue\")\\n    brush = parms.pop(\"brush\", \"color\")\\n    width = parms.pop(\"width\", 200)\\n    length = parms.pop(\"length\", None)\\n    \\n    if parms:\\n        raise TypeError(\"Unsupported options %s\" %list(parms))\\n\\nmake_canvas(bgcolor=\"blue\", brush=\"color\", width=200, length=300)',\n",
       "  u'def test(t1, t2, t3):\\n    return t1 + t2 + t3\\n\\ntest(t1 = 3, t2 = 4, t3 = 10)',\n",
       "  u'a = 45\\ndef change():\\n    a = 10\\nchange()\\nprint a',\n",
       "  u'a = 45\\ndef change():\\n    global a\\n    a = 10\\nchange()\\nprint a',\n",
       "  u'def modify(start):\\n    n = start\\n    def change():\\n        n =100\\n    change()\\n    print n\\nmodify(19)',\n",
       "  u'modify.__globals__'],\n",
       " '_ii': u'a = 45\\ndef change():\\n    global a\\n    a = 10\\nchange()\\nprint a',\n",
       " '_iii': u'a = 45\\ndef change():\\n    a = 10\\nchange()\\nprint a',\n",
       " '_oh': {10: 17},\n",
       " '_sh': <module 'IPython.core.shadowns' from '/Users/jiaxu/anaconda/lib/python2.7/site-packages/IPython/core/shadowns.pyc'>,\n",
       " 'a': 10,\n",
       " 'add': <function __main__.add>,\n",
       " 'change': <function __main__.change>,\n",
       " 'debug': <function __main__.debug>,\n",
       " 'exit': <IPython.core.autocall.ZMQExitAutocall at 0x1040548d0>,\n",
       " 'foo': <function __main__.foo>,\n",
       " 'fprintf': <function __main__.fprintf>,\n",
       " 'get_ipython': <bound method ZMQInteractiveShell.get_ipython of <ipykernel.zmqshell.ZMQInteractiveShell object at 0x103e8f390>>,\n",
       " 'i': 4,\n",
       " 'it': <listiterator at 0x1041b9390>,\n",
       " 'make_canvas': <function __main__.make_canvas>,\n",
       " 'modify': <function __main__.modify>,\n",
       " 'quit': <IPython.core.autocall.ZMQExitAutocall at 0x1040548d0>,\n",
       " 's': [2, 3, 4, 5],\n",
       " 'set_trace': <function __main__.set_trace>,\n",
       " 't': [3, 4, 6, 7],\n",
       " 'test': <function __main__.test>,\n",
       " 'x': 5,\n",
       " 'y': 7}"
      ]
     },
     "execution_count": 14,
     "metadata": {},
     "output_type": "execute_result"
    }
   ],
   "source": [
    "modify.__globals__"
   ]
  },
  {
   "cell_type": "markdown",
   "metadata": {},
   "source": [
    "Like the preceding example, the *globals* attribute points to the global namespace in which the function was defined."
   ]
  },
  {
   "cell_type": "code",
   "execution_count": 15,
   "metadata": {
    "collapsed": true
   },
   "outputs": [],
   "source": [
    "from urllib import urlopen\n",
    "def page(url):\n",
    "    def get():\n",
    "        return urlopen(url).read()\n",
    "    return get"
   ]
  },
  {
   "cell_type": "markdown",
   "metadata": {},
   "source": [
    "From the code above, the *page* function merely creates and returns a function *get()* that will fetch the contents of a web page when it is called. "
   ]
  },
  {
   "cell_type": "code",
   "execution_count": 16,
   "metadata": {
    "collapsed": true
   },
   "outputs": [],
   "source": [
    "python = page(\"http://www.python.org\")\n",
    "jython = page(\"http://www.jython.org\")"
   ]
  },
  {
   "cell_type": "code",
   "execution_count": 17,
   "metadata": {
    "collapsed": false
   },
   "outputs": [
    {
     "data": {
      "text/plain": [
       "<function __main__.get>"
      ]
     },
     "execution_count": 17,
     "metadata": {},
     "output_type": "execute_result"
    }
   ],
   "source": [
    "python"
   ]
  },
  {
   "cell_type": "code",
   "execution_count": 19,
   "metadata": {
    "collapsed": false
   },
   "outputs": [
    {
     "data": {
      "text/plain": [
       "<function __main__.get>"
      ]
     },
     "execution_count": 19,
     "metadata": {},
     "output_type": "execute_result"
    }
   ],
   "source": [
    "jython"
   ]
  },
  {
   "cell_type": "code",
   "execution_count": 20,
   "metadata": {
    "collapsed": true
   },
   "outputs": [],
   "source": [
    "pydata = python()\n",
    "jydata = jython()"
   ]
  },
  {
   "cell_type": "markdown",
   "metadata": {},
   "source": [
    "One can view the contents of variables that are carried along a closure. "
   ]
  },
  {
   "cell_type": "code",
   "execution_count": 21,
   "metadata": {
    "collapsed": false
   },
   "outputs": [
    {
     "data": {
      "text/plain": [
       "(<cell at 0x10418af68: str object at 0x104189f30>,)"
      ]
     },
     "execution_count": 21,
     "metadata": {},
     "output_type": "execute_result"
    }
   ],
   "source": [
    "python.__closure__"
   ]
  },
  {
   "cell_type": "code",
   "execution_count": 22,
   "metadata": {
    "collapsed": false
   },
   "outputs": [
    {
     "data": {
      "text/plain": [
       "'http://www.python.org'"
      ]
     },
     "execution_count": 22,
     "metadata": {},
     "output_type": "execute_result"
    }
   ],
   "source": [
    "python.__closure__[0].cell_contents"
   ]
  },
  {
   "cell_type": "markdown",
   "metadata": {},
   "source": [
    "A closure can be a highly efficient way to preserve state across a series of function calls. \n",
    "\n",
    "Python does not perform **tail-recursion optimization** that you often find in functional languages such as *Scheme*."
   ]
  }
 ],
 "metadata": {
  "kernelspec": {
   "display_name": "Python 2",
   "language": "python",
   "name": "python2"
  },
  "language_info": {
   "codemirror_mode": {
    "name": "ipython",
    "version": 2
   },
   "file_extension": ".py",
   "mimetype": "text/x-python",
   "name": "python",
   "nbconvert_exporter": "python",
   "pygments_lexer": "ipython2",
   "version": "2.7.11"
  }
 },
 "nbformat": 4,
 "nbformat_minor": 0
}
