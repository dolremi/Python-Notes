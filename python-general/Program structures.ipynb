{
 "cells": [
  {
   "cell_type": "markdown",
   "metadata": {},
   "source": [
    "## program structure\n",
    "Python programs are structured as a sequence of statements. All language features are statements that have equal status with all other statements. When *loading source files*, the interpreter always **executes every statement** in order until there are no more statements to execute. <br>\n",
    "### Iteration\n",
    "If an object supports iterations, it should have those methods:\n",
    "* It must provide a method, *obj.__iter__()* returns an iterator object *iter*\n",
    "* It must implement a single method, *iter.next()* or *iter.__next__()* in Python 3. <br>\n",
    "An object, *s*, supports iteration if it can be used with the following code, which mirrors the implementation of the **for** statement:"
   ]
  },
  {
   "cell_type": "code",
   "execution_count": 1,
   "metadata": {
    "collapsed": false
   },
   "outputs": [],
   "source": [
    "s = [3,4,5]\n",
    "it = s.__iter__()             # Get an iterator for s\n",
    "while 1:\n",
    "    try:\n",
    "        i = it.next()         # Get next item (Use __next__ in Python 3)\n",
    "    except StopIteration:     # No more items\n",
    "        break"
   ]
  },
  {
   "cell_type": "markdown",
   "metadata": {},
   "source": [
    "There is a function that called *enumerate(s)* that creates an iterator that simply returns a sequence of tuples (0, s[0]), (1, s[1]), (2, s[2]), and so on. \n",
    "\n",
    "There is another common looping problem concerns iterating in parallel over two or more sequences."
   ]
  },
  {
   "cell_type": "code",
   "execution_count": 2,
   "metadata": {
    "collapsed": false
   },
   "outputs": [
    {
     "name": "stdout",
     "output_type": "stream",
     "text": [
      "2 3\n",
      "3 4\n",
      "4 6\n",
      "5 7\n"
     ]
    }
   ],
   "source": [
    "s = [2, 3, 4, 5]\n",
    "t = [3, 4, 6, 7]\n",
    "i = 0\n",
    "while i < len(s) and i < len(t):\n",
    "    x = s[i]\n",
    "    y = t[i]\n",
    "    print x, y\n",
    "    i += 1"
   ]
  },
  {
   "cell_type": "code",
   "execution_count": 3,
   "metadata": {
    "collapsed": false
   },
   "outputs": [
    {
     "name": "stdout",
     "output_type": "stream",
     "text": [
      "2 3\n",
      "3 4\n",
      "4 6\n",
      "5 7\n"
     ]
    }
   ],
   "source": [
    "# i can be replaced by zip\n",
    "for x, y in zip(s, t):\n",
    "    print x, y"
   ]
  },
  {
   "cell_type": "markdown",
   "metadata": {},
   "source": [
    "*zip(s,t)* combines sequences *s* and *t* into a sequence of tuples stopping with the shortest of the sequences *s* and *t* should they be of unequal length. "
   ]
  },
  {
   "cell_type": "markdown",
   "metadata": {},
   "source": [
    "The *else* clause of a loop executes only if the loop runs to completion. The primary use case for the looping *else* clause is in code that iterates over data but which needs to set or check some kind of flag or condition if the loop breaks prematurely. "
   ]
  },
  {
   "cell_type": "markdown",
   "metadata": {},
   "source": [
    "## Context Managers\n",
    "The *with* statement allows a series of statements to execute inside a runtime context that is controlled by an object that serves as a context manager. "
   ]
  },
  {
   "cell_type": "code",
   "execution_count": 4,
   "metadata": {
    "collapsed": false
   },
   "outputs": [],
   "source": [
    "#import threading\n",
    "#lock = threading.Lock()\n",
    "#with lock:\n",
    "     # Critical section\n",
    "        # Statement\n",
    "        # End Critical section    "
   ]
  },
  {
   "cell_type": "markdown",
   "metadata": {},
   "source": [
    "The **with** *obj* statement allows the object *obj* to manage what happens when control-flow enters and exits the associated block of statements that follows:\n",
    "* When the with *obj* statement executes, it executes the method *obj.*\\__enter\\__() to signal that a new context is being entered. \n",
    "* When control flow leaves the context, the method *obj.*\\__exit\\__(type, value, traceback) executs.\n",
    "* If no exception is raised, three arguments for *obj.*\\__exit\\__() are set to none. Otherwise, they contain the type, value and traceback associated with the exception that caused control-flow to leave the context. \n",
    "* \\__exit\\__() and \\__enter\\__ methods are called context management protocol. They need to be implemented in order to work with *with* statement. "
   ]
  }
 ],
 "metadata": {
  "kernelspec": {
   "display_name": "Python 2",
   "language": "python",
   "name": "python2"
  },
  "language_info": {
   "codemirror_mode": {
    "name": "ipython",
    "version": 2
   },
   "file_extension": ".py",
   "mimetype": "text/x-python",
   "name": "python",
   "nbconvert_exporter": "python",
   "pygments_lexer": "ipython2",
   "version": "2.7.11"
  }
 },
 "nbformat": 4,
 "nbformat_minor": 0
}
