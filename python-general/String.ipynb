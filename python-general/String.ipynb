{
 "cells": [
  {
   "cell_type": "markdown",
   "metadata": {},
   "source": [
    "# String\n",
    "In general, Python has two types of string data: **byte string** and **Unicode string**. Byte strings differ from their Unicode counterpart in that they are usually assumed to be encoded, wheras Unicode strings represent raw unencoded character values.  <br>\n",
    "Python has a rich-features [**string**](https://docs.python.org/2/library/stdtypes.html#string-methods) module and methods. Let's first look at how to represent a string:"
   ]
  },
  {
   "cell_type": "code",
   "execution_count": 1,
   "metadata": {
    "collapsed": true
   },
   "outputs": [],
   "source": [
    "s = \"Hello world\"\n",
    "s = 'Hello world'"
   ]
  },
  {
   "cell_type": "markdown",
   "metadata": {},
   "source": [
    "The two strings above are the same and usefull to contain quotes of different types. For a string span more than one line, the triple double quotes will be used."
   ]
  },
  {
   "cell_type": "code",
   "execution_count": 2,
   "metadata": {
    "collapsed": true
   },
   "outputs": [],
   "source": [
    "long_s = \"\"\"Hello\n",
    "            World\n",
    "            This is a test for\n",
    "            long string spanning multiple\n",
    "            lines\"\"\""
   ]
  },
  {
   "cell_type": "markdown",
   "metadata": {},
   "source": [
    "The triple double quotes can be used as comments for [documentation](https://www.python.org/dev/peps/pep-0257/) purpose called **docstring**. The [Sphinx](http://faculty.washington.edu/rjl/uwhpsc-coursera/sphinx.html#sphinx) can be used to interpret those docstrings into a html or latex files."
   ]
  },
  {
   "cell_type": "code",
   "execution_count": 3,
   "metadata": {
    "collapsed": true
   },
   "outputs": [],
   "source": [
    "def myfunction():\n",
    "    \"\"\"It is a test function\"\"\"\n",
    "    pass\n"
   ]
  },
  {
   "cell_type": "code",
   "execution_count": 4,
   "metadata": {
    "collapsed": true
   },
   "outputs": [],
   "source": [
    "myfunction?"
   ]
  },
  {
   "cell_type": "markdown",
   "metadata": {},
   "source": [
    "## string format\n",
    "[String Format](https://docs.python.org/release/2.5.2/lib/typesseq-strings.html) use a % (modulo) operator to produce a formatted string, given a format string and a collection of objects in a tuple or dictionary. The function of the operator is similar to *sprintf()* from C. "
   ]
  },
  {
   "cell_type": "code",
   "execution_count": 5,
   "metadata": {
    "collapsed": false
   },
   "outputs": [
    {
     "name": "stdout",
     "output_type": "stream",
     "text": [
      "This is a 1.32 \n"
     ]
    }
   ],
   "source": [
    "x = 1.32\n",
    "print \"This is a %s \" %x"
   ]
  },
  {
   "cell_type": "code",
   "execution_count": 6,
   "metadata": {
    "collapsed": false
   },
   "outputs": [
    {
     "name": "stdout",
     "output_type": "stream",
     "text": [
      "X = 0000000032\n"
     ]
    }
   ],
   "source": [
    "x = 32\n",
    "print \"X = %010d\" % x"
   ]
  },
  {
   "cell_type": "code",
   "execution_count": 7,
   "metadata": {
    "collapsed": false
   },
   "outputs": [
    {
     "name": "stdout",
     "output_type": "stream",
     "text": [
      "Mike is 45 old now.\n"
     ]
    }
   ],
   "source": [
    "name = \"Mike\"\n",
    "age = 45\n",
    "print \"%(name)s is %(age)s old now.\" %vars()"
   ]
  },
  {
   "cell_type": "code",
   "execution_count": 8,
   "metadata": {
    "collapsed": false
   },
   "outputs": [
    {
     "name": "stdout",
     "output_type": "stream",
     "text": [
      "Some fancy format can be found 3.243e+01\n"
     ]
    }
   ],
   "source": [
    "x = 32.43\n",
    "print \"Some fancy format can be found %1.3e\" %x"
   ]
  },
  {
   "cell_type": "markdown",
   "metadata": {},
   "source": [
    "More than one variable can be specified in this format as a tuple. More interesting part is a dictionary can be applied in the string format."
   ]
  },
  {
   "cell_type": "code",
   "execution_count": 9,
   "metadata": {
    "collapsed": false
   },
   "outputs": [
    {
     "name": "stdout",
     "output_type": "stream",
     "text": [
      "y is 6.543, z is 3.49\n"
     ]
    }
   ],
   "source": [
    "y = 6.543\n",
    "z = 3.490\n",
    "print \"y is %s, z is %s\" %(y, z)"
   ]
  },
  {
   "cell_type": "code",
   "execution_count": 10,
   "metadata": {
    "collapsed": false
   },
   "outputs": [
    {
     "name": "stdout",
     "output_type": "stream",
     "text": [
      "Name is Steve,  age is 25 \n"
     ]
    }
   ],
   "source": [
    "print \"Name is %(name)s,  age is %(age)d \" %{'name': \"Steve\", 'age': 25}"
   ]
  },
  {
   "cell_type": "markdown",
   "metadata": {},
   "source": [
    "There is another way of string formatting is *s.format( *args, \\*kwargs)* on _string_ module. This method collects an arbitrary collection of positional and keyword arguments and substitutes their values into placeholders embedded. "
   ]
  },
  {
   "cell_type": "code",
   "execution_count": 11,
   "metadata": {
    "collapsed": false
   },
   "outputs": [
    {
     "name": "stdout",
     "output_type": "stream",
     "text": [
      "GOOG 100 490.1\n"
     ]
    }
   ],
   "source": [
    "print \"{name} {shares} {price}\".format(name=\"GOOG\", shares=100,price=490.10)"
   ]
  },
  {
   "cell_type": "code",
   "execution_count": 12,
   "metadata": {
    "collapsed": false
   },
   "outputs": [
    {
     "name": "stdout",
     "output_type": "stream",
     "text": [
      "GOOG 100 490.1\n"
     ]
    }
   ],
   "source": [
    "stock = { 'name' : 'GOOG',\n",
    "           'shares' : 100,\n",
    "           'price': 490.10}\n",
    "print \"{0[name]} {0[shares]} {0[price]}\".format(stock)"
   ]
  },
  {
   "cell_type": "code",
   "execution_count": 13,
   "metadata": {
    "collapsed": false
   },
   "outputs": [
    {
     "name": "stdout",
     "output_type": "stream",
     "text": [
      "3.0 4.0\n"
     ]
    }
   ],
   "source": [
    "x = 3 + 4j\n",
    "print \"{0.real} {0.imag}\".format(x)"
   ]
  },
  {
   "cell_type": "code",
   "execution_count": 14,
   "metadata": {
    "collapsed": false
   },
   "outputs": [
    {
     "name": "stdout",
     "output_type": "stream",
     "text": [
      "GOOG          100   490.10\n"
     ]
    }
   ],
   "source": [
    "print \"{name:8} {shares:8d} {price:8.2f}\".format(name=\"GOOG\", shares=100, price=490.10)"
   ]
  },
  {
   "cell_type": "code",
   "execution_count": 15,
   "metadata": {
    "collapsed": false
   },
   "outputs": [
    {
     "name": "stdout",
     "output_type": "stream",
     "text": [
      "Jia       \n",
      "       Jia\n",
      "   Jia    \n",
      "===Jia====\n"
     ]
    }
   ],
   "source": [
    "name = \"Jia\"\n",
    "print \"{0:<10}\".format(name)\n",
    "print \"{0:>10}\".format(name)\n",
    "print \"{0:^10}\".format(name)\n",
    "print \"{0:=^10}\".format(name)"
   ]
  },
  {
   "cell_type": "markdown",
   "metadata": {},
   "source": [
    "## slicing\n",
    "Like a python list, one can access individual values of the string via slicing with index. However, different from other languages such as C/C++, python doesn't support a character type. Thus even one character is considered as a string of length one. "
   ]
  },
  {
   "cell_type": "code",
   "execution_count": 16,
   "metadata": {
    "collapsed": false
   },
   "outputs": [
    {
     "name": "stdout",
     "output_type": "stream",
     "text": [
      "l\n",
      "o, I\n"
     ]
    }
   ],
   "source": [
    "well = \"Hello, I am a string!\"\n",
    "print well[3]\n",
    "print well[4:8]"
   ]
  },
  {
   "cell_type": "code",
   "execution_count": 17,
   "metadata": {
    "collapsed": false
   },
   "outputs": [
    {
     "name": "stdout",
     "output_type": "stream",
     "text": [
      "hello hello hello \n"
     ]
    }
   ],
   "source": [
    "# repeat the same string multiple times\n",
    "print \"hello \" * 3"
   ]
  },
  {
   "cell_type": "code",
   "execution_count": 18,
   "metadata": {
    "collapsed": false
   },
   "outputs": [
    {
     "name": "stdout",
     "output_type": "stream",
     "text": [
      "\\n\n",
      "\n",
      "\n"
     ]
    }
   ],
   "source": [
    "# print the raw string\n",
    "print r\"\\n\"\n",
    "print \"\\n\""
   ]
  },
  {
   "cell_type": "markdown",
   "metadata": {},
   "source": [
    "String in python has a lot of built-in functions that can be used for searching, editing or other manipulating. Below we will walk through several examples below."
   ]
  },
  {
   "cell_type": "code",
   "execution_count": 19,
   "metadata": {
    "collapsed": false
   },
   "outputs": [
    {
     "name": "stdout",
     "output_type": "stream",
     "text": [
      "wE WILL TRY THIS CASE lATER oN!\n"
     ]
    }
   ],
   "source": [
    "# swap the case in the string\n",
    "a = \"We will try this case Later On!\"\n",
    "print a.swapcase()"
   ]
  },
  {
   "cell_type": "code",
   "execution_count": 20,
   "metadata": {
    "collapsed": false
   },
   "outputs": [
    {
     "name": "stdout",
     "output_type": "stream",
     "text": [
      "We-have-an-idea-that-may-help\n"
     ]
    }
   ],
   "source": [
    "# split the string then connected by some delimitor \n",
    "b = \"We have an idea that may help\"\n",
    "b = b.split() # default delimitor is \" \" space\n",
    "print \"-\".join(b) # here the argument for join function should be a sequence"
   ]
  },
  {
   "cell_type": "markdown",
   "metadata": {},
   "source": [
    "The string cannot be modified by assigning a value to individual substring. Convert a string to a list then modify it could do the job."
   ]
  },
  {
   "cell_type": "code",
   "execution_count": 21,
   "metadata": {
    "collapsed": false
   },
   "outputs": [
    {
     "data": {
      "text/plain": [
       "True"
      ]
     },
     "execution_count": 21,
     "metadata": {},
     "output_type": "execute_result"
    }
   ],
   "source": [
    "\"t123214gafes\".isalnum()"
   ]
  },
  {
   "cell_type": "code",
   "execution_count": 22,
   "metadata": {
    "collapsed": false
   },
   "outputs": [
    {
     "data": {
      "text/plain": [
       "False"
      ]
     },
     "execution_count": 22,
     "metadata": {},
     "output_type": "execute_result"
    }
   ],
   "source": [
    "\"t123214gafes\".isalpha()"
   ]
  },
  {
   "cell_type": "code",
   "execution_count": 23,
   "metadata": {
    "collapsed": false
   },
   "outputs": [
    {
     "name": "stdout",
     "output_type": "stream",
     "text": [
      "Time To Fire Him\n"
     ]
    }
   ],
   "source": [
    "s = \"time to fire him\"\n",
    "print s.title()"
   ]
  }
 ],
 "metadata": {
  "kernelspec": {
   "display_name": "Python 2",
   "language": "python",
   "name": "python2"
  },
  "language_info": {
   "codemirror_mode": {
    "name": "ipython",
    "version": 2
   },
   "file_extension": ".py",
   "mimetype": "text/x-python",
   "name": "python",
   "nbconvert_exporter": "python",
   "pygments_lexer": "ipython2",
   "version": "2.7.11"
  }
 },
 "nbformat": 4,
 "nbformat_minor": 0
}
